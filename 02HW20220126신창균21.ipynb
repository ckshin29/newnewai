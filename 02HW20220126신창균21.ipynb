{
  "nbformat": 4,
  "nbformat_minor": 0,
  "metadata": {
    "colab": {
      "name": "02HW20220126신창균21",
      "provenance": [],
      "authorship_tag": "ABX9TyMKx5lIWApkcO2h4d7fvKqZ",
      "include_colab_link": true
    },
    "kernelspec": {
      "name": "python3",
      "display_name": "Python 3"
    },
    "language_info": {
      "name": "python"
    }
  },
  "cells": [
    {
      "cell_type": "markdown",
      "metadata": {
        "id": "view-in-github",
        "colab_type": "text"
      },
      "source": [
        "<a href=\"https://colab.research.google.com/github/ckshin29/ai/blob/main/02HW20220126%EC%8B%A0%EC%B0%BD%EA%B7%A021.ipynb\" target=\"_parent\"><img src=\"https://colab.research.google.com/assets/colab-badge.svg\" alt=\"Open In Colab\"/></a>"
      ]
    },
    {
      "cell_type": "code",
      "execution_count": 1,
      "metadata": {
        "colab": {
          "base_uri": "https://localhost:8080/"
        },
        "id": "CmESexSya54T",
        "outputId": "24d4436e-ed4f-486b-87b0-8fa489928736"
      },
      "outputs": [
        {
          "output_type": "stream",
          "name": "stdout",
          "text": [
            "['닥터 스트레인지', '스플릿', '럭키']\n"
          ]
        }
      ],
      "source": [
        "#51\n",
        "\n",
        "movie_rank = ['닥터 스트레인지','스플릿' , '럭키']\n",
        "print(movie_rank)"
      ]
    },
    {
      "cell_type": "code",
      "source": [
        "#52\n",
        "\n",
        "movie_rank = ['닥터 스트레인지','스플릿' , '럭키']\n",
        "movie_rank.append('배트맨')\n",
        "print(movie_rank)"
      ],
      "metadata": {
        "colab": {
          "base_uri": "https://localhost:8080/"
        },
        "id": "vYlkpXgudg47",
        "outputId": "1ab7f013-9041-4e28-ce40-effb97fab436"
      },
      "execution_count": 2,
      "outputs": [
        {
          "output_type": "stream",
          "name": "stdout",
          "text": [
            "['닥터 스트레인지', '스플릿', '럭키', '배트맨']\n"
          ]
        }
      ]
    },
    {
      "cell_type": "code",
      "source": [
        "#53\n",
        "movie_rank.insert(1,'슈퍼맨')\n",
        "print(movie_rank)\n",
        "\n"
      ],
      "metadata": {
        "colab": {
          "base_uri": "https://localhost:8080/"
        },
        "id": "MnI4NMP1gNVb",
        "outputId": "3c5faa9f-4449-44fb-91f0-e8606b56c42a"
      },
      "execution_count": 3,
      "outputs": [
        {
          "output_type": "stream",
          "name": "stdout",
          "text": [
            "['닥터 스트레인지', '슈퍼맨', '스플릿', '럭키', '배트맨']\n"
          ]
        }
      ]
    },
    {
      "cell_type": "code",
      "source": [
        "#54\n",
        "\n",
        "del movie_rank[3]\n",
        "print(movie_rank)\n"
      ],
      "metadata": {
        "colab": {
          "base_uri": "https://localhost:8080/"
        },
        "id": "f75TtJX1gaTJ",
        "outputId": "79c8709f-59f7-46b8-de1d-289cd6fd8b77"
      },
      "execution_count": 4,
      "outputs": [
        {
          "output_type": "stream",
          "name": "stdout",
          "text": [
            "['닥터 스트레인지', '슈퍼맨', '스플릿', '배트맨']\n"
          ]
        }
      ]
    },
    {
      "cell_type": "code",
      "source": [
        "#55\n",
        "\n",
        "del movie_rank[2:]\n",
        "print(movie_rank)"
      ],
      "metadata": {
        "colab": {
          "base_uri": "https://localhost:8080/"
        },
        "id": "0K-BKkdyhM3w",
        "outputId": "5d919d5c-2343-4323-f5ae-30dd7dd6fadd"
      },
      "execution_count": 5,
      "outputs": [
        {
          "output_type": "stream",
          "name": "stdout",
          "text": [
            "['닥터 스트레인지', '슈퍼맨']\n"
          ]
        }
      ]
    },
    {
      "cell_type": "code",
      "source": [
        "#56\n",
        "\n",
        "lang1= [\"C\" , \"C++\", \"JAVA\"]\n",
        "lang2= [\"Python\" , \"Go\", \"C#\"]\n",
        "\n",
        "print(lang1+lang2)"
      ],
      "metadata": {
        "colab": {
          "base_uri": "https://localhost:8080/"
        },
        "id": "3Q81-w28haeR",
        "outputId": "48b76a34-3a56-4561-c14e-c6f1020f0d77"
      },
      "execution_count": 6,
      "outputs": [
        {
          "output_type": "stream",
          "name": "stdout",
          "text": [
            "['C', 'C++', 'JAVA', 'Python', 'Go', 'C#']\n"
          ]
        }
      ]
    },
    {
      "cell_type": "code",
      "source": [
        "#57\n",
        "nums = [1, 2, 3, 4, 5, 6, 7]\n",
        "\n",
        "print(f'max : {max(nums)}')\n",
        "print(f'max : {min(nums)}')"
      ],
      "metadata": {
        "colab": {
          "base_uri": "https://localhost:8080/"
        },
        "id": "f5X9C-hhjJjo",
        "outputId": "4171d40d-04c9-4faf-e2fd-9aae122f7648"
      },
      "execution_count": 8,
      "outputs": [
        {
          "output_type": "stream",
          "name": "stdout",
          "text": [
            "max : 7\n",
            "max : 1\n"
          ]
        }
      ]
    },
    {
      "cell_type": "code",
      "source": [
        "#58\n",
        "\n",
        "nums = [1,2,3,4,5]\n",
        "\n",
        "print(sum(nums))\n",
        "\n"
      ],
      "metadata": {
        "colab": {
          "base_uri": "https://localhost:8080/"
        },
        "id": "AMHwmKzsjxz4",
        "outputId": "18313167-3b62-442c-bd6d-d8fe7142191e"
      },
      "execution_count": 4,
      "outputs": [
        {
          "output_type": "stream",
          "name": "stdout",
          "text": [
            "15\n"
          ]
        }
      ]
    },
    {
      "cell_type": "code",
      "source": [
        "#59\n",
        "\n",
        "cook = [\"피자\", \"김밥\", \"만두\", \"양념치킨\", \"족발\", \"피자\", \"김치만두\", \n",
        "\"쫄면\", \"쏘세지\", \"라면\", \"팥빙수\", \"김치전\"]\n",
        "\n",
        "print(len(cook))"
      ],
      "metadata": {
        "colab": {
          "base_uri": "https://localhost:8080/"
        },
        "id": "7Zs0me4_CcCW",
        "outputId": "a45096b4-fc10-4638-8915-18203cf6e60d"
      },
      "execution_count": 3,
      "outputs": [
        {
          "output_type": "stream",
          "name": "stdout",
          "text": [
            "12\n"
          ]
        }
      ]
    },
    {
      "cell_type": "code",
      "source": [
        "#60\n",
        "\n",
        "nums = [1, 2, 3, 4, 5]\n",
        "\n",
        "print(sum(nums)/5)\n",
        "\n"
      ],
      "metadata": {
        "colab": {
          "base_uri": "https://localhost:8080/"
        },
        "id": "HjfLahKjDe4G",
        "outputId": "5536161b-ab51-4c9a-dff5-a54af508e126"
      },
      "execution_count": 14,
      "outputs": [
        {
          "output_type": "stream",
          "name": "stdout",
          "text": [
            "3.0\n"
          ]
        }
      ]
    },
    {
      "cell_type": "code",
      "source": [
        "#121\n",
        "\n",
        "char = input('문자 입력 >> '.islower())\n",
        "\n",
        "if char == True :\n",
        "  print(char.upper)\n",
        "else :\n",
        "  print(char.lower)\n",
        "\n",
        "#??????????????????????????????????????\n",
        "\n"
      ],
      "metadata": {
        "colab": {
          "base_uri": "https://localhost:8080/",
          "height": 573
        },
        "id": "O_NEKbYaEXWU",
        "outputId": "635d629a-80cb-468a-8929-505ef0e0b04a"
      },
      "execution_count": 19,
      "outputs": [
        {
          "output_type": "error",
          "ename": "KeyboardInterrupt",
          "evalue": "ignored",
          "traceback": [
            "\u001b[0;31m---------------------------------------------------------------------------\u001b[0m",
            "\u001b[0;31mKeyboardInterrupt\u001b[0m                         Traceback (most recent call last)",
            "\u001b[0;32m/usr/local/lib/python3.7/dist-packages/ipykernel/kernelbase.py\u001b[0m in \u001b[0;36m_input_request\u001b[0;34m(self, prompt, ident, parent, password)\u001b[0m\n\u001b[1;32m    728\u001b[0m             \u001b[0;32mtry\u001b[0m\u001b[0;34m:\u001b[0m\u001b[0;34m\u001b[0m\u001b[0;34m\u001b[0m\u001b[0m\n\u001b[0;32m--> 729\u001b[0;31m                 \u001b[0mident\u001b[0m\u001b[0;34m,\u001b[0m \u001b[0mreply\u001b[0m \u001b[0;34m=\u001b[0m \u001b[0mself\u001b[0m\u001b[0;34m.\u001b[0m\u001b[0msession\u001b[0m\u001b[0;34m.\u001b[0m\u001b[0mrecv\u001b[0m\u001b[0;34m(\u001b[0m\u001b[0mself\u001b[0m\u001b[0;34m.\u001b[0m\u001b[0mstdin_socket\u001b[0m\u001b[0;34m,\u001b[0m \u001b[0;36m0\u001b[0m\u001b[0;34m)\u001b[0m\u001b[0;34m\u001b[0m\u001b[0;34m\u001b[0m\u001b[0m\n\u001b[0m\u001b[1;32m    730\u001b[0m             \u001b[0;32mexcept\u001b[0m \u001b[0mException\u001b[0m\u001b[0;34m:\u001b[0m\u001b[0;34m\u001b[0m\u001b[0;34m\u001b[0m\u001b[0m\n",
            "\u001b[0;32m/usr/local/lib/python3.7/dist-packages/jupyter_client/session.py\u001b[0m in \u001b[0;36mrecv\u001b[0;34m(self, socket, mode, content, copy)\u001b[0m\n\u001b[1;32m    802\u001b[0m         \u001b[0;32mtry\u001b[0m\u001b[0;34m:\u001b[0m\u001b[0;34m\u001b[0m\u001b[0;34m\u001b[0m\u001b[0m\n\u001b[0;32m--> 803\u001b[0;31m             \u001b[0mmsg_list\u001b[0m \u001b[0;34m=\u001b[0m \u001b[0msocket\u001b[0m\u001b[0;34m.\u001b[0m\u001b[0mrecv_multipart\u001b[0m\u001b[0;34m(\u001b[0m\u001b[0mmode\u001b[0m\u001b[0;34m,\u001b[0m \u001b[0mcopy\u001b[0m\u001b[0;34m=\u001b[0m\u001b[0mcopy\u001b[0m\u001b[0;34m)\u001b[0m\u001b[0;34m\u001b[0m\u001b[0;34m\u001b[0m\u001b[0m\n\u001b[0m\u001b[1;32m    804\u001b[0m         \u001b[0;32mexcept\u001b[0m \u001b[0mzmq\u001b[0m\u001b[0;34m.\u001b[0m\u001b[0mZMQError\u001b[0m \u001b[0;32mas\u001b[0m \u001b[0me\u001b[0m\u001b[0;34m:\u001b[0m\u001b[0;34m\u001b[0m\u001b[0;34m\u001b[0m\u001b[0m\n",
            "\u001b[0;32m/usr/local/lib/python3.7/dist-packages/zmq/sugar/socket.py\u001b[0m in \u001b[0;36mrecv_multipart\u001b[0;34m(self, flags, copy, track)\u001b[0m\n\u001b[1;32m    624\u001b[0m         \"\"\"\n\u001b[0;32m--> 625\u001b[0;31m         \u001b[0mparts\u001b[0m \u001b[0;34m=\u001b[0m \u001b[0;34m[\u001b[0m\u001b[0mself\u001b[0m\u001b[0;34m.\u001b[0m\u001b[0mrecv\u001b[0m\u001b[0;34m(\u001b[0m\u001b[0mflags\u001b[0m\u001b[0;34m,\u001b[0m \u001b[0mcopy\u001b[0m\u001b[0;34m=\u001b[0m\u001b[0mcopy\u001b[0m\u001b[0;34m,\u001b[0m \u001b[0mtrack\u001b[0m\u001b[0;34m=\u001b[0m\u001b[0mtrack\u001b[0m\u001b[0;34m)\u001b[0m\u001b[0;34m]\u001b[0m\u001b[0;34m\u001b[0m\u001b[0;34m\u001b[0m\u001b[0m\n\u001b[0m\u001b[1;32m    626\u001b[0m         \u001b[0;31m# have first part already, only loop while more to receive\u001b[0m\u001b[0;34m\u001b[0m\u001b[0;34m\u001b[0m\u001b[0;34m\u001b[0m\u001b[0m\n",
            "\u001b[0;32mzmq/backend/cython/socket.pyx\u001b[0m in \u001b[0;36mzmq.backend.cython.socket.Socket.recv\u001b[0;34m()\u001b[0m\n",
            "\u001b[0;32mzmq/backend/cython/socket.pyx\u001b[0m in \u001b[0;36mzmq.backend.cython.socket.Socket.recv\u001b[0;34m()\u001b[0m\n",
            "\u001b[0;32mzmq/backend/cython/socket.pyx\u001b[0m in \u001b[0;36mzmq.backend.cython.socket._recv_copy\u001b[0;34m()\u001b[0m\n",
            "\u001b[0;32m/usr/local/lib/python3.7/dist-packages/zmq/backend/cython/checkrc.pxd\u001b[0m in \u001b[0;36mzmq.backend.cython.checkrc._check_rc\u001b[0;34m()\u001b[0m\n",
            "\u001b[0;31mKeyboardInterrupt\u001b[0m: ",
            "\nDuring handling of the above exception, another exception occurred:\n",
            "\u001b[0;31mKeyboardInterrupt\u001b[0m                         Traceback (most recent call last)",
            "\u001b[0;32m<ipython-input-19-6e9812117b4f>\u001b[0m in \u001b[0;36m<module>\u001b[0;34m()\u001b[0m\n\u001b[1;32m      1\u001b[0m \u001b[0;31m#121\u001b[0m\u001b[0;34m\u001b[0m\u001b[0;34m\u001b[0m\u001b[0;34m\u001b[0m\u001b[0m\n\u001b[1;32m      2\u001b[0m \u001b[0;34m\u001b[0m\u001b[0m\n\u001b[0;32m----> 3\u001b[0;31m \u001b[0mchar\u001b[0m \u001b[0;34m=\u001b[0m \u001b[0minput\u001b[0m\u001b[0;34m(\u001b[0m\u001b[0;34m'문자 입력 >> '\u001b[0m\u001b[0;34m.\u001b[0m\u001b[0mislower\u001b[0m\u001b[0;34m(\u001b[0m\u001b[0;34m)\u001b[0m\u001b[0;34m)\u001b[0m\u001b[0;34m\u001b[0m\u001b[0;34m\u001b[0m\u001b[0m\n\u001b[0m\u001b[1;32m      4\u001b[0m \u001b[0;34m\u001b[0m\u001b[0m\n\u001b[1;32m      5\u001b[0m \u001b[0;32mif\u001b[0m \u001b[0mchar\u001b[0m \u001b[0;34m==\u001b[0m \u001b[0;32mTrue\u001b[0m \u001b[0;34m:\u001b[0m\u001b[0;34m\u001b[0m\u001b[0;34m\u001b[0m\u001b[0m\n",
            "\u001b[0;32m/usr/local/lib/python3.7/dist-packages/ipykernel/kernelbase.py\u001b[0m in \u001b[0;36mraw_input\u001b[0;34m(self, prompt)\u001b[0m\n\u001b[1;32m    702\u001b[0m             \u001b[0mself\u001b[0m\u001b[0;34m.\u001b[0m\u001b[0m_parent_ident\u001b[0m\u001b[0;34m,\u001b[0m\u001b[0;34m\u001b[0m\u001b[0;34m\u001b[0m\u001b[0m\n\u001b[1;32m    703\u001b[0m             \u001b[0mself\u001b[0m\u001b[0;34m.\u001b[0m\u001b[0m_parent_header\u001b[0m\u001b[0;34m,\u001b[0m\u001b[0;34m\u001b[0m\u001b[0;34m\u001b[0m\u001b[0m\n\u001b[0;32m--> 704\u001b[0;31m             \u001b[0mpassword\u001b[0m\u001b[0;34m=\u001b[0m\u001b[0;32mFalse\u001b[0m\u001b[0;34m,\u001b[0m\u001b[0;34m\u001b[0m\u001b[0;34m\u001b[0m\u001b[0m\n\u001b[0m\u001b[1;32m    705\u001b[0m         )\n\u001b[1;32m    706\u001b[0m \u001b[0;34m\u001b[0m\u001b[0m\n",
            "\u001b[0;32m/usr/local/lib/python3.7/dist-packages/ipykernel/kernelbase.py\u001b[0m in \u001b[0;36m_input_request\u001b[0;34m(self, prompt, ident, parent, password)\u001b[0m\n\u001b[1;32m    732\u001b[0m             \u001b[0;32mexcept\u001b[0m \u001b[0mKeyboardInterrupt\u001b[0m\u001b[0;34m:\u001b[0m\u001b[0;34m\u001b[0m\u001b[0;34m\u001b[0m\u001b[0m\n\u001b[1;32m    733\u001b[0m                 \u001b[0;31m# re-raise KeyboardInterrupt, to truncate traceback\u001b[0m\u001b[0;34m\u001b[0m\u001b[0;34m\u001b[0m\u001b[0;34m\u001b[0m\u001b[0m\n\u001b[0;32m--> 734\u001b[0;31m                 \u001b[0;32mraise\u001b[0m \u001b[0mKeyboardInterrupt\u001b[0m\u001b[0;34m\u001b[0m\u001b[0;34m\u001b[0m\u001b[0m\n\u001b[0m\u001b[1;32m    735\u001b[0m             \u001b[0;32melse\u001b[0m\u001b[0;34m:\u001b[0m\u001b[0;34m\u001b[0m\u001b[0;34m\u001b[0m\u001b[0m\n\u001b[1;32m    736\u001b[0m                 \u001b[0;32mbreak\u001b[0m\u001b[0;34m\u001b[0m\u001b[0;34m\u001b[0m\u001b[0m\n",
            "\u001b[0;31mKeyboardInterrupt\u001b[0m: "
          ]
        }
      ]
    },
    {
      "cell_type": "code",
      "source": [
        "#122\n",
        "\n",
        "score = int(input('점수를 입력해주세요 >> '))\n",
        "\n",
        "if score >=81:\n",
        "  print(f' score : {score} \\n grade is A')\n",
        "elif score >=61:\n",
        "  print(f' score : {score} \\n grade is B')\n",
        "elif score >=41:\n",
        "  print(f' score : {score} \\n grade is C')\n",
        "elif score >=21:\n",
        "  print(f' score : {score} \\n grade is D')\n",
        "else :\n",
        "  print(f' score : {score} \\n grade is F')"
      ],
      "metadata": {
        "colab": {
          "base_uri": "https://localhost:8080/"
        },
        "id": "EwnikHdiGefT",
        "outputId": "03a537c9-baf6-4b17-c936-a8796f78929d"
      },
      "execution_count": 27,
      "outputs": [
        {
          "output_type": "stream",
          "name": "stdout",
          "text": [
            "점수를 입력해주세요 >> 91\n",
            " score : 91 \n",
            " grade is A\n"
          ]
        }
      ]
    },
    {
      "cell_type": "code",
      "source": [
        "#123\n",
        "\n",
        "money = input('입력 : ')\n",
        "\n",
        "if money\n",
        "\n",
        "#???????????????????????????????"
      ],
      "metadata": {
        "id": "9Lx4a42nJvI6"
      },
      "execution_count": null,
      "outputs": []
    },
    {
      "cell_type": "code",
      "source": [
        "#124\n",
        "\n",
        "num1 = int(input('>> input number1: '))\n",
        "num2 = int(input('>> input number2: '))\n",
        "num3 = int(input('>> input number3: '))\n",
        "\n",
        "if num1 > num2 & num1 > num3 :\n",
        "  print(num1)\n",
        "elif num2 > num3 :\n",
        "  print(num2)\n",
        "else :\n",
        "  print(num3)\n",
        "\n",
        "\n",
        "\n"
      ],
      "metadata": {
        "colab": {
          "base_uri": "https://localhost:8080/"
        },
        "id": "VE29_SNxKzA5",
        "outputId": "418edf00-4bc3-4ea2-c3a5-479cfa87c908"
      },
      "execution_count": 28,
      "outputs": [
        {
          "output_type": "stream",
          "name": "stdout",
          "text": [
            ">> input number1: 10\n",
            ">> input number2: 9\n",
            ">> input number3: 20\n",
            "20\n"
          ]
        }
      ]
    },
    {
      "cell_type": "code",
      "source": [
        "#125\n",
        "number = (input(str(('>> 휴대전화 번호 입력 : '))))\n",
        "\n",
        "skt = ('011')\n",
        "kt = ('016')\n",
        "lgu = ('019')\n",
        "unknown = ('101')\n",
        "\n",
        "\n",
        "if number[0:3] == skt :\n",
        "  print('당신은 SKT 사용자입니다.') \n",
        "elif number[0:3] == kt :\n",
        "  print('당신은 KT 사용자입니다.')\n",
        "elif number[0:3] == lgu :\n",
        "  print('당신은 LGU 사용자입니다.') \n",
        "else : \n",
        "  print('당신의 통신사는 알 수가 없습니다')"
      ],
      "metadata": {
        "colab": {
          "base_uri": "https://localhost:8080/"
        },
        "id": "sW47oA83Qc8n",
        "outputId": "99596fb7-a06f-48d6-e117-414aabb11cba"
      },
      "execution_count": 32,
      "outputs": [
        {
          "output_type": "stream",
          "name": "stdout",
          "text": [
            ">> 휴대전화 번호 입력 : 016-435-1922\n",
            "당신은 KT 사용자입니다.\n"
          ]
        }
      ]
    },
    {
      "cell_type": "code",
      "source": [
        "#126\n",
        "\n",
        "zipcode = (input(str(('>>  우편번호 : '))))\n",
        "\n",
        "gb = ('010', '011', '012')\n",
        "db = ('013', '014', '015')\n",
        "nw = ('016', '017', '018', '019')\n",
        "\n",
        "\n",
        "\n",
        "if zipcode[0:3] in gb :\n",
        "  print('강북구') \n",
        "elif zipcode[0:3] in db :\n",
        "  print('도봉구')\n",
        "else : \n",
        "  print('노원구')\n"
      ],
      "metadata": {
        "colab": {
          "base_uri": "https://localhost:8080/"
        },
        "id": "FbBAB7w-SjEX",
        "outputId": "33c14481-166b-4abb-ef21-ec7fea80801a"
      },
      "execution_count": 33,
      "outputs": [
        {
          "output_type": "stream",
          "name": "stdout",
          "text": [
            ">>  우편번호 : 01499\n",
            "도봉구\n"
          ]
        }
      ]
    },
    {
      "cell_type": "code",
      "source": [
        "#127\n",
        "\n",
        "pn = input('>> 주민등록번호 : ')\n",
        "\n",
        "man = ('1', '3')\n",
        "woman = ('2', '4')\n",
        "\n",
        "\n",
        "if pn[7] in man :\n",
        "  print('남자')\n",
        "else :\n",
        "  print('여자')\n",
        "#?????????????????????????????"
      ],
      "metadata": {
        "colab": {
          "base_uri": "https://localhost:8080/"
        },
        "id": "iQmj7tA1T5Ix",
        "outputId": "7859e275-cd01-4838-b263-5be87837b1a3"
      },
      "execution_count": 41,
      "outputs": [
        {
          "output_type": "stream",
          "name": "stdout",
          "text": [
            ">> 주민등록번호 : 821010-1635210\n",
            "남자\n"
          ]
        }
      ]
    },
    {
      "cell_type": "code",
      "source": [
        "#128\n",
        "\n",
        "pn = input('>> 주민등록번호 : ')\n",
        "\n",
        "seoul = ('00', '01', '02', '03', '04', '05', '06', '07', '08')\n",
        "busan = ('09', '10', '11', '12')\n",
        "\n",
        "if pn[8:10] in seoul :\n",
        "  print('서울입니다.')\n",
        "else :\n",
        "  print('서울이 아닙니다')\n"
      ],
      "metadata": {
        "colab": {
          "base_uri": "https://localhost:8080/"
        },
        "id": "uxVh9lwNVW_W",
        "outputId": "e4b50d98-6964-4c64-8de6-f46633734362"
      },
      "execution_count": 44,
      "outputs": [
        {
          "output_type": "stream",
          "name": "stdout",
          "text": [
            ">> 주민등록번호 : 861010-1015210\n",
            "서울입니다.\n"
          ]
        }
      ]
    },
    {
      "cell_type": "code",
      "source": [
        "#129\n",
        "\n",
        "pn = input('>> 주민등록번호 : ')\n",
        "\n",
        "s1 = int((pn[0]*2)+(pn[1]*3)+(pn[2]*4)+(pn[3]*5)+(pn[4]*6)+(pn[5]*7)+(pn[7]*8)+(pn[8]*9)+(pn[9]*2)+(pn[10]*3)+(pn[11]*4)+(pn[12]*5))%11\n",
        "s2 = 11-s1\n",
        "\n",
        "if pn[-1] != s2 :\n",
        "  print('유효하지 않은 주민등록번호입니다')\n",
        "else :\n",
        "  print('유효한 주민등록번호입니다.')"
      ],
      "metadata": {
        "colab": {
          "base_uri": "https://localhost:8080/"
        },
        "id": "wZp_gkghXMjN",
        "outputId": "c8b22e1b-a161-47e2-832d-b0735f2762f2"
      },
      "execution_count": 48,
      "outputs": [
        {
          "output_type": "stream",
          "name": "stdout",
          "text": [
            ">> 주민등록번호 : 821010-1635210\n",
            "유효하지 않은 주민등록번호입니다\n"
          ]
        }
      ]
    },
    {
      "cell_type": "code",
      "source": [
        "#130\n",
        "\n",
        "if open\n",
        "\n",
        "#???????????????????????????"
      ],
      "metadata": {
        "id": "NWHNdmRbZp8k"
      },
      "execution_count": null,
      "outputs": []
    }
  ]
}