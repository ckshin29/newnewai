{
  "nbformat": 4,
  "nbformat_minor": 0,
  "metadata": {
    "colab": {
      "name": "03HW20220127신창균21.ipynb",
      "provenance": [],
      "collapsed_sections": [],
      "authorship_tag": "ABX9TyNeFdjt4zeJRvWcAOUV/jLt",
      "include_colab_link": true
    },
    "kernelspec": {
      "name": "python3",
      "display_name": "Python 3"
    },
    "language_info": {
      "name": "python"
    }
  },
  "cells": [
    {
      "cell_type": "markdown",
      "metadata": {
        "id": "view-in-github",
        "colab_type": "text"
      },
      "source": [
        "<a href=\"https://colab.research.google.com/github/ckshin29/ai/blob/main/03HW20220127%EC%8B%A0%EC%B0%BD%EA%B7%A021.ipynb\" target=\"_parent\"><img src=\"https://colab.research.google.com/assets/colab-badge.svg\" alt=\"Open In Colab\"/></a>"
      ]
    },
    {
      "cell_type": "code",
      "execution_count": null,
      "metadata": {
        "colab": {
          "base_uri": "https://localhost:8080/"
        },
        "id": "xRO9PecLHh1l",
        "outputId": "436eebb0-daf7-4434-f377-8cbd31b9abc0"
      },
      "outputs": [
        {
          "output_type": "stream",
          "name": "stdout",
          "text": [
            "{'메로나': '[300, 20]', '비비빅': '[400, 3]', '죠스바': '[250, 100]'}\n"
          ]
        }
      ],
      "source": [
        "#91\n",
        "\n",
        "inventory =  {\n",
        "    '메로나': '[300, 20]',\n",
        "    '비비빅': '[400, 3]',\n",
        "    '죠스바': '[250, 100]',\n",
        "}\n",
        "\n",
        "print(inventory)"
      ]
    },
    {
      "cell_type": "code",
      "source": [
        "#92\n",
        "\n",
        "inventory =  {\n",
        "    '메로나': [300, 20],\n",
        "    '비비빅': [400, 3],\n",
        "    '죠스바': [250, 100],\n",
        "}\n",
        "\n",
        "mp = inventory['메로나'][0]\n",
        "\n",
        "print(f'{mp} 원')\n"
      ],
      "metadata": {
        "colab": {
          "base_uri": "https://localhost:8080/"
        },
        "id": "ar6r7EqRlGkx",
        "outputId": "43facde7-287b-4a58-9c63-51e8d746e659"
      },
      "execution_count": null,
      "outputs": [
        {
          "output_type": "stream",
          "name": "stdout",
          "text": [
            "300 원\n"
          ]
        }
      ]
    },
    {
      "cell_type": "code",
      "source": [
        "#93\n",
        "\n",
        "inventory =  {\n",
        "    '메로나': [300, 20],\n",
        "    '비비빅': [400, 3],\n",
        "    '죠스바': [250, 100],\n",
        "}\n",
        "\n",
        "mp = inventory['메로나'][1]\n",
        "\n",
        "print(f'{mp} 개')"
      ],
      "metadata": {
        "colab": {
          "base_uri": "https://localhost:8080/"
        },
        "id": "udwrCIWDmLZn",
        "outputId": "87a7398e-54df-4874-800e-344f7bda365b"
      },
      "execution_count": null,
      "outputs": [
        {
          "output_type": "stream",
          "name": "stdout",
          "text": [
            "20 개\n"
          ]
        }
      ]
    },
    {
      "cell_type": "code",
      "source": [
        "#94\n",
        "\n",
        "inventory =  {\n",
        "    '메로나': [300, 20],\n",
        "    '비비빅': [400, 3],\n",
        "    '죠스바': [250, 100],\n",
        "}\n",
        "\n",
        "inventory['월드콘'] = '500,7'\n",
        "print(inventory)"
      ],
      "metadata": {
        "colab": {
          "base_uri": "https://localhost:8080/"
        },
        "id": "K4lBGlW3r7qG",
        "outputId": "44daa974-b2a1-494f-bfa3-ec4d80b96956"
      },
      "execution_count": null,
      "outputs": [
        {
          "output_type": "stream",
          "name": "stdout",
          "text": [
            "{'메로나': [300, 20], '비비빅': [400, 3], '죠스바': [250, 100], '월드콘': '500,7'}\n"
          ]
        }
      ]
    },
    {
      "cell_type": "code",
      "source": [
        "#95\n",
        "\n",
        "icecream = {\n",
        "    '탱크보이': 1200, '폴라포': 1200, '빵빠레': 1800, '월드콘': 1500, '메로나': 1000\n",
        "}\n",
        "\n",
        "print(icecream.keys())"
      ],
      "metadata": {
        "colab": {
          "base_uri": "https://localhost:8080/"
        },
        "id": "qn2IQIXtEw9U",
        "outputId": "ec841e53-ad9d-492c-ccaf-d85f2af3a974"
      },
      "execution_count": null,
      "outputs": [
        {
          "output_type": "stream",
          "name": "stdout",
          "text": [
            "dict_keys(['탱크보이', '폴라포', '빵빠레', '월드콘', '메로나'])\n"
          ]
        }
      ]
    },
    {
      "cell_type": "code",
      "source": [
        "#96\n",
        "\n",
        "icecream = {\n",
        "    '탱크보이': 1200, '폴라포': 1200, '빵빠레': 1800, '월드콘': 1500, '메로나': 1000\n",
        "}\n",
        "print(icecream.values())"
      ],
      "metadata": {
        "colab": {
          "base_uri": "https://localhost:8080/"
        },
        "id": "oaU-Ny7lGAQm",
        "outputId": "8e3781d6-324d-4dc6-dfd0-03a1cce76b7a"
      },
      "execution_count": null,
      "outputs": [
        {
          "output_type": "stream",
          "name": "stdout",
          "text": [
            "dict_values([1200, 1200, 1800, 1500, 1000])\n"
          ]
        }
      ]
    },
    {
      "cell_type": "code",
      "source": [
        "#97\n",
        "\n",
        "icecream = {\n",
        "    '탱크보이': 1200, '폴라포': 1200, '빵빠레': 1800, '월드콘': 1500, '메로나': 1000\n",
        "}\n",
        "\n",
        "print(f'{sum(icecream.values())}')\n"
      ],
      "metadata": {
        "colab": {
          "base_uri": "https://localhost:8080/"
        },
        "id": "eNERQ1iTGxiK",
        "outputId": "72022cc2-1149-47e4-8435-40f1eb655649"
      },
      "execution_count": null,
      "outputs": [
        {
          "output_type": "stream",
          "name": "stdout",
          "text": [
            "6700\n"
          ]
        }
      ]
    },
    {
      "cell_type": "code",
      "source": [
        "#98\n",
        "\n",
        "icecream = {\n",
        "    '탱크보이': 1200, '폴라포': 1200, '빵빠레': 1800, '월드콘': 1500, '메로나': 1000\n",
        "}\n",
        "\n",
        "new_product = {'팥빙수':2700, '아맛나':1000}\n",
        "\n",
        "icecream.update(new_product)\n",
        "print(icecream)\n"
      ],
      "metadata": {
        "colab": {
          "base_uri": "https://localhost:8080/"
        },
        "id": "Y9sgfi_3G_99",
        "outputId": "9eed309b-94af-4860-d65b-d9d3069b5e0a"
      },
      "execution_count": null,
      "outputs": [
        {
          "output_type": "stream",
          "name": "stdout",
          "text": [
            "{'탱크보이': 1200, '폴라포': 1200, '빵빠레': 1800, '월드콘': 1500, '메로나': 1000, '팥빙수': 2700, '아맛나': 1000}\n"
          ]
        }
      ]
    },
    {
      "cell_type": "code",
      "source": [
        "#99\n",
        "result = {}\n",
        "keys = (\"apple\", \"pear\", \"peach\")\n",
        "vals = (300, 250, 400)\n",
        "\n",
        "keys = list[result]\n",
        "vals = list[result]\n",
        "\n",
        "print(result)\n",
        "\n",
        "#???????????????????????"
      ],
      "metadata": {
        "colab": {
          "base_uri": "https://localhost:8080/",
          "height": 251
        },
        "id": "7LBmIRWUHtgM",
        "outputId": "bc2b2e91-235c-4f86-9396-95c8dce88a95"
      },
      "execution_count": null,
      "outputs": [
        {
          "output_type": "error",
          "ename": "TypeError",
          "evalue": "ignored",
          "traceback": [
            "\u001b[0;31m---------------------------------------------------------------------------\u001b[0m",
            "\u001b[0;31mTypeError\u001b[0m                                 Traceback (most recent call last)",
            "\u001b[0;32m<ipython-input-54-2480567b3301>\u001b[0m in \u001b[0;36m<module>\u001b[0;34m()\u001b[0m\n\u001b[1;32m      4\u001b[0m \u001b[0mvals\u001b[0m \u001b[0;34m=\u001b[0m \u001b[0;34m(\u001b[0m\u001b[0;36m300\u001b[0m\u001b[0;34m,\u001b[0m \u001b[0;36m250\u001b[0m\u001b[0;34m,\u001b[0m \u001b[0;36m400\u001b[0m\u001b[0;34m)\u001b[0m\u001b[0;34m\u001b[0m\u001b[0;34m\u001b[0m\u001b[0m\n\u001b[1;32m      5\u001b[0m \u001b[0;34m\u001b[0m\u001b[0m\n\u001b[0;32m----> 6\u001b[0;31m \u001b[0mkeys\u001b[0m \u001b[0;34m=\u001b[0m \u001b[0mlist\u001b[0m\u001b[0;34m[\u001b[0m\u001b[0mresult\u001b[0m\u001b[0;34m]\u001b[0m\u001b[0;34m\u001b[0m\u001b[0;34m\u001b[0m\u001b[0m\n\u001b[0m\u001b[1;32m      7\u001b[0m \u001b[0mvals\u001b[0m \u001b[0;34m=\u001b[0m \u001b[0mlist\u001b[0m\u001b[0;34m[\u001b[0m\u001b[0mresult\u001b[0m\u001b[0;34m]\u001b[0m\u001b[0;34m\u001b[0m\u001b[0;34m\u001b[0m\u001b[0m\n\u001b[1;32m      8\u001b[0m \u001b[0;34m\u001b[0m\u001b[0m\n",
            "\u001b[0;31mTypeError\u001b[0m: 'type' object is not subscriptable"
          ]
        }
      ]
    },
    {
      "cell_type": "code",
      "source": [
        "#100\n",
        "\n",
        "#????????????????????????"
      ],
      "metadata": {
        "id": "RyxUrDCHHthN"
      },
      "execution_count": null,
      "outputs": []
    },
    {
      "cell_type": "code",
      "source": [
        "#151\n",
        "\n",
        "list = [3, -20, -3 ,44]\n",
        "\n",
        "for i in list :\n",
        "  if i <= 0 :\n",
        "    print(i)\n",
        "\n",
        "\n",
        "\n"
      ],
      "metadata": {
        "colab": {
          "base_uri": "https://localhost:8080/"
        },
        "id": "1xDwe0DVF7Om",
        "outputId": "d841fd6d-159e-4ae2-d55f-a8c55efdf20f"
      },
      "execution_count": null,
      "outputs": [
        {
          "output_type": "stream",
          "name": "stdout",
          "text": [
            "-20\n",
            "-3\n"
          ]
        }
      ]
    },
    {
      "cell_type": "code",
      "source": [
        "#152\n",
        "\n",
        "list = [3, 100, 23 ,44]\n",
        "\n",
        "for i in list :\n",
        "  if i%3 == 0 :\n",
        "    print(i)"
      ],
      "metadata": {
        "colab": {
          "base_uri": "https://localhost:8080/"
        },
        "id": "r_qM4krCPkGg",
        "outputId": "9d351da6-93d6-4c23-a24b-dd977ac2de9d"
      },
      "execution_count": null,
      "outputs": [
        {
          "output_type": "stream",
          "name": "stdout",
          "text": [
            "3\n"
          ]
        }
      ]
    },
    {
      "cell_type": "code",
      "source": [
        "#153\n",
        "\n",
        "list = [13, 21, 12, 14, 30, 18]\n",
        "\n",
        "for i in list :\n",
        "  if i%3 == 0 and i <=20 :\n",
        "    print(i)\n"
      ],
      "metadata": {
        "colab": {
          "base_uri": "https://localhost:8080/"
        },
        "id": "RnQqgn8aSwV1",
        "outputId": "ae301eff-d115-4b66-f431-df47d6260cf6"
      },
      "execution_count": null,
      "outputs": [
        {
          "output_type": "stream",
          "name": "stdout",
          "text": [
            "12\n",
            "18\n"
          ]
        }
      ]
    },
    {
      "cell_type": "code",
      "source": [
        "#154\n",
        "\n",
        "list  = [\"I\", \"study\", \"python\", \"language\", \"!\"]\n",
        "\n",
        "\n",
        "\n",
        "for i in list :\n",
        "  if len(i) >= 3 :\n",
        "    print(i)\n",
        "   \n",
        "\n",
        "\n"
      ],
      "metadata": {
        "id": "PCtGKO9ETL_N",
        "colab": {
          "base_uri": "https://localhost:8080/"
        },
        "outputId": "0ea25760-8d47-44c5-b094-a5acd5555a65"
      },
      "execution_count": 2,
      "outputs": [
        {
          "output_type": "stream",
          "name": "stdout",
          "text": [
            "study\n",
            "python\n",
            "language\n"
          ]
        }
      ]
    },
    {
      "cell_type": "code",
      "source": [
        "#155\n",
        "\n",
        "list = ['A', 'b' , 'c' , 'D']\n",
        "\n",
        "for i in list :\n",
        "  if str(i).isupper() != False :\n",
        "    print(i)\n"
      ],
      "metadata": {
        "id": "AoD3s5a8TKg8",
        "colab": {
          "base_uri": "https://localhost:8080/"
        },
        "outputId": "db469262-3757-409c-d045-406ada823e79"
      },
      "execution_count": 6,
      "outputs": [
        {
          "output_type": "stream",
          "name": "stdout",
          "text": [
            "A\n",
            "D\n"
          ]
        }
      ]
    },
    {
      "cell_type": "code",
      "source": [
        "#156\n",
        "\n",
        "list = ['A', 'b' , 'c' , 'D']\n",
        "\n",
        "for i in list :\n",
        "  if str(i).isupper() != True :\n",
        "    print(i)\n"
      ],
      "metadata": {
        "colab": {
          "base_uri": "https://localhost:8080/"
        },
        "id": "LfBPUpARmXB2",
        "outputId": "89b39e11-40d0-4992-dabf-fa4afd724f55"
      },
      "execution_count": 7,
      "outputs": [
        {
          "output_type": "stream",
          "name": "stdout",
          "text": [
            "b\n",
            "c\n"
          ]
        }
      ]
    },
    {
      "cell_type": "code",
      "source": [
        "#157\n",
        "\n",
        "list = ['dog', 'cat', 'parrot']\n",
        "\n",
        "for i in list :\n",
        "  if str(i[0]).isupper() == False :\n",
        "    str(i[0]).upper()\n",
        "\n",
        "print(list)\n",
        "\n",
        "#???????????\n"
      ],
      "metadata": {
        "colab": {
          "base_uri": "https://localhost:8080/"
        },
        "id": "K04wbHYzmfcG",
        "outputId": "877e1251-20ed-49a3-cbf6-7df81034e5eb"
      },
      "execution_count": 14,
      "outputs": [
        {
          "output_type": "stream",
          "name": "stdout",
          "text": [
            "['dog', 'cat', 'parrot']\n",
            "['dog', 'cat', 'parrot']\n",
            "['dog', 'cat', 'parrot']\n"
          ]
        }
      ]
    },
    {
      "cell_type": "code",
      "source": [
        "#158\n",
        "list = ['hello.py', 'ex01.py', 'intro.hwp']\n",
        "\n",
        "for i in list:\n",
        "  if str(i) == '.' :\n",
        "    i.split()\n",
        "\n",
        "print(list)\n",
        "#???????????"
      ],
      "metadata": {
        "colab": {
          "base_uri": "https://localhost:8080/"
        },
        "id": "e-0xc-Xen_WW",
        "outputId": "fc3cb0c3-a5ce-496c-ffbd-64abb322bde9"
      },
      "execution_count": 16,
      "outputs": [
        {
          "output_type": "stream",
          "name": "stdout",
          "text": [
            "['hello.py', 'ex01.py', 'intro.hwp']\n"
          ]
        }
      ]
    },
    {
      "cell_type": "code",
      "source": [
        "#159\n",
        "list = ['intra.h', 'intra.c', 'define.h', 'run.py']\n",
        "\n",
        "for i in list :\n",
        "  if str(i[-1]) == 'h' :\n",
        "    print(i)\n"
      ],
      "metadata": {
        "colab": {
          "base_uri": "https://localhost:8080/"
        },
        "id": "72EeoG8_peQW",
        "outputId": "ebc98e88-051c-440e-d8de-7fa3949252df"
      },
      "execution_count": 17,
      "outputs": [
        {
          "output_type": "stream",
          "name": "stdout",
          "text": [
            "intra.h\n",
            "define.h\n"
          ]
        }
      ]
    },
    {
      "cell_type": "code",
      "source": [
        "list = ['intra.h', 'intra.c', 'define.h', 'run.py']\n",
        "\n",
        "for i in list :\n",
        "  if str(i[-1]) == 'h' or str(i[-1]) == 'c':\n",
        "    print(i)"
      ],
      "metadata": {
        "colab": {
          "base_uri": "https://localhost:8080/"
        },
        "id": "hnqyfuZsqWDG",
        "outputId": "a21ec895-200e-4ebe-b4af-9d5d4029c232"
      },
      "execution_count": 18,
      "outputs": [
        {
          "output_type": "stream",
          "name": "stdout",
          "text": [
            "intra.h\n",
            "intra.c\n",
            "define.h\n"
          ]
        }
      ]
    }
  ]
}