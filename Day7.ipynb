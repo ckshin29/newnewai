{
  "nbformat": 4,
  "nbformat_minor": 0,
  "metadata": {
    "colab": {
      "name": "Day7.ipynb",
      "provenance": [],
      "authorship_tag": "ABX9TyPJyatIH5+K5MUk1tAtGpfv",
      "include_colab_link": true
    },
    "kernelspec": {
      "name": "python3",
      "display_name": "Python 3"
    },
    "language_info": {
      "name": "python"
    }
  },
  "cells": [
    {
      "cell_type": "markdown",
      "metadata": {
        "id": "view-in-github",
        "colab_type": "text"
      },
      "source": [
        "<a href=\"https://colab.research.google.com/github/ckshin29/newnewai/blob/main/Day7.ipynb\" target=\"_parent\"><img src=\"https://colab.research.google.com/assets/colab-badge.svg\" alt=\"Open In Colab\"/></a>"
      ]
    },
    {
      "cell_type": "code",
      "execution_count": 3,
      "metadata": {
        "colab": {
          "base_uri": "https://localhost:8080/"
        },
        "id": "6D-EFvMYxDqU",
        "outputId": "5426a6f9-eb51-4a34-fe28-7e9339b0f05f"
      },
      "outputs": [
        {
          "output_type": "stream",
          "name": "stdout",
          "text": [
            "정수를 입력하세요 >> 3\n",
            "입력한 정수 : 3\n"
          ]
        }
      ],
      "source": [
        "# 예외 처리 고급\n",
        "\n",
        "# 프로그램을 개발하다 보면 수많은 오류를 만나게 된다. 또한 처음 프로그램을 개발했을 때\n",
        "# 모든 오류를 예측하고 처리할 수 없다. 개발이 완료 된 후에도 예측하지 못한 오류들이 계속 발생 되기 때문에\n",
        "# 유지 보수가 필요 하다.\n",
        "\n",
        "# try :\n",
        "#   예외 발생 가능성 있는 구문\n",
        "# except : \n",
        "#   예외가 발생했을 때 실행할 구문\n",
        "\n",
        "# try :\n",
        "#   예외 발생 가능성 있는 구문\n",
        "# except 예외의 종류 as e(예외 객체를 활용한 변수 이름) : \n",
        "#   예외가 발생했을 때 실행할 구문\n",
        "\n",
        "# 예외발 발생하면 예외 정보가 생기고 예외 정보는 예외 객체에 저장되어 생성\n",
        "\n",
        "\n",
        "# 예외 객체\n",
        "\n",
        "try :\n",
        "  num = int(input('정수를 입력하세요 >> '))\n",
        "\n",
        "  print('입력한 정수 :',num)\n",
        "\n",
        "except Exception as e : #Exception (모든 에러)\n",
        "  print('type(Exception) :',type(e))\n",
        "  print('Exception :',e)\n",
        "\n",
        "\n",
        "# 만약 큰 규모의 웹 서비스를 구축하게 된다면 다양한 예외가 분명히 발생한다.\n",
        "# 예외가 발생할 때 그 정보를 수집하면 이후 프로그램을 유지/보수 하는데 큰 도움이 된다."
      ]
    },
    {
      "cell_type": "code",
      "source": [
        "# 예외 구분하기\n",
        "\n",
        "list = [52,273,32,72,100]\n",
        "\n",
        "try :\n",
        "  num = int(input('정수 입력 >> '))\n",
        "  print(f'{num}번째 요소 : {list[num]}')\n",
        "\n",
        "except Exception as e :\n",
        "    print('type(Exception) :',type(e))\n",
        "    print('Exception :',e)\n",
        "\n",
        "# 코드의 내부에서는 이처럼 여러가지의 예외가 발생할 수 있다.\n",
        "# ex) ValueError , IndesError\n",
        "# 파이썬은 예외들을 구분하여 처리할 수 있다.\n",
        "\n",
        "\n"
      ],
      "metadata": {
        "colab": {
          "base_uri": "https://localhost:8080/"
        },
        "id": "x7Zh7NdE4FzG",
        "outputId": "9af8b255-de0f-44cf-b588-6179533c216d"
      },
      "execution_count": 10,
      "outputs": [
        {
          "output_type": "stream",
          "name": "stdout",
          "text": [
            "정수 입력 >> 12\n",
            "type(Exception) : <class 'IndexError'>\n",
            "Exception : list index out of range\n"
          ]
        }
      ]
    },
    {
      "cell_type": "code",
      "source": [
        "list = [52,273,32,72,100]\n",
        "\n",
        "try :\n",
        "  num = int(input('정수 입력 >> '))\n",
        "  print(f'{num}번째 요소 : {list[num]}')\n",
        "\n",
        "# except Exception as e :\n",
        "#     print('type(Exception) :',type(e))\n",
        "#     print('Exception :',e)\n",
        "\n",
        "except ValueError :\n",
        "  print(\"정수를 입력하셔야만 합니다!\")\n",
        "\n",
        "except IndexError :\n",
        "  print(f\"리스트 크기보다 큰 수는 입력하실 수 없습니다. 최대 : {len(list)-1}\")"
      ],
      "metadata": {
        "colab": {
          "base_uri": "https://localhost:8080/"
        },
        "id": "7AlnhkRD5dOO",
        "outputId": "2006d340-3d82-4223-9526-45ee31e16a0b"
      },
      "execution_count": 15,
      "outputs": [
        {
          "output_type": "stream",
          "name": "stdout",
          "text": [
            "정수 입력 >> 5\n",
            "리스트 크기보다 큰 수는 입력하실 수 없습니다. 최대 : 4\n"
          ]
        }
      ]
    },
    {
      "cell_type": "code",
      "source": [
        "list = [52,273,32,72,100]\n",
        "\n",
        "try :\n",
        "  num = int(input('정수 입력 >> '))\n",
        "  print(f'{num}번째 요소 : {list[num]}')\n",
        "  예외.발생()\n",
        "\n",
        "# except Exception as e :\n",
        "#     print('type(Exception) :',type(e))\n",
        "#     print('Exception :',e)\n",
        "\n",
        "except ValueError as e :\n",
        "  print(\"정수를 입력하셔야만 합니다!\")\n",
        "  print('Exception :', e)\n",
        "\n",
        "except IndexError as e :\n",
        "  print(f\"리스트 크기보다 큰 수는 입력하실 수 없습니다. [최대 : {len(list)-1}]\")\n",
        "  print('Exception :', e)\n",
        "\n",
        "except Exception as e :\n",
        "  # 나머지 모든 예기치 못한 예외를 여기서 처리하자!\n",
        "  print('미리 파악하지 못한 예외가 발생했습니다.')\n",
        "  print(type(e), e)\n",
        "\n",
        "# 너무 치명적인 문제인데도 프로그램이 강제 종료되지 않게 만들면 그것으로\n",
        "# 또 다른 더욱 커다란 문제가 될 수도 있으므로 상황에 맞게 대처할 수 있어야 한다.\n",
        "\n",
        "# 큰 규모의 프로그램을 개발할 때는 '예외 처리로 떡칠한다'라고 표현할 정도로 예외 처리를 \n",
        "# 많이 사용하게 된다.\n",
        "\n",
        "# 예외처리에서 가장 중요한 것은 '이 코드에서 어떤 에러가 발생할 것인가?'를 미리 잘 예측하는 것이다.\n"
      ],
      "metadata": {
        "colab": {
          "base_uri": "https://localhost:8080/"
        },
        "id": "PaAOTCab6Lgm",
        "outputId": "ab3056e0-53db-453d-b7a8-bff605897adf"
      },
      "execution_count": 21,
      "outputs": [
        {
          "output_type": "stream",
          "name": "stdout",
          "text": [
            "정수 입력 >> 4\n",
            "4번째 요소 : 100\n",
            "미리 파악하지 못한 예외가 발생했습니다.\n",
            "<class 'NameError'> name '예외' is not defined\n"
          ]
        }
      ]
    },
    {
      "cell_type": "code",
      "source": [
        "# 예외를 강제로 발생시키기. raise\n",
        "\n",
        "num = int(input('정수 입력 >> '))\n",
        "\n",
        "if num > 0 :\n",
        "  raise NotImplementedError\n",
        "else :\n",
        "  raise NotImplementedError"
      ],
      "metadata": {
        "colab": {
          "base_uri": "https://localhost:8080/",
          "height": 269
        },
        "id": "3HuE8yI_8aT9",
        "outputId": "02b69d63-80ed-425c-b557-cbfca3ca196d"
      },
      "execution_count": 23,
      "outputs": [
        {
          "name": "stdout",
          "output_type": "stream",
          "text": [
            "정수 입력 >> 4\n"
          ]
        },
        {
          "output_type": "error",
          "ename": "NotImplementedError",
          "evalue": "ignored",
          "traceback": [
            "\u001b[0;31m---------------------------------------------------------------------------\u001b[0m",
            "\u001b[0;31mNotImplementedError\u001b[0m                       Traceback (most recent call last)",
            "\u001b[0;32m<ipython-input-23-1e18b8aab4f5>\u001b[0m in \u001b[0;36m<module>\u001b[0;34m()\u001b[0m\n\u001b[1;32m      4\u001b[0m \u001b[0;34m\u001b[0m\u001b[0m\n\u001b[1;32m      5\u001b[0m \u001b[0;32mif\u001b[0m \u001b[0mnum\u001b[0m \u001b[0;34m>\u001b[0m \u001b[0;36m0\u001b[0m \u001b[0;34m:\u001b[0m\u001b[0;34m\u001b[0m\u001b[0;34m\u001b[0m\u001b[0m\n\u001b[0;32m----> 6\u001b[0;31m   \u001b[0;32mraise\u001b[0m \u001b[0mNotImplementedError\u001b[0m\u001b[0;34m\u001b[0m\u001b[0;34m\u001b[0m\u001b[0m\n\u001b[0m\u001b[1;32m      7\u001b[0m \u001b[0;32melse\u001b[0m \u001b[0;34m:\u001b[0m\u001b[0;34m\u001b[0m\u001b[0;34m\u001b[0m\u001b[0m\n\u001b[1;32m      8\u001b[0m   \u001b[0;32mraise\u001b[0m \u001b[0mNotImplementedError\u001b[0m\u001b[0;34m\u001b[0m\u001b[0;34m\u001b[0m\u001b[0m\n",
            "\u001b[0;31mNotImplementedError\u001b[0m: "
          ]
        }
      ]
    },
    {
      "cell_type": "code",
      "source": [
        "# 모듈\n",
        "# 여러 변수와 함수를 가지고 있는 집합체\n",
        "# 파이썬에 기본적으로 내장되어 있는 모듈을 '표준 모듈'이라고 부르고 \n",
        "# 다른 사람이 만들어서 공개한 모듈을 '외부 모듈'이라고 부른다."
      ],
      "metadata": {
        "id": "J8DpOPCU9E11"
      },
      "execution_count": null,
      "outputs": []
    },
    {
      "cell_type": "code",
      "source": [
        "# math 모듈 - 수학과 관련된 기능들을 가진 모듈\n",
        "\n",
        "import math\n",
        "\n",
        "print(math.sin(1))\n",
        "print(math.cos(1))\n",
        "print(math.tan(1))\n",
        "\n",
        "# ceil() 올림\n",
        "# floor() 내림\n",
        "# round() 반올림"
      ],
      "metadata": {
        "colab": {
          "base_uri": "https://localhost:8080/"
        },
        "id": "pkUe0_0-9vHL",
        "outputId": "a79560d3-0985-4126-c869-4ea9bb2e0b99"
      },
      "execution_count": 26,
      "outputs": [
        {
          "output_type": "stream",
          "name": "stdout",
          "text": [
            "0.8414709848078965\n",
            "0.5403023058681398\n",
            "1.5574077246549023\n"
          ]
        }
      ]
    },
    {
      "cell_type": "code",
      "source": [
        "# from math import sin, cos, tan # 특정 매서드 틀 불러오는것\n",
        "from math import * # 몽땅 가져오는것 그냥 import math 하면 쓸때마다 앞에 math. 붙혀줘야 해서 불편함\n",
        "\n",
        "print(sin(1))\n",
        "print(cos(1))\n",
        "print(tan(1))\n"
      ],
      "metadata": {
        "id": "nsaSNW0I_Luc"
      },
      "execution_count": null,
      "outputs": []
    },
    {
      "cell_type": "code",
      "source": [
        "import math as m # math 이름을 m 으로 줄이는 것 \n",
        "\n",
        "print(m.sin(1))\n",
        "print(m.cos(1))\n",
        "print(m.tan(1))"
      ],
      "metadata": {
        "colab": {
          "base_uri": "https://localhost:8080/"
        },
        "id": "qxr_55EbABMt",
        "outputId": "831b5ac3-00bc-4311-8064-3d00043e70a9"
      },
      "execution_count": 28,
      "outputs": [
        {
          "output_type": "stream",
          "name": "stdout",
          "text": [
            "0.8414709848078965\n",
            "0.5403023058681398\n",
            "1.5574077246549023\n"
          ]
        }
      ]
    },
    {
      "cell_type": "code",
      "source": [
        "# pip install 모듈명\n",
        "# import selenium 외부 모듈이라 안됨\n",
        "#!pip install selenium # colab 에선 앞에 ! 를 붙힌다.\n"
      ],
      "metadata": {
        "colab": {
          "base_uri": "https://localhost:8080/",
          "height": 952
        },
        "id": "vzzWABvhAchC",
        "outputId": "16b40dfe-15df-4aec-a3d1-8bb1c0e94b97"
      },
      "execution_count": 30,
      "outputs": [
        {
          "output_type": "stream",
          "name": "stdout",
          "text": [
            "Collecting selenium\n",
            "  Downloading selenium-4.1.0-py3-none-any.whl (958 kB)\n",
            "\u001b[?25l\r\u001b[K     |▍                               | 10 kB 29.2 MB/s eta 0:00:01\r\u001b[K     |▊                               | 20 kB 37.7 MB/s eta 0:00:01\r\u001b[K     |█                               | 30 kB 39.0 MB/s eta 0:00:01\r\u001b[K     |█▍                              | 40 kB 15.3 MB/s eta 0:00:01\r\u001b[K     |█▊                              | 51 kB 13.5 MB/s eta 0:00:01\r\u001b[K     |██                              | 61 kB 15.8 MB/s eta 0:00:01\r\u001b[K     |██▍                             | 71 kB 14.4 MB/s eta 0:00:01\r\u001b[K     |██▊                             | 81 kB 12.8 MB/s eta 0:00:01\r\u001b[K     |███                             | 92 kB 13.9 MB/s eta 0:00:01\r\u001b[K     |███▍                            | 102 kB 14.4 MB/s eta 0:00:01\r\u001b[K     |███▊                            | 112 kB 14.4 MB/s eta 0:00:01\r\u001b[K     |████                            | 122 kB 14.4 MB/s eta 0:00:01\r\u001b[K     |████▍                           | 133 kB 14.4 MB/s eta 0:00:01\r\u001b[K     |████▉                           | 143 kB 14.4 MB/s eta 0:00:01\r\u001b[K     |█████▏                          | 153 kB 14.4 MB/s eta 0:00:01\r\u001b[K     |█████▌                          | 163 kB 14.4 MB/s eta 0:00:01\r\u001b[K     |█████▉                          | 174 kB 14.4 MB/s eta 0:00:01\r\u001b[K     |██████▏                         | 184 kB 14.4 MB/s eta 0:00:01\r\u001b[K     |██████▌                         | 194 kB 14.4 MB/s eta 0:00:01\r\u001b[K     |██████▉                         | 204 kB 14.4 MB/s eta 0:00:01\r\u001b[K     |███████▏                        | 215 kB 14.4 MB/s eta 0:00:01\r\u001b[K     |███████▌                        | 225 kB 14.4 MB/s eta 0:00:01\r\u001b[K     |███████▉                        | 235 kB 14.4 MB/s eta 0:00:01\r\u001b[K     |████████▏                       | 245 kB 14.4 MB/s eta 0:00:01\r\u001b[K     |████████▌                       | 256 kB 14.4 MB/s eta 0:00:01\r\u001b[K     |████████▉                       | 266 kB 14.4 MB/s eta 0:00:01\r\u001b[K     |█████████▎                      | 276 kB 14.4 MB/s eta 0:00:01\r\u001b[K     |█████████▋                      | 286 kB 14.4 MB/s eta 0:00:01\r\u001b[K     |██████████                      | 296 kB 14.4 MB/s eta 0:00:01\r\u001b[K     |██████████▎                     | 307 kB 14.4 MB/s eta 0:00:01\r\u001b[K     |██████████▋                     | 317 kB 14.4 MB/s eta 0:00:01\r\u001b[K     |███████████                     | 327 kB 14.4 MB/s eta 0:00:01\r\u001b[K     |███████████▎                    | 337 kB 14.4 MB/s eta 0:00:01\r\u001b[K     |███████████▋                    | 348 kB 14.4 MB/s eta 0:00:01\r\u001b[K     |████████████                    | 358 kB 14.4 MB/s eta 0:00:01\r\u001b[K     |████████████▎                   | 368 kB 14.4 MB/s eta 0:00:01\r\u001b[K     |████████████▋                   | 378 kB 14.4 MB/s eta 0:00:01\r\u001b[K     |█████████████                   | 389 kB 14.4 MB/s eta 0:00:01\r\u001b[K     |█████████████▎                  | 399 kB 14.4 MB/s eta 0:00:01\r\u001b[K     |█████████████▊                  | 409 kB 14.4 MB/s eta 0:00:01\r\u001b[K     |██████████████                  | 419 kB 14.4 MB/s eta 0:00:01\r\u001b[K     |██████████████▍                 | 430 kB 14.4 MB/s eta 0:00:01\r\u001b[K     |██████████████▊                 | 440 kB 14.4 MB/s eta 0:00:01\r\u001b[K     |███████████████                 | 450 kB 14.4 MB/s eta 0:00:01\r\u001b[K     |███████████████▍                | 460 kB 14.4 MB/s eta 0:00:01\r\u001b[K     |███████████████▊                | 471 kB 14.4 MB/s eta 0:00:01\r\u001b[K     |████████████████                | 481 kB 14.4 MB/s eta 0:00:01\r\u001b[K     |████████████████▍               | 491 kB 14.4 MB/s eta 0:00:01\r\u001b[K     |████████████████▊               | 501 kB 14.4 MB/s eta 0:00:01\r\u001b[K     |█████████████████               | 512 kB 14.4 MB/s eta 0:00:01\r\u001b[K     |█████████████████▍              | 522 kB 14.4 MB/s eta 0:00:01\r\u001b[K     |█████████████████▊              | 532 kB 14.4 MB/s eta 0:00:01\r\u001b[K     |██████████████████▏             | 542 kB 14.4 MB/s eta 0:00:01\r\u001b[K     |██████████████████▌             | 552 kB 14.4 MB/s eta 0:00:01\r\u001b[K     |██████████████████▉             | 563 kB 14.4 MB/s eta 0:00:01\r\u001b[K     |███████████████████▏            | 573 kB 14.4 MB/s eta 0:00:01\r\u001b[K     |███████████████████▌            | 583 kB 14.4 MB/s eta 0:00:01\r\u001b[K     |███████████████████▉            | 593 kB 14.4 MB/s eta 0:00:01\r\u001b[K     |████████████████████▏           | 604 kB 14.4 MB/s eta 0:00:01\r\u001b[K     |████████████████████▌           | 614 kB 14.4 MB/s eta 0:00:01\r\u001b[K     |████████████████████▉           | 624 kB 14.4 MB/s eta 0:00:01\r\u001b[K     |█████████████████████▏          | 634 kB 14.4 MB/s eta 0:00:01\r\u001b[K     |█████████████████████▌          | 645 kB 14.4 MB/s eta 0:00:01\r\u001b[K     |█████████████████████▉          | 655 kB 14.4 MB/s eta 0:00:01\r\u001b[K     |██████████████████████▏         | 665 kB 14.4 MB/s eta 0:00:01\r\u001b[K     |██████████████████████▋         | 675 kB 14.4 MB/s eta 0:00:01\r\u001b[K     |███████████████████████         | 686 kB 14.4 MB/s eta 0:00:01\r\u001b[K     |███████████████████████▎        | 696 kB 14.4 MB/s eta 0:00:01\r\u001b[K     |███████████████████████▋        | 706 kB 14.4 MB/s eta 0:00:01\r\u001b[K     |████████████████████████        | 716 kB 14.4 MB/s eta 0:00:01\r\u001b[K     |████████████████████████▎       | 727 kB 14.4 MB/s eta 0:00:01\r\u001b[K     |████████████████████████▋       | 737 kB 14.4 MB/s eta 0:00:01\r\u001b[K     |█████████████████████████       | 747 kB 14.4 MB/s eta 0:00:01\r\u001b[K     |█████████████████████████▎      | 757 kB 14.4 MB/s eta 0:00:01\r\u001b[K     |█████████████████████████▋      | 768 kB 14.4 MB/s eta 0:00:01\r\u001b[K     |██████████████████████████      | 778 kB 14.4 MB/s eta 0:00:01\r\u001b[K     |██████████████████████████▎     | 788 kB 14.4 MB/s eta 0:00:01\r\u001b[K     |██████████████████████████▋     | 798 kB 14.4 MB/s eta 0:00:01\r\u001b[K     |███████████████████████████     | 808 kB 14.4 MB/s eta 0:00:01\r\u001b[K     |███████████████████████████▍    | 819 kB 14.4 MB/s eta 0:00:01\r\u001b[K     |███████████████████████████▊    | 829 kB 14.4 MB/s eta 0:00:01\r\u001b[K     |████████████████████████████    | 839 kB 14.4 MB/s eta 0:00:01\r\u001b[K     |████████████████████████████▍   | 849 kB 14.4 MB/s eta 0:00:01\r\u001b[K     |████████████████████████████▊   | 860 kB 14.4 MB/s eta 0:00:01\r\u001b[K     |█████████████████████████████   | 870 kB 14.4 MB/s eta 0:00:01\r\u001b[K     |█████████████████████████████▍  | 880 kB 14.4 MB/s eta 0:00:01\r\u001b[K     |█████████████████████████████▊  | 890 kB 14.4 MB/s eta 0:00:01\r\u001b[K     |██████████████████████████████  | 901 kB 14.4 MB/s eta 0:00:01\r\u001b[K     |██████████████████████████████▍ | 911 kB 14.4 MB/s eta 0:00:01\r\u001b[K     |██████████████████████████████▊ | 921 kB 14.4 MB/s eta 0:00:01\r\u001b[K     |███████████████████████████████ | 931 kB 14.4 MB/s eta 0:00:01\r\u001b[K     |███████████████████████████████▍| 942 kB 14.4 MB/s eta 0:00:01\r\u001b[K     |███████████████████████████████▉| 952 kB 14.4 MB/s eta 0:00:01\r\u001b[K     |████████████████████████████████| 958 kB 14.4 MB/s \n",
            "\u001b[?25hCollecting trio~=0.17\n",
            "  Downloading trio-0.19.0-py3-none-any.whl (356 kB)\n",
            "\u001b[K     |████████████████████████████████| 356 kB 74.3 MB/s \n",
            "\u001b[?25hCollecting urllib3[secure]~=1.26\n",
            "  Downloading urllib3-1.26.8-py2.py3-none-any.whl (138 kB)\n",
            "\u001b[K     |████████████████████████████████| 138 kB 63.0 MB/s \n",
            "\u001b[?25hCollecting trio-websocket~=0.9\n",
            "  Downloading trio_websocket-0.9.2-py3-none-any.whl (16 kB)\n",
            "Requirement already satisfied: sortedcontainers in /usr/local/lib/python3.7/dist-packages (from trio~=0.17->selenium) (2.4.0)\n",
            "Collecting async-generator>=1.9\n",
            "  Downloading async_generator-1.10-py3-none-any.whl (18 kB)\n",
            "Requirement already satisfied: idna in /usr/local/lib/python3.7/dist-packages (from trio~=0.17->selenium) (2.10)\n",
            "Collecting outcome\n",
            "  Downloading outcome-1.1.0-py2.py3-none-any.whl (9.7 kB)\n",
            "Requirement already satisfied: attrs>=19.2.0 in /usr/local/lib/python3.7/dist-packages (from trio~=0.17->selenium) (21.4.0)\n",
            "Collecting sniffio\n",
            "  Downloading sniffio-1.2.0-py3-none-any.whl (10 kB)\n",
            "Collecting wsproto>=0.14\n",
            "  Downloading wsproto-1.0.0-py3-none-any.whl (24 kB)\n",
            "Collecting pyOpenSSL>=0.14\n",
            "  Downloading pyOpenSSL-22.0.0-py2.py3-none-any.whl (55 kB)\n",
            "\u001b[K     |████████████████████████████████| 55 kB 3.9 MB/s \n",
            "\u001b[?25hRequirement already satisfied: certifi in /usr/local/lib/python3.7/dist-packages (from urllib3[secure]~=1.26->selenium) (2021.10.8)\n",
            "Collecting cryptography>=1.3.4\n",
            "  Downloading cryptography-36.0.1-cp36-abi3-manylinux_2_24_x86_64.whl (3.6 MB)\n",
            "\u001b[K     |████████████████████████████████| 3.6 MB 61.7 MB/s \n",
            "\u001b[?25hRequirement already satisfied: cffi>=1.12 in /usr/local/lib/python3.7/dist-packages (from cryptography>=1.3.4->urllib3[secure]~=1.26->selenium) (1.15.0)\n",
            "Requirement already satisfied: pycparser in /usr/local/lib/python3.7/dist-packages (from cffi>=1.12->cryptography>=1.3.4->urllib3[secure]~=1.26->selenium) (2.21)\n",
            "Collecting h11<1,>=0.9.0\n",
            "  Downloading h11-0.13.0-py3-none-any.whl (58 kB)\n",
            "\u001b[K     |████████████████████████████████| 58 kB 4.9 MB/s \n",
            "\u001b[?25hRequirement already satisfied: typing-extensions in /usr/local/lib/python3.7/dist-packages (from h11<1,>=0.9.0->wsproto>=0.14->trio-websocket~=0.9->selenium) (3.10.0.2)\n",
            "Installing collected packages: sniffio, outcome, h11, cryptography, async-generator, wsproto, urllib3, trio, pyOpenSSL, trio-websocket, selenium\n",
            "  Attempting uninstall: urllib3\n",
            "    Found existing installation: urllib3 1.24.3\n",
            "    Uninstalling urllib3-1.24.3:\n",
            "      Successfully uninstalled urllib3-1.24.3\n",
            "\u001b[31mERROR: pip's dependency resolver does not currently take into account all the packages that are installed. This behaviour is the source of the following dependency conflicts.\n",
            "requests 2.23.0 requires urllib3!=1.25.0,!=1.25.1,<1.26,>=1.21.1, but you have urllib3 1.26.8 which is incompatible.\n",
            "datascience 0.10.6 requires folium==0.2.1, but you have folium 0.8.3 which is incompatible.\u001b[0m\n",
            "Successfully installed async-generator-1.10 cryptography-36.0.1 h11-0.13.0 outcome-1.1.0 pyOpenSSL-22.0.0 selenium-4.1.0 sniffio-1.2.0 trio-0.19.0 trio-websocket-0.9.2 urllib3-1.26.8 wsproto-1.0.0\n"
          ]
        },
        {
          "output_type": "display_data",
          "data": {
            "application/vnd.colab-display-data+json": {
              "pip_warning": {
                "packages": [
                  "urllib3"
                ]
              }
            }
          },
          "metadata": {}
        }
      ]
    },
    {
      "cell_type": "code",
      "source": [
        "import selenium #위에서 셀레늄을 설치했기 때문에 됨"
      ],
      "metadata": {
        "id": "Z3HFMTIjA_VT"
      },
      "execution_count": 31,
      "outputs": []
    }
  ]
}