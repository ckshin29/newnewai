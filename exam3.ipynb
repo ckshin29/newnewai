{
  "nbformat": 4,
  "nbformat_minor": 0,
  "metadata": {
    "colab": {
      "name": "exam3.ipynb",
      "provenance": [],
      "collapsed_sections": [],
      "authorship_tag": "ABX9TyP6U+qMXRjFN86YXIdncwA7",
      "include_colab_link": true
    },
    "kernelspec": {
      "name": "python3",
      "display_name": "Python 3"
    },
    "language_info": {
      "name": "python"
    }
  },
  "cells": [
    {
      "cell_type": "markdown",
      "metadata": {
        "id": "view-in-github",
        "colab_type": "text"
      },
      "source": [
        "<a href=\"https://colab.research.google.com/github/ckshin29/newnewai/blob/main/exam3.ipynb\" target=\"_parent\"><img src=\"https://colab.research.google.com/assets/colab-badge.svg\" alt=\"Open In Colab\"/></a>"
      ]
    },
    {
      "cell_type": "code",
      "source": [
        "def fib(n : int) -> list :  # 함수 선언\n",
        "\n",
        "  fib_list = [] # 피보나치 수열 담을 리스트 생성\n",
        "  a, b = 1, 1 # 초기 값\n",
        "\n",
        "  while b < n : # 값이 n에 넣은 값을 넘지 않을 동안만 반복하도록 설정\n",
        "\n",
        "    fib_list.append(a) # 리스트에 a 값을 담도록 설정\n",
        "\n",
        "    a, b = b, a + b # a 는 b의 값으로 설정하고 b는 a와 b의 더한 값으로 설정\n",
        "\n",
        "  print(fib_list) # 반복문 종료 시 리스트 출력\n",
        "  print(len(fib_list)) # 리스트에 담긴 숫자들 갯수 출력\n",
        "\n",
        "fib(100)"
      ],
      "metadata": {
        "colab": {
          "base_uri": "https://localhost:8080/"
        },
        "id": "aN9oNWX8hqAz",
        "outputId": "c47ed1aa-2fd6-4206-9d77-491a43a93d51"
      },
      "execution_count": 13,
      "outputs": [
        {
          "output_type": "stream",
          "name": "stdout",
          "text": [
            "[1, 1, 2, 3, 5, 8, 13, 21, 34, 55]\n",
            "10\n"
          ]
        }
      ]
    }
  ]
}