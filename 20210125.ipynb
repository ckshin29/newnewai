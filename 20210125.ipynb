{
  "nbformat": 4,
  "nbformat_minor": 0,
  "metadata": {
    "colab": {
      "name": "20210125.ipynb",
      "provenance": [],
      "authorship_tag": "ABX9TyOpCblNLbBfe8E61XSGtMBD",
      "include_colab_link": true
    },
    "kernelspec": {
      "name": "python3",
      "display_name": "Python 3"
    },
    "language_info": {
      "name": "python"
    }
  },
  "cells": [
    {
      "cell_type": "markdown",
      "metadata": {
        "id": "view-in-github",
        "colab_type": "text"
      },
      "source": [
        "<a href=\"https://colab.research.google.com/github/ckshin29/ai/blob/main/20210125.ipynb\" target=\"_parent\"><img src=\"https://colab.research.google.com/assets/colab-badge.svg\" alt=\"Open In Colab\"/></a>"
      ]
    },
    {
      "cell_type": "code",
      "execution_count": 9,
      "metadata": {
        "colab": {
          "base_uri": "https://localhost:8080/"
        },
        "id": "dto9OmZXzHsr",
        "outputId": "582db6ad-85cc-428d-8503-d1f0830d955c"
      },
      "outputs": [
        {
          "output_type": "stream",
          "name": "stdout",
          "text": [
            "hello world\n"
          ]
        }
      ],
      "source": [
        "'''\n",
        "작성자 : 신창균\n",
        "작성일 : 2022-01-25\n",
        "버전 : 0.1\n",
        "'''\n",
        "\n",
        "\"\"\"\n",
        "작성자 : 신창균\n",
        "작성일 : 2022-01-25\n",
        "버전 : 0.1\n",
        "\"\"\"\n",
        "\n",
        "# 보통 삼중 따옴표 조석은 \n",
        "# 여러줄을 주석으로 \n",
        "# 사용 할 때 사용한다.\n",
        "\n",
        "#주석 붙이는 위치\n",
        "print(\"hello world\") # 보통 행의 우측 또는 위에 주석을 붙인다."
      ]
    },
    {
      "cell_type": "code",
      "source": [
        "#################\n",
        "#변수 Variable\n",
        "#################\n",
        "\n",
        "score = 200\n",
        "print(score)\n",
        "\n",
        "score = 300\n",
        "print(score)"
      ],
      "metadata": {
        "colab": {
          "base_uri": "https://localhost:8080/"
        },
        "id": "tuO-sRpJ5qbl",
        "outputId": "3c0f3354-da33-46f8-de38-e9984d0e5f70"
      },
      "execution_count": 12,
      "outputs": [
        {
          "output_type": "stream",
          "name": "stdout",
          "text": [
            "200\n",
            "300\n"
          ]
        }
      ]
    },
    {
      "cell_type": "code",
      "source": [
        "a = 1\n",
        "A = 2\n",
        "print(a)\n",
        "print(A)"
      ],
      "metadata": {
        "colab": {
          "base_uri": "https://localhost:8080/"
        },
        "id": "wm-_RnM2AcXS",
        "outputId": "549b63ce-d461-48d8-889f-e0f67abd6c1f"
      },
      "execution_count": 13,
      "outputs": [
        {
          "output_type": "stream",
          "name": "stdout",
          "text": [
            "1\n",
            "2\n"
          ]
        }
      ]
    },
    {
      "cell_type": "code",
      "source": [
        "a1 = 'hi'\n",
        "print(a1)"
      ],
      "metadata": {
        "colab": {
          "base_uri": "https://localhost:8080/"
        },
        "id": "58L-QbDTAzIf",
        "outputId": "5f93e317-cdd4-4ea7-dd24-30fd69f56db2"
      },
      "execution_count": 19,
      "outputs": [
        {
          "output_type": "stream",
          "name": "stdout",
          "text": [
            "hi\n"
          ]
        }
      ]
    },
    {
      "cell_type": "code",
      "source": [
        ""
      ],
      "metadata": {
        "id": "ZDbw9XeICqTl"
      },
      "execution_count": null,
      "outputs": []
    },
    {
      "cell_type": "code",
      "source": [
        "student_avg = 20\n",
        "print(student_avg) \n",
        "math_sum = 1500\n",
        "print(math_sum) \n"
      ],
      "metadata": {
        "colab": {
          "base_uri": "https://localhost:8080/"
        },
        "id": "O7y14frHBeqQ",
        "outputId": "46b911da-ef96-42ec-b373-fb16b3d3123b"
      },
      "execution_count": 18,
      "outputs": [
        {
          "output_type": "stream",
          "name": "stdout",
          "text": [
            "20\n",
            "1500\n"
          ]
        }
      ]
    },
    {
      "cell_type": "code",
      "source": [
        "name = 'alice'\n",
        "age = 25\n",
        "address = '''우편번호 12345\n",
        "서울시 영등포구 여의도동\n",
        "서울빌딩 501호'''\n",
        "boyfriend = None\n",
        "height = 168.5\n",
        "\n",
        "print(name)\n",
        "print(age)\n",
        "print(address)\n",
        "print(boyfriend)\n",
        "print(height)\n"
      ],
      "metadata": {
        "colab": {
          "base_uri": "https://localhost:8080/"
        },
        "id": "CX5aMDOzCrzc",
        "outputId": "0cc45d52-c0e5-4fa4-e4e7-cd0426df3911"
      },
      "execution_count": 34,
      "outputs": [
        {
          "output_type": "stream",
          "name": "stdout",
          "text": [
            "alice\n",
            "25\n",
            "우편번호 12345\n",
            "서울시 영등포구 여의도동\n",
            "서울빌딩 501호\n",
            "None\n",
            "168.5\n"
          ]
        }
      ]
    },
    {
      "cell_type": "code",
      "source": [
        "#################\n",
        "#기본 자료형 type\n",
        "#################\n",
        "\n",
        "a = int(1.9)\n",
        "print(a)\n",
        "\n",
        "b = int(True)\n",
        "print(b)\n",
        "c = int(False)\n",
        "print(c)\n",
        "\n"
      ],
      "metadata": {
        "colab": {
          "base_uri": "https://localhost:8080/"
        },
        "id": "vPM4niXmDsYe",
        "outputId": "12c9463d-5efa-414d-a30e-2c954659df3e"
      },
      "execution_count": 25,
      "outputs": [
        {
          "output_type": "stream",
          "name": "stdout",
          "text": [
            "1\n",
            "1\n",
            "0\n"
          ]
        }
      ]
    },
    {
      "cell_type": "code",
      "source": [
        "a = 100\n",
        "b = '100'\n",
        "print(type(a))\n",
        "print(type(b))\n",
        "\n",
        "print(a)\n",
        "print(b)\n",
        "print(a==b)\n",
        "\n",
        "c = int(b)\n",
        "print(type(c))\n",
        "print(a==c)\n",
        "print(int(b))"
      ],
      "metadata": {
        "colab": {
          "base_uri": "https://localhost:8080/"
        },
        "id": "w2CUX1CLE7x1",
        "outputId": "05455658-7138-4cdd-eb9d-8d4a7356c65f"
      },
      "execution_count": 32,
      "outputs": [
        {
          "output_type": "stream",
          "name": "stdout",
          "text": [
            "<class 'int'>\n",
            "<class 'str'>\n",
            "100\n",
            "100\n",
            "False\n",
            "<class 'int'>\n",
            "True\n",
            "100\n"
          ]
        }
      ]
    },
    {
      "cell_type": "code",
      "source": [
        "# 실수 float\n",
        "\n",
        "a = float(1)\n",
        "print(a)\n",
        "\n",
        "b = float(True)\n",
        "print(b)\n",
        "\n",
        "c = float('3.14')\n",
        "print(c)\n",
        "\n",
        "d = float('100')\n",
        "print(d)"
      ],
      "metadata": {
        "colab": {
          "base_uri": "https://localhost:8080/"
        },
        "id": "w5N88D19GX9x",
        "outputId": "7c330ccd-0237-4e6f-af70-ac79d638f4ef"
      },
      "execution_count": 38,
      "outputs": [
        {
          "output_type": "stream",
          "name": "stdout",
          "text": [
            "1.0\n",
            "1.0\n",
            "3.14\n",
            "100.0\n"
          ]
        }
      ]
    },
    {
      "cell_type": "code",
      "source": [
        "# bool 논리 True of False\n",
        "\n",
        "a = bool(0)\n",
        "print(a)\n",
        "\n",
        "b = bool()\n",
        "print(b)\n",
        "\n",
        "c = bool([])\n",
        "print(c)\n",
        "\n",
        "d = bool([1])\n",
        "print(d)"
      ],
      "metadata": {
        "colab": {
          "base_uri": "https://localhost:8080/"
        },
        "id": "Tinz0mJHZ33b",
        "outputId": "0052d077-955d-4986-d182-7f2b36374271"
      },
      "execution_count": 42,
      "outputs": [
        {
          "output_type": "stream",
          "name": "stdout",
          "text": [
            "False\n",
            "False\n",
            "False\n",
            "True\n"
          ]
        }
      ]
    },
    {
      "cell_type": "code",
      "source": [
        "##################\n",
        "#문자열 String\n",
        "##################\n",
        "\n",
        "a = '대한민국'\n",
        "a = \"대한민국\"\n",
        "\n",
        "b = str(100)\n",
        "print(b)\n",
        "print(type(b))\n",
        "\n",
        "c = str(True)\n",
        "print(c)\n",
        "print(type(c))"
      ],
      "metadata": {
        "colab": {
          "base_uri": "https://localhost:8080/"
        },
        "id": "21Y98QlMbQaj",
        "outputId": "53b1c575-c578-4945-fa54-f9e5c8460e97"
      },
      "execution_count": 47,
      "outputs": [
        {
          "output_type": "stream",
          "name": "stdout",
          "text": [
            "100\n",
            "<class 'str'>\n",
            "True\n",
            "<class 'str'>\n"
          ]
        }
      ]
    },
    {
      "cell_type": "code",
      "source": [
        "# 문자열 인덱싱\n",
        "\n",
        "# 파이썬은 0에서 시작한다.\n",
        "\n",
        "s = 'Hello'\n",
        "print(s[4])\n",
        "\n",
        "print(s[-1])\n",
        "print(s[-5])\n",
        "print(s[-5]==s[0])\n",
        "\n",
        "\n",
        "\n",
        "ss = '990211-1005432'\n",
        "\n",
        "print(ss[7])"
      ],
      "metadata": {
        "colab": {
          "base_uri": "https://localhost:8080/"
        },
        "id": "ngCN475hb6w9",
        "outputId": "becdf8bd-99d2-4373-b661-ab23d39b9005"
      },
      "execution_count": 54,
      "outputs": [
        {
          "output_type": "stream",
          "name": "stdout",
          "text": [
            "o\n",
            "o\n",
            "H\n",
            "True\n",
            "1\n"
          ]
        }
      ]
    },
    {
      "cell_type": "code",
      "source": [
        "ss = '990211-1005432'\n",
        "\n",
        "print(ss[0:2]) # 0 번째부터 2번째 미만까지...[start:stop:step] step은 생략 가능\n",
        "print(ss[0:10:2]) "
      ],
      "metadata": {
        "colab": {
          "base_uri": "https://localhost:8080/"
        },
        "id": "O99fuaEtfQSy",
        "outputId": "2360f7d9-0ba5-4456-d02b-75beb351b9cf"
      },
      "execution_count": 56,
      "outputs": [
        {
          "output_type": "stream",
          "name": "stdout",
          "text": [
            "99\n",
            "901-0\n"
          ]
        }
      ]
    },
    {
      "cell_type": "code",
      "source": [
        "#print\n",
        "F\n",
        "\n",
        "print(\"Hello 'World'\")\n",
        "print('Hello \\'World\\'')\n",
        "print(\"Hello \\\"World\\\"\")\n",
        "print('Hello \"World\"')"
      ],
      "metadata": {
        "colab": {
          "base_uri": "https://localhost:8080/"
        },
        "id": "2Gl68lQvgWH6",
        "outputId": "0bfdfc36-d26b-4659-9f97-293b34403150"
      },
      "execution_count": 61,
      "outputs": [
        {
          "output_type": "stream",
          "name": "stdout",
          "text": [
            "Hello World\n",
            "Hello 'World'\n",
            "Hello 'World'\n",
            "Hello \"World\"\n",
            "Hello \"World\"\n"
          ]
        }
      ]
    },
    {
      "cell_type": "code",
      "source": [
        "print('Hello \\nWorld')"
      ],
      "metadata": {
        "colab": {
          "base_uri": "https://localhost:8080/"
        },
        "id": "PJtmwJIliHy3",
        "outputId": "d3ce0bff-4c75-45b3-fcf3-ca9ba6300b07"
      },
      "execution_count": 64,
      "outputs": [
        {
          "output_type": "stream",
          "name": "stdout",
          "text": [
            "Hello \n",
            "World\n"
          ]
        }
      ]
    },
    {
      "cell_type": "code",
      "source": [
        "print('이름  \\n전화')"
      ],
      "metadata": {
        "colab": {
          "base_uri": "https://localhost:8080/"
        },
        "id": "0Htu4NWiiew5",
        "outputId": "7e2437d7-12cf-47a0-8799-d093a52fbc91"
      },
      "execution_count": 63,
      "outputs": [
        {
          "output_type": "stream",
          "name": "stdout",
          "text": [
            "이름  \n",
            "전화\n"
          ]
        }
      ]
    },
    {
      "cell_type": "code",
      "source": [
        "print('이름\\t연락처')\n",
        "print('홍길동\\t010-2020-2903')\n",
        "\n"
      ],
      "metadata": {
        "colab": {
          "base_uri": "https://localhost:8080/"
        },
        "id": "kjPzIBYai3rj",
        "outputId": "3aa7246a-f05e-4112-fab3-392695ed9821"
      },
      "execution_count": 66,
      "outputs": [
        {
          "output_type": "stream",
          "name": "stdout",
          "text": [
            "이름\t연락처\n",
            "홍길동\t010-2020-2903\n"
          ]
        }
      ]
    },
    {
      "cell_type": "code",
      "source": [
        "print('재미있는 ', '파이썬')"
      ],
      "metadata": {
        "colab": {
          "base_uri": "https://localhost:8080/"
        },
        "id": "mZPOcEOrjgD6",
        "outputId": "0a3481dc-1105-4db3-a758-33c2aaf03a51"
      },
      "execution_count": 68,
      "outputs": [
        {
          "output_type": "stream",
          "name": "stdout",
          "text": [
            "재미있는  파이썬\n"
          ]
        }
      ]
    },
    {
      "cell_type": "code",
      "source": [
        "print('평점', end=':')\n",
        "print('5점')"
      ],
      "metadata": {
        "colab": {
          "base_uri": "https://localhost:8080/"
        },
        "id": "zrhGBlQ4jof5",
        "outputId": "9ed56e89-f8d3-433f-e7cf-c78947269693"
      },
      "execution_count": 70,
      "outputs": [
        {
          "output_type": "stream",
          "name": "stdout",
          "text": [
            "평점:5점\n"
          ]
        }
      ]
    },
    {
      "cell_type": "code",
      "source": [
        ""
      ],
      "metadata": {
        "id": "26bHfFgDkPva"
      },
      "execution_count": null,
      "outputs": []
    },
    {
      "cell_type": "code",
      "source": [
        "print('국어','영어','수학')\n",
        "print('국어','영어','수학', sep = '/')\n",
        "print('국어','영어','수학', sep = ',')\n",
        "print('국어','영어','수학', sep = '\\n')\n",
        "print('\\n국어\\n영어\\n수학')\n"
      ],
      "metadata": {
        "colab": {
          "base_uri": "https://localhost:8080/"
        },
        "id": "V3tLZXOdotI_",
        "outputId": "107a5244-ffc7-48a2-a765-ef92725ced0f"
      },
      "execution_count": 75,
      "outputs": [
        {
          "output_type": "stream",
          "name": "stdout",
          "text": [
            "국어 영어 수학\n",
            "국어/영어/수학\n",
            "국어,영어,수학\n",
            "국어\n",
            "영어\n",
            "수학\n",
            "\n",
            "국어\n",
            "영어\n",
            "수학\n"
          ]
        }
      ]
    },
    {
      "cell_type": "code",
      "source": [
        "# %연산자\n",
        "\n",
        "print(10)\n",
        "print('%d' %10) # %d decimal 정수\n",
        "print('%f' %3.14) # %f float 실수\n",
        "print('%s' %'학생') # %s string 문자열\n",
        "\n",
        "print('%d 을 입력하세요' %10)\n",
        "print('%s 을 입력하세요' %10)\n",
        "\n",
        "print('원주율은 %f 입니다.' %3.14)\n",
        "print('원주율은 %s 입니다.' %3.14)\n",
        "\n",
        "std = \"고등학생\"\n",
        "print('저는 %s 입니다.' %std)\n",
        "print(\"저는\", std, '입니다')"
      ],
      "metadata": {
        "colab": {
          "base_uri": "https://localhost:8080/"
        },
        "id": "1sQ5bEjGqN0_",
        "outputId": "e8ab94f3-6360-4c32-c03d-d57316529ebf"
      },
      "execution_count": 86,
      "outputs": [
        {
          "output_type": "stream",
          "name": "stdout",
          "text": [
            "10\n",
            "10\n",
            "3.140000\n",
            "학생\n",
            "10 을 입력하세요\n",
            "10 을 입력하세요\n",
            "원주율은 3.140000 입니다.\n",
            "원주율은 3.14 입니다.\n",
            "저는 고등학생 입니다.\n",
            "저는 고등학생 입니다\n"
          ]
        }
      ]
    },
    {
      "cell_type": "code",
      "source": [
        "print(\"%d\" % 1)\n",
        "print(\"%5d\" % 1)\n",
        "print(\"%-5d\" % 1)\n",
        "print(\"%5d\" % 11)\n",
        "print(\"%-5d\" % 11)\n",
        "\n"
      ],
      "metadata": {
        "colab": {
          "base_uri": "https://localhost:8080/"
        },
        "id": "vLsDcYYMtPNJ",
        "outputId": "b5fbed97-451c-44ab-b838-7cc70a8ec7ef"
      },
      "execution_count": 91,
      "outputs": [
        {
          "output_type": "stream",
          "name": "stdout",
          "text": [
            "1\n",
            "    1\n",
            "1    \n",
            "   11\n"
          ]
        }
      ]
    },
    {
      "cell_type": "code",
      "source": [
        ""
      ],
      "metadata": {
        "id": "c9JeVZH7t7TR"
      },
      "execution_count": null,
      "outputs": []
    },
    {
      "cell_type": "code",
      "source": [
        "print('원주율은 %f 입니다.' %3.14)\n",
        "print('원주율은 %5.1f 입니다.' %3.14)\n",
        "print('원주율은 %-5.1f 입니다.' %3.14)\n",
        "print('원주율은 %.2f 입니다.' %3.14)\n",
        "\n"
      ],
      "metadata": {
        "colab": {
          "base_uri": "https://localhost:8080/"
        },
        "id": "j9w3u85EqWEg",
        "outputId": "ee681734-191e-43a0-ac83-05d28f6ed835"
      },
      "execution_count": 97,
      "outputs": [
        {
          "output_type": "stream",
          "name": "stdout",
          "text": [
            "원주율은 3.140000 입니다.\n",
            "원주율은   3.1 입니다.\n",
            "원주율은 3.1   입니다.\n",
            "원주율은 3.14 입니다.\n"
          ]
        }
      ]
    },
    {
      "cell_type": "code",
      "source": [
        "name = 'kai'\n",
        "print('내 이름은 %s입니다.' %name)"
      ],
      "metadata": {
        "colab": {
          "base_uri": "https://localhost:8080/"
        },
        "id": "v7zGQHsivPXK",
        "outputId": "10e26f7e-23ad-43b1-e38c-176b8004757d"
      },
      "execution_count": 98,
      "outputs": [
        {
          "output_type": "stream",
          "name": "stdout",
          "text": [
            "내 이름은 kai입니다.\n"
          ]
        }
      ]
    },
    {
      "cell_type": "code",
      "source": [
        "height = 185.5\n",
        "print('내 키는 %.1f입니다.' %height)\n",
        "print('내 키는 %s입니다.' %height)\n",
        "print('내 키는 %s이고 이름은 %s입니다.' %(height, name))\n",
        "print('내 키는 {}이고 이름은 {}입니다.' .format(height,name))"
      ],
      "metadata": {
        "colab": {
          "base_uri": "https://localhost:8080/"
        },
        "id": "3L81W_GovbR4",
        "outputId": "03dbfa70-d4c2-414b-d2de-bf03710d634a"
      },
      "execution_count": 109,
      "outputs": [
        {
          "output_type": "stream",
          "name": "stdout",
          "text": [
            "내 키는 185.5입니다.\n",
            "내 키는 185.5입니다.\n",
            "내 키는 185.5이고 이름은 kai입니다.\n",
            "내 키는 185.5이고 이름은 kai입니다.\n"
          ]
        }
      ]
    },
    {
      "cell_type": "code",
      "source": [
        "height = 185.5\n",
        "print('내 키는 %.1f입니다.' %height)\n",
        "print('내 키는 %s입니다.' %height)"
      ],
      "metadata": {
        "id": "FKmfrluMv-_4"
      },
      "execution_count": null,
      "outputs": []
    },
    {
      "cell_type": "code",
      "source": [
        "# format()\n",
        "\n",
        "zipcode ='06236'\n",
        "print('우편번호 : %s' % zipcode)\n",
        "\n",
        "print('우편번호 : {}'.format(zipcode))"
      ],
      "metadata": {
        "colab": {
          "base_uri": "https://localhost:8080/"
        },
        "id": "vuqI3gYJv2Ho",
        "outputId": "6dc7e70b-8e6b-45ae-f713-bd30c94889b9"
      },
      "execution_count": 105,
      "outputs": [
        {
          "output_type": "stream",
          "name": "stdout",
          "text": [
            "우편번호 : 06236\n",
            "우편번호 : 06236\n"
          ]
        }
      ]
    },
    {
      "cell_type": "code",
      "source": [
        "print('My name is {}. i\\'m {} years old.' .format('James' , 25))\n",
        "print('My name is {1}. i\\'m {0} years old.' .format(25 , 'James'))\n",
        "print('My name is {name}. i\\'m {age} years old.' .format(age=25, name='James'))"
      ],
      "metadata": {
        "colab": {
          "base_uri": "https://localhost:8080/"
        },
        "id": "Gb7PXqB2x-lV",
        "outputId": "bb74c949-2c55-491e-e689-e48dde51b813"
      },
      "execution_count": 113,
      "outputs": [
        {
          "output_type": "stream",
          "name": "stdout",
          "text": [
            "My name is James. i'm 25 years old.\n",
            "My name is James. i'm 25 years old.\n",
            "My name is James. i'm 25 years old.\n"
          ]
        }
      ]
    },
    {
      "cell_type": "code",
      "source": [
        "# f-strings\n",
        "# 파이썬 3.6 이후 부터 사용 가능\n",
        "\n",
        "who = 'you'\n",
        "how = 'happy'\n",
        "print(f'{who} make me {how}')"
      ],
      "metadata": {
        "colab": {
          "base_uri": "https://localhost:8080/"
        },
        "id": "pltUNXS-23DD",
        "outputId": "7d448713-a2d6-4e64-ecf1-aa0a3a80d18f"
      },
      "execution_count": 114,
      "outputs": [
        {
          "output_type": "stream",
          "name": "stdout",
          "text": [
            "you make me happy\n"
          ]
        }
      ]
    },
    {
      "cell_type": "code",
      "source": [
        "age = 25\n",
        "\n",
        "print(f'올해는 {age} 입니다')\n",
        "print(f'내년에는 {age+1} 입니다')"
      ],
      "metadata": {
        "colab": {
          "base_uri": "https://localhost:8080/"
        },
        "id": "g-GBYHtl3qCG",
        "outputId": "0e6116c4-2851-4cf1-cda3-dd4e45ee2a33"
      },
      "execution_count": 118,
      "outputs": [
        {
          "output_type": "stream",
          "name": "stdout",
          "text": [
            "올해는 25 입니다\n",
            "내년에는 26 입니다\n"
          ]
        }
      ]
    },
    {
      "cell_type": "code",
      "source": [
        "#################\n",
        "#입력 input()\n",
        "#################\n",
        "\n",
        "n = input()\n",
        "print(f'당신이 입력한 내용은 {n} 입니다.')\n",
        "print('당신이 입력한 내용은', n , '입니다.')\n",
        "\n"
      ],
      "metadata": {
        "colab": {
          "base_uri": "https://localhost:8080/"
        },
        "id": "PBLSriKN4WQE",
        "outputId": "97cf2f7f-c24d-416f-ff04-d4eef6284394"
      },
      "execution_count": 123,
      "outputs": [
        {
          "output_type": "stream",
          "name": "stdout",
          "text": [
            "1\n",
            "당신이 입력한 내용은 1 입니다.\n",
            "당신이 입력한 내용은 1 입니다.\n"
          ]
        }
      ]
    },
    {
      "cell_type": "code",
      "source": [
        "n = input('당신의 나이를 입력하세요')\n",
        "print(f'당신의 나이는 {n} 입니다.')\n",
        "print('당신의 나이는', n , '입니다.')"
      ],
      "metadata": {
        "colab": {
          "base_uri": "https://localhost:8080/"
        },
        "id": "AYxiAsQY5bfW",
        "outputId": "c4d7b6d5-f690-4efa-e23e-9e2e6b950dfe"
      },
      "execution_count": 124,
      "outputs": [
        {
          "output_type": "stream",
          "name": "stdout",
          "text": [
            "당신의 나이를 입력하세요20\n",
            "당신의 나이는 20 입니다.\n",
            "당신의 나이는 20 입니다.\n"
          ]
        }
      ]
    },
    {
      "cell_type": "code",
      "source": [
        "name = input('이름을 입력하세요 ')\n",
        "age = input('나이를 입력하세요 ')\n",
        "\n",
        "# 1 기본\n",
        "print('당신의 이름은' , name, '이고 나이는' , age, '입니다.')\n",
        "\n",
        "# 2 f-string\n",
        "print(f'당신의 이름은 {name} 이고 나이는 {age} 입니다.')\n",
        "\n",
        "# 3 format()\n",
        "print('당신의 이름은 {} 이고 나이는 {} 입니다.' .format(name,age))\n",
        "\n",
        "# 4 % 연산자\n",
        "print('당신의 이름은 %s 이고 나이는 %s 입니다.' % (name,age))\n",
        "\n",
        "print(name, type(name))\n",
        "print(age, type(age))"
      ],
      "metadata": {
        "colab": {
          "base_uri": "https://localhost:8080/"
        },
        "id": "sNWK1WR-5kU-",
        "outputId": "74100863-e790-4a8e-c566-7102983b26d2"
      },
      "execution_count": 137,
      "outputs": [
        {
          "output_type": "stream",
          "name": "stdout",
          "text": [
            "이름을 입력하세요 11\n",
            "나이를 입력하세요 13\n",
            "당신의 이름은 11 이고 나이는 13 입니다.\n",
            "당신의 이름은 11 이고 나이는 13 입니다.\n",
            "당신의 이름은 11 이고 나이는 13 입니다.\n",
            "당신의 이름은 11 이고 나이는 13 입니다.\n",
            "11 <class 'str'>\n",
            "13 <class 'str'>\n"
          ]
        }
      ]
    },
    {
      "cell_type": "code",
      "source": [
        "name = input('이름을 입력하세요 ')\n",
        "age = int(input('나이를 입력하세요 '))\n",
        "\n",
        "print('당신의 이름은 %s 이고 나이는 %d 입니다.' % (name,age))\n",
        "\n",
        "print(name, type(name))\n",
        "print(age, type(age))"
      ],
      "metadata": {
        "colab": {
          "base_uri": "https://localhost:8080/"
        },
        "id": "TJDwCtZr5Y8n",
        "outputId": "a06dc922-7bc9-4bea-9310-14d04f9bb247"
      },
      "execution_count": 139,
      "outputs": [
        {
          "output_type": "stream",
          "name": "stdout",
          "text": [
            "이름을 입력하세요 13\n",
            "나이를 입력하세요 22\n",
            "당신의 이름은 13 이고 나이는 22 입니다.\n",
            "당신의 이름은 13 이고 나이는 22 입니다.\n",
            "당신의 이름은 13 이고 나이는 22 입니다.\n",
            "당신의 이름은 13 이고 나이는 22 입니다.\n",
            "13 <class 'str'>\n",
            "22 <class 'int'>\n"
          ]
        }
      ]
    },
    {
      "cell_type": "code",
      "source": [
        "month = int(input('할부 개월 입력 '))\n",
        "money = 50000\n",
        "monthly = round(money/month,2)\n",
        "\n",
        "print(month, '개월 동안 매달 내는 금액은 ', monthly,'입니다.')\n",
        "\n",
        "print(f'{month} 개월 동안 매달 내는 금액은 {monthly} 입니다.')\n",
        "\n",
        "print('{} 개월 동안 매달 내는 금액은 {} 입니다.' .format(month , monthly))\n",
        "\n",
        "print('%d 개월 동안 매달 내는 금액은 %s입니다.' % (month, monthly))\n",
        "\n"
      ],
      "metadata": {
        "colab": {
          "base_uri": "https://localhost:8080/"
        },
        "id": "tLfXHZ3g92fr",
        "outputId": "c4e2612f-5487-49a2-ddf4-5d14d440310c"
      },
      "execution_count": 155,
      "outputs": [
        {
          "output_type": "stream",
          "name": "stdout",
          "text": [
            "할부 개월 입력 3\n",
            "3 개월 동안 매달 내는 금액은  16666.67 입니다.\n",
            "3 개월 동안 매달 내는 금액은 16666.67 입니다.\n",
            "3 개월 동안 매달 내는 금액은 16666.67 입니다.\n",
            "3 개월 동안 매달 내는 금액은 16666.67입니다.\n"
          ]
        }
      ]
    },
    {
      "cell_type": "code",
      "source": [
        "a = float(input('실수 1 : '))\n",
        "b = float(input('실수 2 : '))\n",
        "c = a + b\n",
        "\n",
        "print(a, '과', b,'의 합계는', c,'입니다.')\n",
        "\n",
        "print(f'{a}과 {b} 의 합계는 {c} 입니다.')\n",
        "\n",
        "print('{}과 {}의 합계는 {} 입니다.' .format(a , b , c))\n",
        "\n",
        "print('%f과 %f의 합계는 %f 입니다.' % (a ,b, c))"
      ],
      "metadata": {
        "colab": {
          "base_uri": "https://localhost:8080/"
        },
        "id": "ST02McjmFHoG",
        "outputId": "2d13e2d6-f035-4caa-e03b-fac7185f8976"
      },
      "execution_count": 156,
      "outputs": [
        {
          "output_type": "stream",
          "name": "stdout",
          "text": [
            "실수 1 : 4.3\n",
            "실수 2 : 2.7\n",
            "4.3 과 2.7 의 합계는 7.0 입니다.\n",
            "4.3과 2.7 의 합계는 7.0 입니다.\n",
            "4.3과 2.7의 합계는 7.0 입니다.\n",
            "4.300000과 2.700000의 합계는 7.000000 입니다.\n"
          ]
        }
      ]
    }
  ]
}