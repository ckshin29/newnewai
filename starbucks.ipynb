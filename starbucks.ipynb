{
 "cells": [
  {
   "cell_type": "code",
   "execution_count": 1,
   "metadata": {},
   "outputs": [],
   "source": [
    "from selenium import webdriver       # 파이썬으로 브라우저 컨트롤 모듈\n",
    "from bs4 import BeautifulSoup as bs # 클롤링한 데이터 정제 모듈\n",
    "import pandas as pd                      # 데이터 분석 모듈"
   ]
  },
  {
   "cell_type": "code",
   "execution_count": 2,
   "metadata": {},
   "outputs": [
    {
     "name": "stderr",
     "output_type": "stream",
     "text": [
      "C:\\Users\\Tutorial\\AppData\\Local\\Temp/ipykernel_8328/2198966681.py:1: DeprecationWarning: executable_path has been deprecated, please pass in a Service object\n",
      "  driver = webdriver.Chrome('chromedriver.exe')\n"
     ]
    }
   ],
   "source": [
    "driver = webdriver.Chrome('chromedriver.exe')\n",
    "driver.get('https://www.starbucks.co.kr/store/store_map.do')"
   ]
  },
  {
   "cell_type": "code",
   "execution_count": 3,
   "metadata": {},
   "outputs": [
    {
     "name": "stderr",
     "output_type": "stream",
     "text": [
      "C:\\Users\\Tutorial\\AppData\\Local\\Temp/ipykernel_8328/2162603177.py:2: DeprecationWarning: find_element_by_* commands are deprecated. Please use find_element() instead\n",
      "  driver.find_element_by_css_selector(area_btn).click()\n"
     ]
    }
   ],
   "source": [
    "area_btn = '#container > div > form > fieldset > div > section > article.find_store_cont > article > header.loca_search > h3 > a'\n",
    "driver.find_element_by_css_selector(area_btn).click()"
   ]
  },
  {
   "cell_type": "code",
   "execution_count": 4,
   "metadata": {},
   "outputs": [
    {
     "name": "stderr",
     "output_type": "stream",
     "text": [
      "C:\\Users\\Tutorial\\AppData\\Local\\Temp/ipykernel_8328/3501212899.py:2: DeprecationWarning: find_element_by_* commands are deprecated. Please use find_element() instead\n",
      "  driver.find_element_by_css_selector(seoul_btn).click()\n"
     ]
    }
   ],
   "source": [
    "seoul_btn = '#container > div > form > fieldset > div > section > article.find_store_cont > article > article:nth-child(4) > div.loca_step1 > div.loca_step1_cont > ul > li:nth-child(1) > a'\n",
    "driver.find_element_by_css_selector(seoul_btn).click()"
   ]
  },
  {
   "cell_type": "code",
   "execution_count": 5,
   "metadata": {},
   "outputs": [
    {
     "name": "stderr",
     "output_type": "stream",
     "text": [
      "C:\\Users\\Tutorial\\AppData\\Local\\Temp/ipykernel_8328/2684697461.py:2: DeprecationWarning: find_element_by_* commands are deprecated. Please use find_element() instead\n",
      "  driver.find_element_by_css_selector(all_btn).click()\n"
     ]
    }
   ],
   "source": [
    "all_btn = '#mCSB_2_container > ul > li:nth-child(1) > a'\n",
    "driver.find_element_by_css_selector(all_btn).click()"
   ]
  },
  {
   "cell_type": "code",
   "execution_count": 6,
   "metadata": {},
   "outputs": [],
   "source": [
    "html = driver.page_source   # 전체 페이저 소스 읽어오기\n",
    "soup = bs(html)                # bs으로 데이터 정제"
   ]
  },
  {
   "cell_type": "code",
   "execution_count": 7,
   "metadata": {},
   "outputs": [
    {
     "data": {
      "text/plain": [
       "569"
      ]
     },
     "execution_count": 7,
     "metadata": {},
     "output_type": "execute_result"
    }
   ],
   "source": [
    "starbucks_list = soup.select('ul.quickSearchResultBoxSidoGugun > li.quickResultLstCon')                # 서울 전체 스타벅스 목록만 읽어오기\n",
    "\n",
    "len(starbucks_list)"
   ]
  },
  {
   "cell_type": "code",
   "execution_count": 8,
   "metadata": {},
   "outputs": [
    {
     "data": {
      "text/plain": [
       "<li class=\"quickResultLstCon\" data-code=\"3762\" data-hlytag=\"null\" data-index=\"0\" data-lat=\"37.501087\" data-long=\"127.043069\" data-name=\"역삼아레나빌딩\" data-storecd=\"1509\" style=\"background:#fff\"> <strong data-my_siren_order_store_yn=\"N\" data-name=\"역삼아레나빌딩\" data-store=\"1509\" data-yn=\"N\">역삼아레나빌딩  </strong> <p class=\"result_details\">서울특별시 강남구 언주로 425 (역삼동)<br/>1522-3232</p> <i class=\"pin_general\">리저브 매장 2번</i></li>"
      ]
     },
     "execution_count": 8,
     "metadata": {},
     "output_type": "execute_result"
    }
   ],
   "source": [
    "star = starbucks_list[0]\n",
    "star"
   ]
  },
  {
   "cell_type": "code",
   "execution_count": 9,
   "metadata": {},
   "outputs": [],
   "source": [
    "#name = star['data-name']            # 지점명\n",
    "name = star.select('strong')[0].text.strip()\n",
    "lat =  star['data-lat'].strip()             # 위도\n",
    "lng =  star['data-long'].strip()          # 경도\n",
    "\n",
    "addr =  str(star.select('p')[0]).split('<br/>')[0].split('>')[1]    # 주소\n",
    "tel = str(star.select('p')[0]).split('<br/>')[1].split('<')[0]        # 전화번호\n"
   ]
  },
  {
   "cell_type": "code",
   "execution_count": 10,
   "metadata": {},
   "outputs": [],
   "source": [
    "starbucks = []\n",
    "for star in starbucks_list:\n",
    "    name = star.select('strong')[0].text.strip()\n",
    "    lat =  star['data-lat'].strip()             # 위도\n",
    "    lng =  star['data-long'].strip()          # 경도\n",
    "\n",
    "    addr =  str(star.select('p')[0]).split('<br/>')[0].split('>')[1]    # 주소\n",
    "    tel = str(star.select('p')[0]).split('<br/>')[1].split('<')[0]        # 전화번호\n",
    "\n",
    "    starbucks.append([name, lat, lng, addr, tel])"
   ]
  },
  {
   "cell_type": "code",
   "execution_count": 11,
   "metadata": {},
   "outputs": [],
   "source": [
    "# 데이터 프레임 생성\n",
    "columns = ['매장명','위도','경도','주소','전화번호']\n",
    "seoul_starbucks = pd.DataFrame(starbucks, columns = columns)\n",
    "\n",
    "seoul_starbucks.to_excel('seoul_starbucks.xlsx', index=False)"
   ]
  },
  {
   "cell_type": "code",
   "execution_count": 19,
   "metadata": {},
   "outputs": [
    {
     "data": {
      "text/html": [
       "<div>\n",
       "<style scoped>\n",
       "    .dataframe tbody tr th:only-of-type {\n",
       "        vertical-align: middle;\n",
       "    }\n",
       "\n",
       "    .dataframe tbody tr th {\n",
       "        vertical-align: top;\n",
       "    }\n",
       "\n",
       "    .dataframe thead th {\n",
       "        text-align: right;\n",
       "    }\n",
       "</style>\n",
       "<table border=\"1\" class=\"dataframe\">\n",
       "  <thead>\n",
       "    <tr style=\"text-align: right;\">\n",
       "      <th></th>\n",
       "      <th>매장명</th>\n",
       "      <th>위도</th>\n",
       "      <th>경도</th>\n",
       "      <th>주소</th>\n",
       "      <th>전화번호</th>\n",
       "      <th>시군구명</th>\n",
       "    </tr>\n",
       "  </thead>\n",
       "  <tbody>\n",
       "    <tr>\n",
       "      <th>0</th>\n",
       "      <td>역삼아레나빌딩</td>\n",
       "      <td>37.501087</td>\n",
       "      <td>127.043069</td>\n",
       "      <td>서울특별시 강남구 언주로 425 (역삼동)</td>\n",
       "      <td>1522-3232</td>\n",
       "      <td>강남구</td>\n",
       "    </tr>\n",
       "    <tr>\n",
       "      <th>1</th>\n",
       "      <td>논현역사거리</td>\n",
       "      <td>37.510178</td>\n",
       "      <td>127.022223</td>\n",
       "      <td>서울특별시 강남구 강남대로 538 (논현동)</td>\n",
       "      <td>1522-3232</td>\n",
       "      <td>강남구</td>\n",
       "    </tr>\n",
       "    <tr>\n",
       "      <th>2</th>\n",
       "      <td>신사역성일빌딩</td>\n",
       "      <td>37.514132</td>\n",
       "      <td>127.020563</td>\n",
       "      <td>서울특별시 강남구 강남대로 584 (논현동)</td>\n",
       "      <td>1522-3232</td>\n",
       "      <td>강남구</td>\n",
       "    </tr>\n",
       "    <tr>\n",
       "      <th>3</th>\n",
       "      <td>국기원사거리</td>\n",
       "      <td>37.499517</td>\n",
       "      <td>127.031495</td>\n",
       "      <td>서울특별시 강남구 테헤란로 125 (역삼동)</td>\n",
       "      <td>1522-3232</td>\n",
       "      <td>강남구</td>\n",
       "    </tr>\n",
       "    <tr>\n",
       "      <th>4</th>\n",
       "      <td>대치재경빌딩R</td>\n",
       "      <td>37.494668</td>\n",
       "      <td>127.062583</td>\n",
       "      <td>서울특별시 강남구 남부순환로 2947 (대치동)</td>\n",
       "      <td>1522-3232</td>\n",
       "      <td>강남구</td>\n",
       "    </tr>\n",
       "  </tbody>\n",
       "</table>\n",
       "</div>"
      ],
      "text/plain": [
       "       매장명         위도          경도                          주소       전화번호 시군구명\n",
       "0  역삼아레나빌딩  37.501087  127.043069     서울특별시 강남구 언주로 425 (역삼동)  1522-3232  강남구\n",
       "1   논현역사거리  37.510178  127.022223    서울특별시 강남구 강남대로 538 (논현동)  1522-3232  강남구\n",
       "2  신사역성일빌딩  37.514132  127.020563    서울특별시 강남구 강남대로 584 (논현동)  1522-3232  강남구\n",
       "3   국기원사거리  37.499517  127.031495    서울특별시 강남구 테헤란로 125 (역삼동)  1522-3232  강남구\n",
       "4  대치재경빌딩R  37.494668  127.062583  서울특별시 강남구 남부순환로 2947 (대치동)  1522-3232  강남구"
      ]
     },
     "execution_count": 19,
     "metadata": {},
     "output_type": "execute_result"
    }
   ],
   "source": [
    "# seoul_starbucks 데이터 프레임에 '시군구' 이름의 열을 만들어서\n",
    "# 주소에서 구만 추출하여 삽입하시오.\n",
    "sgg_names = []\n",
    "\n",
    "for addr in seoul_starbucks['주소']:\n",
    "    sgg = addr.split()[1]\n",
    "    sgg_names.append(sgg)\n",
    "    \n",
    "seoul_starbucks['시군구명'] = sgg_names\n",
    "\n",
    "seoul_starbucks.head()\n"
   ]
  },
  {
   "cell_type": "code",
   "execution_count": 20,
   "metadata": {},
   "outputs": [
    {
     "data": {
      "text/html": [
       "<div>\n",
       "<style scoped>\n",
       "    .dataframe tbody tr th:only-of-type {\n",
       "        vertical-align: middle;\n",
       "    }\n",
       "\n",
       "    .dataframe tbody tr th {\n",
       "        vertical-align: top;\n",
       "    }\n",
       "\n",
       "    .dataframe thead th {\n",
       "        text-align: right;\n",
       "    }\n",
       "</style>\n",
       "<table border=\"1\" class=\"dataframe\">\n",
       "  <thead>\n",
       "    <tr style=\"text-align: right;\">\n",
       "      <th></th>\n",
       "      <th>매장명</th>\n",
       "    </tr>\n",
       "    <tr>\n",
       "      <th>시군구명</th>\n",
       "      <th></th>\n",
       "    </tr>\n",
       "  </thead>\n",
       "  <tbody>\n",
       "    <tr>\n",
       "      <th>강남구</th>\n",
       "      <td>88</td>\n",
       "    </tr>\n",
       "    <tr>\n",
       "      <th>강동구</th>\n",
       "      <td>16</td>\n",
       "    </tr>\n",
       "    <tr>\n",
       "      <th>강북구</th>\n",
       "      <td>6</td>\n",
       "    </tr>\n",
       "    <tr>\n",
       "      <th>강서구</th>\n",
       "      <td>22</td>\n",
       "    </tr>\n",
       "    <tr>\n",
       "      <th>관악구</th>\n",
       "      <td>11</td>\n",
       "    </tr>\n",
       "    <tr>\n",
       "      <th>광진구</th>\n",
       "      <td>18</td>\n",
       "    </tr>\n",
       "    <tr>\n",
       "      <th>구로구</th>\n",
       "      <td>12</td>\n",
       "    </tr>\n",
       "    <tr>\n",
       "      <th>금천구</th>\n",
       "      <td>11</td>\n",
       "    </tr>\n",
       "    <tr>\n",
       "      <th>노원구</th>\n",
       "      <td>13</td>\n",
       "    </tr>\n",
       "    <tr>\n",
       "      <th>도봉구</th>\n",
       "      <td>3</td>\n",
       "    </tr>\n",
       "    <tr>\n",
       "      <th>동대문구</th>\n",
       "      <td>9</td>\n",
       "    </tr>\n",
       "    <tr>\n",
       "      <th>동작구</th>\n",
       "      <td>11</td>\n",
       "    </tr>\n",
       "    <tr>\n",
       "      <th>마포구</th>\n",
       "      <td>33</td>\n",
       "    </tr>\n",
       "    <tr>\n",
       "      <th>서대문구</th>\n",
       "      <td>21</td>\n",
       "    </tr>\n",
       "    <tr>\n",
       "      <th>서초구</th>\n",
       "      <td>48</td>\n",
       "    </tr>\n",
       "    <tr>\n",
       "      <th>성동구</th>\n",
       "      <td>12</td>\n",
       "    </tr>\n",
       "    <tr>\n",
       "      <th>성북구</th>\n",
       "      <td>14</td>\n",
       "    </tr>\n",
       "    <tr>\n",
       "      <th>송파구</th>\n",
       "      <td>34</td>\n",
       "    </tr>\n",
       "    <tr>\n",
       "      <th>양천구</th>\n",
       "      <td>17</td>\n",
       "    </tr>\n",
       "    <tr>\n",
       "      <th>영등포구</th>\n",
       "      <td>40</td>\n",
       "    </tr>\n",
       "    <tr>\n",
       "      <th>용산구</th>\n",
       "      <td>23</td>\n",
       "    </tr>\n",
       "    <tr>\n",
       "      <th>은평구</th>\n",
       "      <td>8</td>\n",
       "    </tr>\n",
       "    <tr>\n",
       "      <th>종로구</th>\n",
       "      <td>39</td>\n",
       "    </tr>\n",
       "    <tr>\n",
       "      <th>중구</th>\n",
       "      <td>52</td>\n",
       "    </tr>\n",
       "    <tr>\n",
       "      <th>중랑구</th>\n",
       "      <td>8</td>\n",
       "    </tr>\n",
       "  </tbody>\n",
       "</table>\n",
       "</div>"
      ],
      "text/plain": [
       "      매장명\n",
       "시군구명     \n",
       "강남구    88\n",
       "강동구    16\n",
       "강북구     6\n",
       "강서구    22\n",
       "관악구    11\n",
       "광진구    18\n",
       "구로구    12\n",
       "금천구    11\n",
       "노원구    13\n",
       "도봉구     3\n",
       "동대문구    9\n",
       "동작구    11\n",
       "마포구    33\n",
       "서대문구   21\n",
       "서초구    48\n",
       "성동구    12\n",
       "성북구    14\n",
       "송파구    34\n",
       "양천구    17\n",
       "영등포구   40\n",
       "용산구    23\n",
       "은평구     8\n",
       "종로구    39\n",
       "중구     52\n",
       "중랑구     8"
      ]
     },
     "execution_count": 20,
     "metadata": {},
     "output_type": "execute_result"
    }
   ],
   "source": [
    "starbucks_count = seoul_starbucks.pivot_table(\n",
    "    index = '시군구명',\n",
    "    values = '매장명',\n",
    "    aggfunc='count')\n",
    "\n",
    "starbucks_count"
   ]
  },
  {
   "cell_type": "code",
   "execution_count": null,
   "metadata": {},
   "outputs": [],
   "source": []
  }
 ],
 "metadata": {
  "interpreter": {
   "hash": "8fe3f1536da8f2f4b943853faa33636be37f130f53aaa2ad02331c82735fba71"
  },
  "kernelspec": {
   "display_name": "Python 3.9.7 ('base')",
   "language": "python",
   "name": "python3"
  },
  "language_info": {
   "codemirror_mode": {
    "name": "ipython",
    "version": 3
   },
   "file_extension": ".py",
   "mimetype": "text/x-python",
   "name": "python",
   "nbconvert_exporter": "python",
   "pygments_lexer": "ipython3",
   "version": "3.9.7"
  },
  "orig_nbformat": 4
 },
 "nbformat": 4,
 "nbformat_minor": 2
}
