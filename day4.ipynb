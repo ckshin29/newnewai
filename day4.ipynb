{
 "cells": [
  {
   "cell_type": "code",
   "execution_count": 2,
   "metadata": {},
   "outputs": [
    {
     "name": "stdout",
     "output_type": "stream",
     "text": [
      "5\n"
     ]
    }
   ],
   "source": [
    "#문자열의 길이 구하기\n",
    "print(len('안녕하세요'))"
   ]
  },
  {
   "cell_type": "code",
   "execution_count": 3,
   "metadata": {},
   "outputs": [
    {
     "name": "stdout",
     "output_type": "stream",
     "text": [
      "True\n"
     ]
    }
   ],
   "source": [
    "#조건문\n",
    "\n",
    "# bool 과 if 많이 사용\n",
    "\n",
    "print(True)"
   ]
  },
  {
   "cell_type": "code",
   "execution_count": 7,
   "metadata": {},
   "outputs": [
    {
     "name": "stdout",
     "output_type": "stream",
     "text": [
      "False\n",
      "True\n",
      "True\n",
      "False\n",
      "False\n"
     ]
    }
   ],
   "source": [
    "print( 10 == 100)\n",
    "print(10 != 100)\n",
    "print(10<100)\n",
    "print(10>100)\n",
    "print(10>=100)"
   ]
  },
  {
   "cell_type": "code",
   "execution_count": 12,
   "metadata": {},
   "outputs": [
    {
     "name": "stdout",
     "output_type": "stream",
     "text": [
      "True\n",
      "False\n",
      "True\n",
      "False\n",
      "True\n"
     ]
    }
   ],
   "source": [
    "print('가방' == '가방')\n",
    "print(\"가방\" == \"백\")\n",
    "print(\"가방\" != \"백\")\n",
    "print(\"가방\" > \"백\") #한글은ㅇ 사전 순서 가나다 순 뒤로 갈수록 큼\n",
    "print(\"가방\" < \"백\") "
   ]
  },
  {
   "cell_type": "code",
   "execution_count": 1,
   "metadata": {},
   "outputs": [
    {
     "name": "stdout",
     "output_type": "stream",
     "text": [
      "양수입니다\n"
     ]
    }
   ],
   "source": [
    "#if 조건문...\n",
    "# 조건에 따라서 특정 코드를 실행하거나 특정 코드를 실행하지 않게 만들고 싶을때\n",
    "# 코드의 실행 흐름을 변경시키는 것을 조건 분기라고 부른다.\n",
    "\n",
    "num = int(input('정수를 입력하세요 >> '))\n",
    "\n",
    "if num > 0 :\n",
    "    print('양수입니다')\n",
    "if num < 0 :\n",
    "    print('음수입니다')\n",
    "if num == 0 :\n",
    "    print('0입니다')\n"
   ]
  },
  {
   "cell_type": "code",
   "execution_count": 4,
   "metadata": {},
   "outputs": [
    {
     "name": "stdout",
     "output_type": "stream",
     "text": [
      "2022-01-28 14:29:46.121642\n",
      "2022 년\n",
      "1\n",
      "28\n",
      "14\n",
      "29\n",
      "46\n"
     ]
    }
   ],
   "source": [
    "# 날짜 / 시간과 관련된 기능을 가져온다.\n",
    "\n",
    "import datetime\n",
    "\n",
    "# 현재의 날짜와 시간을 구하는 함수\n",
    "now = datetime.datetime.now()\n",
    "\n",
    "print(now)\n",
    "\n",
    "print(now.year,'년')\n",
    "print(now.month)\n",
    "print(now.day)\n",
    "print(now.hour)\n",
    "print(now.minute)\n",
    "print(now.second)"
   ]
  },
  {
   "cell_type": "code",
   "execution_count": 5,
   "metadata": {},
   "outputs": [
    {
     "name": "stdout",
     "output_type": "stream",
     "text": [
      "현재 시각은 14시 33으로 오후입니다.\n"
     ]
    }
   ],
   "source": [
    "# 현재 시각은 \n",
    "\n",
    "import datetime\n",
    "\n",
    "now = datetime.datetime.now()\n",
    "\n",
    "if now.hour <= 11 :\n",
    "    ampm = '오전'\n",
    "else :\n",
    "    ampm = \"오후\" \n",
    "\n",
    "print(f'현재 시각은 {now.hour}시 {now.minute}으로 {ampm}입니다.')"
   ]
  },
  {
   "cell_type": "code",
   "execution_count": 11,
   "metadata": {},
   "outputs": [
    {
     "name": "stdout",
     "output_type": "stream",
     "text": [
      "이번달은 1로 겨울입니다.\n"
     ]
    }
   ],
   "source": [
    "# 계절 구하기\n",
    "\n",
    "import datetime\n",
    "\n",
    "now = datetime.datetime.now()\n",
    "\n",
    "weather = ''\n",
    "\n",
    "if now.month >=3 or now.month <= 5 :\n",
    "    weather = '봄'\n",
    "\n",
    "if now.month >=6 or now.month <= 8 :\n",
    "    weather = '여름'\n",
    "\n",
    "if now.month >=9 or now.month <= 11 :\n",
    "    weather = '가을'\n",
    "\n",
    "if now.month <= 2 or now.month == 12 :\n",
    "    weather = '겨울'\n",
    "\n",
    "print(f'이번달은 {now.month}월로 {weather}입니다.')\n",
    "\n",
    "\n",
    "# if 3 <= now.month <= 5 :\n",
    "#     weather = '봄'\n",
    "\n",
    "# if 6 <= now.month <= 8 :\n",
    "#     weather = '여름'\n",
    "\n",
    "# if 9 <= now.month <= 11 :\n",
    "#     weather = '가을'\n",
    "\n",
    "# if now.month == 12 or now.month <= 2\n",
    "#     weather = '겨울'\n",
    "\n",
    "# print(f'이번달은 {now.month}월로 {weather}입니다.')\n"
   ]
  },
  {
   "cell_type": "code",
   "execution_count": 18,
   "metadata": {},
   "outputs": [
    {
     "name": "stdout",
     "output_type": "stream",
     "text": [
      "짝수입니다.\n"
     ]
    }
   ],
   "source": [
    "# %연산자를 사용하지 않고\n",
    "# 정수를 입력 받아 그 수가 짝수인지 홀수인지를 알려주는 프로그램을 작성하세요\n",
    "\n",
    "num = int(input('정수를 입력하세요 >>> '))\n",
    "list = ['2', '4', '6', '8', '0']\n",
    "num2 = str(num)\n",
    "\n",
    "if num2 in list :\n",
    "    print('짝수입니다.')\n",
    "else :\n",
    "    print('홀수입니다')\n",
    "\n",
    "\n",
    "# num = input('정수를 입력하세요')\n",
    "\n",
    "# if number[-1] in \"02468\" :\n",
    "#     print(\"짝수입니다\")\n",
    " \n",
    "# if number[-1] in \"13579\" :\n",
    "#     print(\"홀수입니다\")\n"
   ]
  },
  {
   "cell_type": "code",
   "execution_count": null,
   "metadata": {},
   "outputs": [],
   "source": [
    "#pass\n",
    "\n",
    "number = int(input('정수 입력 '))\n",
    "if number > 0 :\n",
    "    pass\n",
    "\n",
    "else :\n",
    "    pass\n"
   ]
  },
  {
   "cell_type": "code",
   "execution_count": 21,
   "metadata": {},
   "outputs": [
    {
     "name": "stdout",
     "output_type": "stream",
     "text": [
      "0\n",
      "1\n",
      "2\n",
      "3\n",
      "4\n",
      "5\n",
      "6\n",
      "7\n",
      "8\n",
      "9\n"
     ]
    }
   ],
   "source": [
    "# 리스트와 반복문\n",
    "\n",
    "li = [1,2,3,4,5] #여러개의 데이터를 저장하여 사용한다. collection mutable ordered\n",
    "\n",
    "for i in range(10) : \n",
    "    print(i)\n",
    "\n",
    "for i in li :\n",
    "    print(i)\n",
    "\n",
    "for i in li :\n",
    "    if i >= 3:\n",
    "        print(i)"
   ]
  },
  {
   "cell_type": "code",
   "execution_count": 24,
   "metadata": {},
   "outputs": [
    {
     "name": "stdout",
     "output_type": "stream",
     "text": [
      "이몽룡\n"
     ]
    }
   ],
   "source": [
    "# 딕셔너리와 반복문\n",
    "\n",
    "dict = {\n",
    "    1:'홍길동',\n",
    "    2:'이몽룡'\n",
    "}\n",
    "\n",
    "print(dict[2])"
   ]
  },
  {
   "cell_type": "code",
   "execution_count": 26,
   "metadata": {},
   "outputs": [
    {
     "name": "stdout",
     "output_type": "stream",
     "text": [
      "1 홍길동\n",
      "2 이몽룡\n"
     ]
    }
   ],
   "source": [
    "for i in dict:\n",
    "    print(i, dict[i])"
   ]
  },
  {
   "cell_type": "code",
   "execution_count": 3,
   "metadata": {},
   "outputs": [
    {
     "name": "stdout",
     "output_type": "stream",
     "text": [
      "0번째 반복\n",
      "1번째 반복\n",
      "2번째 반복\n",
      "0번째 반복\n",
      "1번째 반복\n",
      "2번째 반복\n"
     ]
    }
   ],
   "source": [
    "#for  : 반복 횟수를 정확히 알고 있을때 주로 사용\n",
    "#while : 반복 횟수를 정확히 알수 없을때 주로 사용\n",
    "\n",
    "for i in range(3) :\n",
    "    print(f'{i}번째 반복')\n",
    "\n",
    "i = 0\n",
    "while i < 3:\n",
    "    print(f'{i}번째 반복')\n",
    "    i += 1\n"
   ]
  },
  {
   "cell_type": "code",
   "execution_count": 6,
   "metadata": {},
   "outputs": [
    {
     "name": "stdout",
     "output_type": "stream",
     "text": [
      "0번째 반복입니다.\n",
      "1번째 반복입니다.\n",
      "2번째 반복입니다.\n",
      "3번째 반복입니다.\n",
      "4번째 반복입니다.\n",
      "반복을 종료합니다\n"
     ]
    }
   ],
   "source": [
    "# break / continue\n",
    "\n",
    "# break 반복문 종료\n",
    "\n",
    "i = 0\n",
    "\n",
    "while True:\n",
    "    print(f'{i}번째 반복입니다.')\n",
    "    i += 1\n",
    "\n",
    "    inp = input('종료할까요(y) >> ')\n",
    "    if inp in [\"Y\" , 'y'] :\n",
    "        print('반복을 종료합니다')\n",
    "        break"
   ]
  },
  {
   "cell_type": "code",
   "execution_count": 10,
   "metadata": {},
   "outputs": [
    {
     "name": "stdout",
     "output_type": "stream",
     "text": [
      "1\n",
      "3\n",
      "5\n",
      "7\n",
      "9\n"
     ]
    }
   ],
   "source": [
    "# continue 현재 반복을 중지하고 다음 반복으로 넘어갈때 사용\n",
    "# 전체 반복에서 부분을 배고 실행\n",
    "\n",
    "for num in range(1,11) :\n",
    "    if num % 2 == 0 :\n",
    "        continue\n",
    "    print(num)"
   ]
  },
  {
   "cell_type": "code",
   "execution_count": 13,
   "metadata": {},
   "outputs": [
    {
     "name": "stdout",
     "output_type": "stream",
     "text": [
      "1번 진구\n",
      "2번 철수\n",
      "3번 미애\n",
      "4번 형구\n",
      "5번 진수\n"
     ]
    }
   ],
   "source": [
    "# enumerate() 리스트의 요소를 반복할때 현재 인덱스가 몇 번째인지 확인\n",
    "\n",
    "# student = ['진구','철수','미애','형구','진수']\n",
    "# num = int(0)\n",
    "\n",
    "# for i in student :\n",
    "#     print(f'{num}번 {i}')\n",
    "#     num += 1\n",
    "\n",
    "student = ['진구','철수','미애','형구','진수']\n",
    "\n",
    "for no, i in enumerate(student) : #순서는 인덱스와 값\n",
    "    print(f'{no+1}번 {i}')\n",
    "\n",
    "## 복습 필요"
   ]
  },
  {
   "cell_type": "code",
   "execution_count": 19,
   "metadata": {},
   "outputs": [
    {
     "name": "stdout",
     "output_type": "stream",
     "text": [
      "홍길동의 키는 185\n",
      "이몽룡의 키는 189\n",
      "성춘향의 키는 168\n"
     ]
    }
   ],
   "source": [
    "# items() 딕셔너리는 items()함수를 사용하여 key와 value 값을 \n",
    "# 한번에 추출할 수 있다.\n",
    "\n",
    "# dict = {\n",
    "#     '홍길동':185,\n",
    "#     '이몽룡':189,\n",
    "#     '성춘향':168\n",
    "# }\n",
    "\n",
    "# for i in dict :\n",
    "#     print(f'{i}의 키는 {dict[i]}입니다.')\n",
    "\n",
    "dict = {\n",
    "    '홍길동':185,\n",
    "    '이몽룡':189,\n",
    "    '성춘향':168\n",
    "}\n",
    "\n",
    "for name, height in dict.items(): #순서는 키와 밸류\n",
    "    print(f'{name}의 키는 {height}')\n"
   ]
  },
  {
   "cell_type": "code",
   "execution_count": 20,
   "metadata": {},
   "outputs": [
    {
     "data": {
      "text/plain": [
       "[0, 2, 4, 6, 8, 10, 12, 14, 16, 18]"
      ]
     },
     "execution_count": 20,
     "metadata": {},
     "output_type": "execute_result"
    }
   ],
   "source": [
    "#리스트 내포 list comprehensions\n",
    "\n",
    "array = []\n",
    "\n",
    "for i in range(0,20,2) :\n",
    "    array.append(i)\n",
    "\n",
    "array"
   ]
  },
  {
   "cell_type": "code",
   "execution_count": 22,
   "metadata": {},
   "outputs": [
    {
     "name": "stdout",
     "output_type": "stream",
     "text": [
      "[0, 2, 4, 6, 8, 10, 12, 14, 16, 18]\n"
     ]
    }
   ],
   "source": [
    "array = [i for i in range(0,20,2)]\n",
    "print(array)"
   ]
  },
  {
   "cell_type": "code",
   "execution_count": 24,
   "metadata": {},
   "outputs": [
    {
     "name": "stdout",
     "output_type": "stream",
     "text": [
      "['사과', '체리', '바나나']\n"
     ]
    }
   ],
   "source": [
    "arr = ['사과','체리','바나나','과자']\n",
    "\n",
    "output = [i    for i in arr   if i != '과자']  ## 반복 조건 순으로 !!되도록이면 전체적으로 if 는 되도록 중첩 하지 않기 해도 되긴 함\n",
    "\n",
    "print(output)"
   ]
  }
 ],
 "metadata": {
  "interpreter": {
   "hash": "8fe3f1536da8f2f4b943853faa33636be37f130f53aaa2ad02331c82735fba71"
  },
  "kernelspec": {
   "display_name": "Python 3.9.7 64-bit ('base': conda)",
   "language": "python",
   "name": "python3"
  },
  "language_info": {
   "codemirror_mode": {
    "name": "ipython",
    "version": 3
   },
   "file_extension": ".py",
   "mimetype": "text/x-python",
   "name": "python",
   "nbconvert_exporter": "python",
   "pygments_lexer": "ipython3",
   "version": "3.9.7"
  },
  "orig_nbformat": 4
 },
 "nbformat": 4,
 "nbformat_minor": 2
}
