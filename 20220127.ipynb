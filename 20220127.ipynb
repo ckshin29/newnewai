{
  "nbformat": 4,
  "nbformat_minor": 0,
  "metadata": {
    "colab": {
      "name": "20220127.ipynb",
      "provenance": [],
      "collapsed_sections": [],
      "authorship_tag": "ABX9TyN33i7+dCAl7+6aYm6uLRDF",
      "include_colab_link": true
    },
    "kernelspec": {
      "name": "python3",
      "display_name": "Python 3"
    },
    "language_info": {
      "name": "python"
    }
  },
  "cells": [
    {
      "cell_type": "markdown",
      "metadata": {
        "id": "view-in-github",
        "colab_type": "text"
      },
      "source": [
        "<a href=\"https://colab.research.google.com/github/ckshin29/ai/blob/main/20220127.ipynb\" target=\"_parent\"><img src=\"https://colab.research.google.com/assets/colab-badge.svg\" alt=\"Open In Colab\"/></a>"
      ]
    },
    {
      "cell_type": "code",
      "execution_count": 1,
      "metadata": {
        "id": "_UOJ_1vH2UUv",
        "colab": {
          "base_uri": "https://localhost:8080/"
        },
        "outputId": "31ddb2c1-609d-4181-ff88-742611c72102"
      },
      "outputs": [
        {
          "output_type": "stream",
          "name": "stdout",
          "text": [
            "1\n",
            "['하나', '둘']\n",
            "[9, 2, 3, 4, 5]\n",
            "[9, 2, 3, 4, 5, 9, 2, 3, 4, 5, 9, 2, 3, 4, 5]\n",
            "[9, 2, 3, 4, 5, 8]\n",
            "[10, 9, 2, 3, 4, 5, 8]\n"
          ]
        }
      ],
      "source": [
        "######################\n",
        "# Review\n",
        "######################\n",
        "\n",
        "# Collection : 많은 데이터 (elements)를 저장하는...면접문제에서도 자주 나옴!!\n",
        "\n",
        "# 리스트list          튜플tuple           딕셔너리dict            셋set\n",
        "# []                  ()                  {}                      {}\n",
        "# mutable             immutable           mutable                 mutable\n",
        "# 인덱싱/슬라이싱     인덱싱/슬라이싱     none                    none\n",
        "#                     (1,)                {key:value}             중복데이터 미허용\n",
        "#                                         자바의 map JS의 json    중복 제거\n",
        "\n",
        "# List\n",
        "\n",
        "list1 = [1,2,3,4,5]\n",
        "list2 = [2,3,'하나','둘',True,False]\n",
        "\n",
        "print(list1[0]) #indexing\n",
        "print(list2[2:4]) #slicing [시작:끝(미만)]\n",
        "\n",
        "list1[0] = 9\n",
        "print(list1)\n",
        "\n",
        "print(list1*3)\n",
        "\n",
        "list1.append(8) #append()는 마지막에 넣는다\n",
        "print(list1)\n",
        "\n",
        "list1.insert(0, 10) #특정위치 지정하여 삽입\n",
        "print(list1)"
      ]
    },
    {
      "cell_type": "code",
      "source": [
        "#비 파괴적 방법을 선호하기에 복사본을 만들어서 사용하기도 함\n",
        "\n",
        "list3= list1\n",
        "print(list1)\n",
        "print(list3)\n",
        "\n",
        "print(id(list1))\n",
        "print(id(list3))\n",
        "\n",
        "del list3[0]\n",
        "\n",
        "print(list1)\n",
        "print(list3)\n",
        "\n",
        "#list1 도 이정표 같이 저 담겨있는것들을 가리키는 것들임 정확히는 담겨있는게 아님\n",
        "#엄밀히 말하면 복사가 아니라 list1,lsit3 둘다 저 데이터를 가르키고 있는것 뿐임\n",
        "\n",
        "list4 = list1.copy() #복사본 만들기\n",
        "\n",
        "print(list1)\n",
        "print(list4)\n",
        "\n",
        "print(id(list1))\n",
        "print(id(list4))\n",
        "\n",
        "del list4[0]\n",
        "\n",
        "print(list1)\n",
        "print(list4)"
      ],
      "metadata": {
        "id": "MdPdq5466hJu",
        "colab": {
          "base_uri": "https://localhost:8080/"
        },
        "outputId": "ce933e89-1bb1-46bb-8ca5-29e6530c01f5"
      },
      "execution_count": 2,
      "outputs": [
        {
          "output_type": "stream",
          "name": "stdout",
          "text": [
            "[10, 9, 2, 3, 4, 5, 8]\n",
            "[10, 9, 2, 3, 4, 5, 8]\n",
            "140348350174544\n",
            "140348350174544\n",
            "[9, 2, 3, 4, 5, 8]\n",
            "[9, 2, 3, 4, 5, 8]\n",
            "[9, 2, 3, 4, 5, 8]\n",
            "[9, 2, 3, 4, 5, 8]\n",
            "140348350174544\n",
            "140348273766640\n",
            "[9, 2, 3, 4, 5, 8]\n",
            "[2, 3, 4, 5, 8]\n"
          ]
        }
      ]
    },
    {
      "cell_type": "code",
      "source": [
        "t1=('대한','민국')\n",
        "print(type(t1))\n",
        "t2 = (1,)\n",
        "print(type(t2))\n"
      ],
      "metadata": {
        "id": "XqKY9te96hK4",
        "colab": {
          "base_uri": "https://localhost:8080/"
        },
        "outputId": "3e9e4fb5-ed62-42b9-b4d2-175471a30674"
      },
      "execution_count": 3,
      "outputs": [
        {
          "output_type": "stream",
          "name": "stdout",
          "text": [
            "<class 'tuple'>\n",
            "<class 'tuple'>\n"
          ]
        }
      ]
    },
    {
      "cell_type": "code",
      "source": [
        "# Dict\n",
        "\n",
        "dict = {\n",
        "    'key':'value'\n",
        "}\n",
        "\n",
        "print(dict)\n",
        "print(dict['key'])\n",
        "\n",
        "dict['newkey']='ai'\n",
        "print(dict)\n",
        "\n",
        "del dict['key']\n",
        "print(dict)\n"
      ],
      "metadata": {
        "id": "tSygL54Z-0vN",
        "colab": {
          "base_uri": "https://localhost:8080/"
        },
        "outputId": "37635ef7-afe9-41b4-8d30-a16cb0dd0e23"
      },
      "execution_count": 4,
      "outputs": [
        {
          "output_type": "stream",
          "name": "stdout",
          "text": [
            "{'key': 'value'}\n",
            "value\n",
            "{'key': 'value', 'newkey': 'ai'}\n",
            "{'newkey': 'ai'}\n"
          ]
        }
      ]
    },
    {
      "cell_type": "code",
      "source": [
        "# Set\n",
        "\n",
        "set = {1,1,2,2,3,3}\n",
        "print(set)"
      ],
      "metadata": {
        "id": "_KFDlg-3_3-X",
        "colab": {
          "base_uri": "https://localhost:8080/"
        },
        "outputId": "a82984fd-4f6c-4c36-b8f5-baea2cb9ddc9"
      },
      "execution_count": 5,
      "outputs": [
        {
          "output_type": "stream",
          "name": "stdout",
          "text": [
            "{1, 2, 3}\n"
          ]
        }
      ]
    },
    {
      "cell_type": "code",
      "source": [
        "#######################################\n",
        "# if 조건문\n",
        "#######################################\n",
        "\n",
        "# if 조건식(True or False) :\n",
        "#   True일 경우 실행\n",
        "# else :\n",
        "#   False일 경우 실행\n",
        "# else 생략 가능\n",
        "\n",
        "if False:\n",
        "  print('True')\n",
        "else :\n",
        "  print('False')\n",
        "\n",
        "#if 문은 위에서 True 가 나오면 더 이상 확인 안하고 그대로 건너뛴다\n",
        "if True:\n",
        "  print('1st')\n",
        "elif False:\n",
        "  print('2nd')\n",
        "elif True:\n",
        "  print('3nd')\n",
        "else :\n",
        "  print('etc')\n",
        "\n",
        "#파이썬은 if가 비효율적으로 보일 수도 있으나 if가 정답이다.\n",
        "\n",
        "#for는 정확할때 while 애매할때 사용한다. 근데 둘이 거의 같음\n",
        "\n",
        "#중첩은 좋은 방법이 아니다. 코드가 지저분해서 가독성이 낮아지니까\n",
        "\n",
        "score = 80\n",
        "\n",
        "if score >=100:\n",
        "  print('상')\n",
        "else:\n",
        "  if score >=50:\n",
        "    print('중')\n",
        "  else :\n",
        "    print('하')\n",
        "\n",
        "\n",
        "if score >=100:\n",
        "  print('상')\n",
        "elif score>=50:\n",
        "  print('중')\n",
        "else :\n",
        "  print('하')\n",
        "\n",
        "\n"
      ],
      "metadata": {
        "id": "Q2d84f4nD1wT",
        "colab": {
          "base_uri": "https://localhost:8080/"
        },
        "outputId": "0de0e2f1-45de-4db3-c1c6-0564f5350d66"
      },
      "execution_count": 6,
      "outputs": [
        {
          "output_type": "stream",
          "name": "stdout",
          "text": [
            "False\n",
            "1st\n",
            "중\n",
            "중\n"
          ]
        }
      ]
    },
    {
      "cell_type": "code",
      "source": [
        "# score = int(input(\"당신의 점수를 입력하세요 >>> \"))\n",
        "\n",
        "# #int는 인덱싱 불가\n",
        "\n",
        "# if score >= 90:\n",
        "#   grade = ('A')\n",
        "# elif score >= 80:\n",
        "#   grade = ('B')\n",
        "# elif score >= 70:\n",
        "#   grade = ('C')\n",
        "# elif score >= 60:\n",
        "#   grade = ('D')\n",
        "# else :\n",
        "#   grade = ('F')\n",
        "\n",
        "# if int(score%10) >= 7:\n",
        "#   grade2 = ('+')\n",
        "# elif int(score%10) >= 4:\n",
        "#   grade2 = (' ')\n",
        "# else :\n",
        "#   grade2 = ('-')\n",
        "\n",
        "# print(f'당신의 점수는 {score}이고 학점은 {grade}{grade2} 입니다.')\n",
        "\n"
      ],
      "metadata": {
        "id": "qePuMmVFK02j"
      },
      "execution_count": 7,
      "outputs": []
    },
    {
      "cell_type": "code",
      "source": [
        ""
      ],
      "metadata": {
        "id": "oNPk6KLV_VKx"
      },
      "execution_count": 7,
      "outputs": []
    },
    {
      "cell_type": "code",
      "source": [
        "###############################################3\n",
        "# While\n",
        "##################################################\n",
        "\n",
        "#반복문은 작업 수행을 한 번이 아니라 계속해서 수행해야 할때 사용\n",
        "#while 반복 작업을 몇 번 수행할지 확실하지 않을때 주로 사용\n",
        "#ex) 운동장을 해가 질때까지 반복해서 돌자\n",
        "\n",
        "# while 조건식 :\n",
        "# 실행구문\n",
        "\n",
        "#while True:\n",
        "#  print('운동장 돌기')"
      ],
      "metadata": {
        "id": "KRPwwl3eR7qK"
      },
      "execution_count": 8,
      "outputs": []
    },
    {
      "cell_type": "code",
      "source": [
        "n = 1\n",
        "while n <= 10 :\n",
        "  print(n)\n",
        "  n+=1 #n = n + 1 같음 (자바 n++)\n",
        "\n",
        "print('---------------')\n",
        "print(n)\n"
      ],
      "metadata": {
        "id": "PDtUD-MUTF_n",
        "colab": {
          "base_uri": "https://localhost:8080/"
        },
        "outputId": "fc863d2d-c305-44c5-9bca-0b4b2e945fcc"
      },
      "execution_count": 9,
      "outputs": [
        {
          "output_type": "stream",
          "name": "stdout",
          "text": [
            "1\n",
            "2\n",
            "3\n",
            "4\n",
            "5\n",
            "6\n",
            "7\n",
            "8\n",
            "9\n",
            "10\n",
            "---------------\n",
            "11\n"
          ]
        }
      ]
    },
    {
      "cell_type": "code",
      "source": [
        "#10부터 1까지 짝수만 거꾸로 출력\n",
        "\n",
        "n = 10\n",
        "while n>=1 :\n",
        "  print(n)\n",
        "  n-=2"
      ],
      "metadata": {
        "id": "ghTp4YttUce4",
        "colab": {
          "base_uri": "https://localhost:8080/"
        },
        "outputId": "31782500-744f-4531-f4aa-d124dc7437a1"
      },
      "execution_count": 10,
      "outputs": [
        {
          "output_type": "stream",
          "name": "stdout",
          "text": [
            "10\n",
            "8\n",
            "6\n",
            "4\n",
            "2\n"
          ]
        }
      ]
    },
    {
      "cell_type": "code",
      "source": [
        "# 사용자보루터 임의의 정수를 입력받아 모두 리스트에 보관합니다.\n",
        "#단 0을 입력하면 프로그램을 종요합니다. (0은 리스트에 저장 안함)\n",
        "# 촤종 저장된 리스트를 출력\n",
        "\n",
        "# nlist = []\n",
        "# number = 1\n",
        "\n",
        "# while number != 0:\n",
        "#   number = int(input('>> 임의의 정수를 입력하세요 '))\n",
        "\n",
        "#   if number != 0:\n",
        "#     nlist.append(number)\n",
        "  \n",
        "  \n",
        "\n",
        "\n",
        "# print(nlist)\n",
        "\n"
      ],
      "metadata": {
        "id": "NP58VMcwVa-5"
      },
      "execution_count": 11,
      "outputs": []
    },
    {
      "cell_type": "code",
      "source": [
        "nlist = []\n",
        "number = 1\n",
        "\n",
        "while number != 0:\n",
        "  number = int(input('>> 임의의 정수를 입력하세요 '))\n",
        "  nlist.append(number)\n",
        "\n",
        "\n",
        "print(nlist)"
      ],
      "metadata": {
        "id": "lggUda0mYHtU"
      },
      "execution_count": null,
      "outputs": []
    },
    {
      "cell_type": "code",
      "source": [
        "# while 중첩\n",
        "#while 내부에 또 다른 while을 사용하는 것을 중첩이라고 한다.\n",
        "\n",
        "# 3일 동안 1~3교시 수업을 한다.\n",
        "\n",
        "day = 1\n",
        "\n",
        "while day <= 3 :\n",
        "  hour = 1\n",
        "  while hour <= 3 :\n",
        "    print(f'{day}일차 {hour}교시 입니다.')\n",
        "    hour += 1\n",
        "  day += 1\n",
        "\n",
        "\n"
      ],
      "metadata": {
        "id": "zZSMLsC1Y2FQ"
      },
      "execution_count": null,
      "outputs": []
    },
    {
      "cell_type": "code",
      "source": [
        "# 구구단을 2단부터 9단까지 출력\n",
        "\n",
        "# 2 X 1 = 2\n",
        "# 2 X 2 = 4\n",
        "\n",
        "# 9 X 9 =81\n",
        "\n",
        "num1 = 2\n",
        "\n",
        "while num1 <= 9 :\n",
        "  num2 = 1\n",
        "  while num2 <= 9 :\n",
        "    print(f'{num1} X {num2} = {num1*num2} ')\n",
        "    num2 += 1\n",
        "  num1 += 1\n"
      ],
      "metadata": {
        "id": "pTnPJF74uPeI"
      },
      "execution_count": null,
      "outputs": []
    },
    {
      "cell_type": "code",
      "source": [
        "# q 정수를 입력받아서 그 횟수 만큼 'Hello'를 출력하는 프로그램\n",
        "\n",
        "num1 = int(input(\">> 정수를 입력하세요 \"))\n",
        "num2 = int(1)\n",
        "\n",
        "while num1 >= num2 :\n",
        "  if num1 >= 0:\n",
        "    print(f'{num2}번째 Hello')\n",
        "    num2 += 1\n",
        "  else :\n",
        "      print('잘못된 입력입니다')"
      ],
      "metadata": {
        "id": "uPsQS_58vPDo"
      },
      "execution_count": null,
      "outputs": []
    },
    {
      "cell_type": "code",
      "source": [
        "no = int(input(\"정수를 입력하세요 >>> \"))\n",
        "n = 1\n",
        "\n",
        "if no > 0:\n",
        "  while no > 0:\n",
        "    print(f'{n}번째 hello')\n",
        "    n += 1\n",
        "    no -= 1\n",
        "else :\n",
        "  print('잘못된 입력입니다.')"
      ],
      "metadata": {
        "id": "ZgFw1vy-yzSf"
      },
      "execution_count": null,
      "outputs": []
    },
    {
      "cell_type": "code",
      "source": [
        "#q2 1부터 100사이의 모든 정수 중에서 7의 배수만 출력\n",
        "\n",
        "num1 = int(1)\n",
        "\n",
        "while num1 <=100 :\n",
        "  if num1%7 != 0 :\n",
        "    num1 +=1\n",
        "  else :\n",
        "    print(num1)\n",
        "    num1 +=1\n",
        "\n"
      ],
      "metadata": {
        "id": "G1VEFj4F0yFm"
      },
      "execution_count": null,
      "outputs": []
    },
    {
      "cell_type": "code",
      "source": [
        "n = 7\n",
        "\n",
        "while n <= 100:\n",
        "  print(n)\n",
        "  n += 7\n",
        "   \n"
      ],
      "metadata": {
        "id": "Ajs_mhzd1enW"
      },
      "execution_count": null,
      "outputs": []
    },
    {
      "cell_type": "code",
      "source": [
        "# 커피 1잔을 300원에 판매하는 자판기가 있다.\n",
        "# 자판기에 돈을 넣었을 때 자판기에서 뽑을수 있는 커피가 몇잔이고 잔돈이 얼마인지?\n",
        "\n",
        "money = int(input('>> 자판기에 얼마를 넣을까요? '))\n",
        "n = 0\n",
        "\n",
        "while money > 300 :\n",
        "   money -= 300\n",
        "   n += 1\n",
        "   print(f'커피{n}잔, 잔돈 {money}원' )\n",
        "\n",
        "\n"
      ],
      "metadata": {
        "id": "zhEXFvMQwR3e"
      },
      "execution_count": null,
      "outputs": []
    },
    {
      "cell_type": "code",
      "source": [
        "# 사용자로부터 0부터 9까지의 정수를 입력받아 입력된 정수가 5개가 될때까지 입력받는 프로그램을 구현하세요\n",
        "\n",
        "# nnn = set([])\n",
        "\n",
        "# while len(nnn) <= 5 :\n",
        "#   no = int(input('0~9 사이의 정수를 입력하세요 >>> '))\n",
        "#   if no >= 0 & no <=9 :\n",
        "#       nnn.add(no)\n",
        "#   else :\n",
        "#     print('숫자가 이상합니다')\n",
        "\n",
        "# print(nnn)\n",
        " #????????????????????\n",
        "\n",
        "num = set([])\n",
        "\n",
        "while len(num) <= 4:\n",
        "  no = int(input('0 ~ 9 사이 정수를 입력하세요 >>>'))\n",
        "  num.add(no)\n",
        "  # print(num)\n",
        "\n",
        "print(num)\n"
      ],
      "metadata": {
        "id": "COYoAeXB844U"
      },
      "execution_count": null,
      "outputs": []
    },
    {
      "cell_type": "code",
      "source": [
        "\n",
        "# 1부터 100사이의 모든 정수를 한줄에 10개씩 출력하시오\n",
        "\n",
        "# n = 1\n",
        "\n",
        "# while n <= 100 :\n",
        "#   if n%10 != 0 :\n",
        "#     print(n, end='\\t')\n",
        "#   else :\n",
        "#     print(n)\n",
        "#   n += 1\n",
        "\n",
        "n = 1\n",
        "\n",
        "while n <= 100 :\n",
        "  t = 0\n",
        "  while t < 10:\n",
        "    print(n, end='\\t')\n",
        "    t += 1\n",
        "    n += 1\n",
        "  print(\"\")\n"
      ],
      "metadata": {
        "colab": {
          "base_uri": "https://localhost:8080/"
        },
        "id": "Bj3qZHGDtDHY",
        "outputId": "57bbfebd-1c61-43b7-f089-84e3e0ba1eb5"
      },
      "execution_count": 5,
      "outputs": [
        {
          "output_type": "stream",
          "name": "stdout",
          "text": [
            "1\t2\t3\t4\t5\t6\t7\t8\t9\t10\t\n",
            "11\t12\t13\t14\t15\t16\t17\t18\t19\t20\t\n",
            "21\t22\t23\t24\t25\t26\t27\t28\t29\t30\t\n",
            "31\t32\t33\t34\t35\t36\t37\t38\t39\t40\t\n",
            "41\t42\t43\t44\t45\t46\t47\t48\t49\t50\t\n",
            "51\t52\t53\t54\t55\t56\t57\t58\t59\t60\t\n",
            "61\t62\t63\t64\t65\t66\t67\t68\t69\t70\t\n",
            "71\t72\t73\t74\t75\t76\t77\t78\t79\t80\t\n",
            "81\t82\t83\t84\t85\t86\t87\t88\t89\t90\t\n",
            "91\t92\t93\t94\t95\t96\t97\t98\t99\t100\t\n"
          ]
        }
      ]
    },
    {
      "cell_type": "code",
      "source": [
        "####################################\n",
        "# for\n",
        "####################################\n",
        "\n",
        "#몇번 반복 시킬지 그 횟수가 명확할 때 주로 사용한다.\n",
        "\n",
        "#for 변수 in 반복시킬값들:\n",
        "#   반복 실행문\n",
        "\n",
        "# 리스트\n",
        "# for i in [1,2,3] :\n",
        "#   print(i)\n",
        "\n",
        "# 문자열\n",
        "# for i in 'hello' :\n",
        "#   print(i)\n",
        "\n",
        "# 튜플\n",
        "# for i (1,2,3) :\n",
        "#   print(i)\n",
        "\n",
        "# range()\n",
        "#for i in range(3): #range(시작(생략가능), 끝(미만), 스탭 (생략가능))값을 쭉 나열\n",
        "for i in range(1,4,2) :\n",
        "  print(i)\n",
        "\n",
        "# set,dict 는 순서와 상관 없이는 사용가능"
      ],
      "metadata": {
        "colab": {
          "base_uri": "https://localhost:8080/"
        },
        "id": "rerpJgIxLY-f",
        "outputId": "3e011787-1ae9-4bd4-d1a2-c5506cd43482"
      },
      "execution_count": 9,
      "outputs": [
        {
          "output_type": "stream",
          "name": "stdout",
          "text": [
            "1\n",
            "3\n"
          ]
        }
      ]
    },
    {
      "cell_type": "code",
      "source": [
        "# 비밀 번호(str)를 입력 받아서 숫자와 문자가 모두 반드시 하나 이상\n",
        "# 포함된 경우만 사용 가능한 비번입니다 라고 출력\n",
        "# 아닐시 '불가능한 비번입니다.'\n",
        "# ch.isalpha() - 알파뱃이면 구성되면 True\n",
        "# ch.isnumeric() - 숫자면 구성되면 True\n",
        "\n",
        "password = input(\"비밀번호를 입력하세요>>> \")\n",
        "\n",
        "ch_count = 0\n",
        "no_count = 0\n",
        "\n",
        "for ch in password:\n",
        "  if ch.isalpha(): \n",
        "    ch_count +=1\n",
        "  elif ch.isnumeric():\n",
        "    no_count +=1\n",
        "\n",
        "if ch_count > 0 and no_count > 0 : ##파이썬에선 and or 쓰임\n",
        "  print('사용 가능한 비번입니다')\n",
        "else :\n",
        "  print('사용 불가한 비번입니다.')\n"
      ],
      "metadata": {
        "colab": {
          "base_uri": "https://localhost:8080/"
        },
        "id": "kgTUFifdOIA4",
        "outputId": "b3c8afaa-c090-42ae-cc08-3ddd1d42f5c4"
      },
      "execution_count": 18,
      "outputs": [
        {
          "output_type": "stream",
          "name": "stdout",
          "text": [
            "비밀번호를 입력하세요>>> 234r2f\n",
            "사용 가능한 비번입니다\n"
          ]
        }
      ]
    },
    {
      "cell_type": "code",
      "source": [
        "# range(start, stop, step) \n",
        "\n",
        "# 1 숫자들은 컬렉션으로 만든다.\n",
        "# 2 start를 생략하면 0부터 시작한다.\n",
        "# 3 stop 은 생략 할수 없다.\n",
        "# 4 step은 생략할수 있고 생략하면 1씩 증가한다.\n",
        "\n"
      ],
      "metadata": {
        "colab": {
          "base_uri": "https://localhost:8080/"
        },
        "id": "Q2jsgpjYV_Ht",
        "outputId": "af55d541-4e73-4fb9-ab18-65d05fc67383"
      },
      "execution_count": 19,
      "outputs": [
        {
          "output_type": "execute_result",
          "data": {
            "text/plain": [
              "range(0, 5)"
            ]
          },
          "metadata": {},
          "execution_count": 19
        }
      ]
    },
    {
      "cell_type": "code",
      "source": [
        "#quiz . range와 for 문을 사용하여 구구단을 출력하세요\n",
        "#(입력) 출력할 구구단을 입력하세요 >>> 5\n",
        "\n",
        "# num = int(input('출력할 구구단을 입력하세요 >>>'))\n",
        "\n",
        "# bnum = 1\n",
        "\n",
        "# for bnum in range(10) :\n",
        "#   print(f'{num} X {bnum} = {num*bnum}')\n",
        "#   bnum += 1\n",
        "\n",
        "num = int(input('출력할 구구단을 입력하세요 >>>'))\n",
        "\n",
        "for i in range(1,10,1) :\n",
        "  print(f'{num} X {i} = {num*i}')\n",
        "  i += 1\n"
      ],
      "metadata": {
        "colab": {
          "base_uri": "https://localhost:8080/"
        },
        "id": "XUnQOK-9Wv3s",
        "outputId": "b772f844-e16a-43f1-c8fd-ca6960836d26"
      },
      "execution_count": 21,
      "outputs": [
        {
          "output_type": "stream",
          "name": "stdout",
          "text": [
            "출력할 구구단을 입력하세요 >>>7\n",
            "7 X 1 = 7\n",
            "7 X 2 = 14\n",
            "7 X 3 = 21\n",
            "7 X 4 = 28\n",
            "7 X 5 = 35\n",
            "7 X 6 = 42\n",
            "7 X 7 = 49\n",
            "7 X 8 = 56\n",
            "7 X 9 = 63\n"
          ]
        }
      ]
    },
    {
      "cell_type": "code",
      "source": [
        "# set, dict 도 for문으로 사용은 가능하다 순서는 보정하지 않는다.\n",
        "\n",
        "for i in {'가위', '바위', '보'} :\n",
        "  print(i)"
      ],
      "metadata": {
        "colab": {
          "base_uri": "https://localhost:8080/"
        },
        "id": "nqgSAjHBX91c",
        "outputId": "e2447d78-1f80-4458-81ae-80d2d290ffb4"
      },
      "execution_count": 27,
      "outputs": [
        {
          "output_type": "stream",
          "name": "stdout",
          "text": [
            "바위\n",
            "보\n",
            "가위\n"
          ]
        }
      ]
    },
    {
      "cell_type": "code",
      "source": [
        "person = {\n",
        "    'name' : '에밀리',\n",
        "    'age' : '20'\n",
        "}\n",
        "\n",
        "for i in person:\n",
        "  print(i)\n",
        "\n",
        "for i in person:\n",
        "  print(person[i])"
      ],
      "metadata": {
        "colab": {
          "base_uri": "https://localhost:8080/"
        },
        "id": "YrgyrELfYa78",
        "outputId": "b667e7fc-6972-4363-8b0e-2a6116a919db"
      },
      "execution_count": 32,
      "outputs": [
        {
          "output_type": "stream",
          "name": "stdout",
          "text": [
            "name\n",
            "age\n",
            "에밀리\n",
            "20\n"
          ]
        }
      ]
    },
    {
      "cell_type": "code",
      "source": [
        "# 사용자로부터 양의 정수를 하나 입력 받아서 1부터 입력받은 정수 까지의 \n",
        "# 모든 정수의 합계를 구하는 프로그램을 작성하세요\n",
        "\n",
        "num = int(input(\"임의의 양의 정수를 입력하세요 >>> \"))\n",
        "sum = 0\n",
        "\n",
        "for i in range(1,num+1) :\n",
        "  sum = sum + i #sum += i\n",
        "  \n",
        "print(f'1부터 {num}까지의 합은 {sum} 입니다')"
      ],
      "metadata": {
        "colab": {
          "base_uri": "https://localhost:8080/"
        },
        "id": "snLF4-JnZLz2",
        "outputId": "d0f7b935-5491-4810-cdca-5d39db6257c6"
      },
      "execution_count": 35,
      "outputs": [
        {
          "output_type": "stream",
          "name": "stdout",
          "text": [
            "임의의 양의 정수를 입력하세요 >>> 3\n",
            "1부터 3까지의 합은 6 입니다\n"
          ]
        }
      ]
    },
    {
      "cell_type": "code",
      "source": [
        "# 사용자로부터 임의의 정수를 입력받아서 그 숫자만큼의 '과일이름' 입력 받아서 'basket' 리스트에 저장하는 프로그램\n",
        "\n",
        "num = int(input('몇개의 과일을 보관할까요? >> '))\n",
        "basket = []\n",
        "\n",
        "for i in range(1,num+1) :\n",
        "  fruit = (input(f'{i}번째 과일을 입력하세요 '))\n",
        "  basket.append(fruit)\n",
        "\n",
        "print(f'입력 받은 과일들은 {basket} 입니다.')"
      ],
      "metadata": {
        "colab": {
          "base_uri": "https://localhost:8080/"
        },
        "id": "j1ggHotgas0r",
        "outputId": "756a62ce-cc60-403f-a6c1-dc26078d2a56"
      },
      "execution_count": 38,
      "outputs": [
        {
          "output_type": "stream",
          "name": "stdout",
          "text": [
            "몇개의 과일을 보관할까요? >> 2\n",
            "1번째 과일을 입력하세요 바나나\n",
            "2번째 과일을 입력하세요 사과\n",
            "입력 받은 과일들은 ['바나나', '사과'] 입니다.\n"
          ]
        }
      ]
    },
    {
      "cell_type": "code",
      "source": [
        "# 1부터 99사이의 모든 정수를 대상으로 369 게임 결과를 출력하는 프로그램을 작성하세요\n",
        "\n",
        "# for i in range(1,100) :\n",
        "#   if str(3) in range()\n",
        "    \n",
        "#   else :\n",
        "#     print (i)\n",
        "\n",
        "# 내일 풀이"
      ],
      "metadata": {
        "colab": {
          "base_uri": "https://localhost:8080/",
          "height": 139
        },
        "id": "_ywFxz11bqP7",
        "outputId": "365c755a-dcdc-4048-a8fb-1c44cc1c5513"
      },
      "execution_count": 41,
      "outputs": [
        {
          "output_type": "error",
          "ename": "SyntaxError",
          "evalue": "ignored",
          "traceback": [
            "\u001b[0;36m  File \u001b[0;32m\"<ipython-input-41-a7dace43523f>\"\u001b[0;36m, line \u001b[0;32m3\u001b[0m\n\u001b[0;31m    for str(i) in range(1,100) :\u001b[0m\n\u001b[0m       ^\u001b[0m\n\u001b[0;31mSyntaxError\u001b[0m\u001b[0;31m:\u001b[0m can't assign to function call\n"
          ]
        }
      ]
    },
    {
      "cell_type": "code",
      "source": [
        ""
      ],
      "metadata": {
        "id": "Z7uTaPBOjwB6"
      },
      "execution_count": null,
      "outputs": []
    }
  ]
}