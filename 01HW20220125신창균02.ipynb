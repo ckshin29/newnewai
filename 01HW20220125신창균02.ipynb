{
  "nbformat": 4,
  "nbformat_minor": 0,
  "metadata": {
    "colab": {
      "name": "01HW20220125신창균02.ipynb",
      "provenance": [],
      "collapsed_sections": [],
      "authorship_tag": "ABX9TyP0ovTDn1FioSK2l+SEgYps",
      "include_colab_link": true
    },
    "kernelspec": {
      "name": "python3",
      "display_name": "Python 3"
    },
    "language_info": {
      "name": "python"
    }
  },
  "cells": [
    {
      "cell_type": "markdown",
      "metadata": {
        "id": "view-in-github",
        "colab_type": "text"
      },
      "source": [
        "<a href=\"https://colab.research.google.com/github/ckshin29/ai/blob/main/01HW20220125%EC%8B%A0%EC%B0%BD%EA%B7%A002.ipynb\" target=\"_parent\"><img src=\"https://colab.research.google.com/assets/colab-badge.svg\" alt=\"Open In Colab\"/></a>"
      ]
    },
    {
      "cell_type": "code",
      "execution_count": null,
      "metadata": {
        "colab": {
          "base_uri": "https://localhost:8080/"
        },
        "id": "-myyts48QJCF",
        "outputId": "ea6576d9-9970-4f9b-b947-5bf84eb114ed"
      },
      "outputs": [
        {
          "output_type": "stream",
          "name": "stdout",
          "text": [
            "Hello World\n"
          ]
        }
      ],
      "source": [
        "#001\n",
        "\n",
        "print('Hello World')"
      ]
    },
    {
      "cell_type": "code",
      "source": [
        "#002\n",
        "\n",
        "print('Mary\\'s cosmetics')\n",
        "print(\"Mary's cosmetics\") "
      ],
      "metadata": {
        "colab": {
          "base_uri": "https://localhost:8080/"
        },
        "id": "KliVEpI3Qr90",
        "outputId": "986ee71f-95e0-4849-eb32-3ebc130aa9fb"
      },
      "execution_count": null,
      "outputs": [
        {
          "output_type": "stream",
          "name": "stdout",
          "text": [
            "Mary's cosmetics\n",
            "Mary's cosmetics\n"
          ]
        }
      ]
    },
    {
      "cell_type": "code",
      "source": [
        "#003\n",
        "\n",
        "print(\"신씨가 소리를 질렀다. \\\"도둑이야\\\".\")\n",
        "print('신씨가 소리를 질렀다. \"도둑이야\".')"
      ],
      "metadata": {
        "colab": {
          "base_uri": "https://localhost:8080/"
        },
        "id": "o6WnCITXQ26k",
        "outputId": "bae09fb9-5fb4-4494-9cc3-52a1b9df12ab"
      },
      "execution_count": null,
      "outputs": [
        {
          "output_type": "stream",
          "name": "stdout",
          "text": [
            "신씨가 소리를 질렀다. \"도둑이야\".\n",
            "신씨가 소리를 질렀다. \"도둑이야\".\n"
          ]
        }
      ]
    },
    {
      "cell_type": "code",
      "source": [
        "#004\n",
        "\n",
        "print('\"C:\\Windows\"')\n",
        "print(\"\\\"C:\\Windows\\\"\")"
      ],
      "metadata": {
        "colab": {
          "base_uri": "https://localhost:8080/"
        },
        "id": "0CS87D7PRNvz",
        "outputId": "0be0e048-d012-48a3-ddde-9fa92a026664"
      },
      "execution_count": null,
      "outputs": [
        {
          "output_type": "stream",
          "name": "stdout",
          "text": [
            "\"C:\\Windows\"\n",
            "\"C:\\Windows\"\n"
          ]
        }
      ]
    },
    {
      "cell_type": "code",
      "source": [
        "#005\n",
        "\n",
        "print(\"안녕하세요.\\n 만나서\\t\\t 반갑습니다.\")\n",
        "#\\n은 줄바꾸는 역할이고 \\t 은 일정간격을 띄워주는 역할이다."
      ],
      "metadata": {
        "colab": {
          "base_uri": "https://localhost:8080/"
        },
        "id": "OI6Dv2SVRt4j",
        "outputId": "87af5a3a-c62e-4316-cfb2-7dcd7b3a1ea0"
      },
      "execution_count": null,
      "outputs": [
        {
          "output_type": "stream",
          "name": "stdout",
          "text": [
            "안녕하세요.\n",
            " 만나서\t\t 반갑습니다.\n"
          ]
        }
      ]
    },
    {
      "cell_type": "code",
      "source": [
        "#006\n",
        "\n",
        "#오늘은 일요일"
      ],
      "metadata": {
        "id": "ck-UOf0oSPFJ"
      },
      "execution_count": null,
      "outputs": []
    },
    {
      "cell_type": "code",
      "source": [
        "#007\n",
        "\n",
        "print('naver','kakao','sk','samsung' , sep=';')\n",
        "print('naver;kakao;sk;samsung')"
      ],
      "metadata": {
        "colab": {
          "base_uri": "https://localhost:8080/"
        },
        "id": "OB04Nz8SSbni",
        "outputId": "2917bb75-b59f-4fe1-f880-53888ca8e90a"
      },
      "execution_count": null,
      "outputs": [
        {
          "output_type": "stream",
          "name": "stdout",
          "text": [
            "naver;kakao;sk;samsung\n",
            "naver;kakao;sk;samsung\n"
          ]
        }
      ]
    },
    {
      "cell_type": "code",
      "source": [
        "#008 \n",
        "\n",
        "print('naver','kakao','sk','samsung' , sep='/')\n",
        "print('naver/kakao/sk/samsung')"
      ],
      "metadata": {
        "colab": {
          "base_uri": "https://localhost:8080/"
        },
        "id": "jrL48etnTjHy",
        "outputId": "59590afc-c238-4f30-ff08-bf403328f905"
      },
      "execution_count": null,
      "outputs": [
        {
          "output_type": "stream",
          "name": "stdout",
          "text": [
            "naver/kakao/sk/samsung\n",
            "naver/kakao/sk/samsung\n"
          ]
        }
      ]
    },
    {
      "cell_type": "code",
      "source": [
        "#009\n",
        "\n",
        "print(\"first\",end=' ');print(\"second\")\n"
      ],
      "metadata": {
        "colab": {
          "base_uri": "https://localhost:8080/"
        },
        "id": "Ujsc3sQGTqSB",
        "outputId": "58884591-ae40-422f-ce50-426450cfcad9"
      },
      "execution_count": null,
      "outputs": [
        {
          "output_type": "stream",
          "name": "stdout",
          "text": [
            "first second\n"
          ]
        }
      ]
    },
    {
      "cell_type": "code",
      "source": [
        "#010\n",
        "\n",
        "print(5/3)"
      ],
      "metadata": {
        "colab": {
          "base_uri": "https://localhost:8080/"
        },
        "id": "EI1LPgYOUd0I",
        "outputId": "674fe97e-e4bf-4190-d438-dbb8e49c2212"
      },
      "execution_count": null,
      "outputs": [
        {
          "output_type": "stream",
          "name": "stdout",
          "text": [
            "1.6666666666666667\n"
          ]
        }
      ]
    },
    {
      "cell_type": "code",
      "source": [
        "#11\n",
        "\n",
        "samsung = int(50000)\n",
        "\n",
        "print(f'삼성전자 주식을 10주 보유하고 있을 시 총 평가금액은 {samsung*10} 입니다. ')"
      ],
      "metadata": {
        "id": "0qbZMnpGUlPR",
        "colab": {
          "base_uri": "https://localhost:8080/"
        },
        "outputId": "e4a739ed-64b2-467a-995e-6e79b905bb04"
      },
      "execution_count": 29,
      "outputs": [
        {
          "output_type": "stream",
          "name": "stdout",
          "text": [
            "삼성전자 주식을 10주 보유하고 있을 시 총 평가금액은500000 입니다. \n"
          ]
        }
      ]
    },
    {
      "cell_type": "code",
      "source": [
        "#12\n",
        "\n",
        "시가총액 = int(29800000000)\n",
        "현재가 = int(50000)\n",
        "PER = float(15.79)"
      ],
      "metadata": {
        "id": "LwHqNThWWjtd"
      },
      "execution_count": null,
      "outputs": []
    },
    {
      "cell_type": "code",
      "source": [
        "#13\n",
        "\n",
        "s = \"hello\"\n",
        "t = \"python\"\n",
        "\n",
        "print(f'{s}! {t}')"
      ],
      "metadata": {
        "id": "J_ivi72cXPqV",
        "colab": {
          "base_uri": "https://localhost:8080/"
        },
        "outputId": "57a62ebb-6d82-483f-f1c8-ec51400797fb"
      },
      "execution_count": 32,
      "outputs": [
        {
          "output_type": "stream",
          "name": "stdout",
          "text": [
            "hello! python\n"
          ]
        }
      ]
    },
    {
      "cell_type": "code",
      "source": [
        "#14\n",
        "\n",
        "# 8"
      ],
      "metadata": {
        "id": "l5La5oBgXfRy"
      },
      "execution_count": null,
      "outputs": []
    },
    {
      "cell_type": "code",
      "source": [
        "#15\n",
        "\n",
        "# string 타입"
      ],
      "metadata": {
        "id": "0lLCftm0Xkt4"
      },
      "execution_count": null,
      "outputs": []
    },
    {
      "cell_type": "code",
      "source": [
        "#16\n",
        "\n",
        "num_str ='720'\n",
        "a = int(num_str)\n",
        "\n",
        "print(a)\n",
        "print(type(a))"
      ],
      "metadata": {
        "id": "SazuaRZCXsN6",
        "colab": {
          "base_uri": "https://localhost:8080/"
        },
        "outputId": "6d25a0db-c1c2-48e7-f2ac-4e5a54a4b781"
      },
      "execution_count": 34,
      "outputs": [
        {
          "output_type": "stream",
          "name": "stdout",
          "text": [
            "720\n",
            "<class 'int'>\n"
          ]
        }
      ]
    },
    {
      "cell_type": "code",
      "source": [
        "#17\n",
        "\n",
        "num = 100\n",
        "a = str(num)\n",
        "\n",
        "print(a)\n",
        "print(type(a))\n"
      ],
      "metadata": {
        "colab": {
          "base_uri": "https://localhost:8080/"
        },
        "id": "720kBzZTYw7h",
        "outputId": "a3f9cad6-9740-4286-b832-caa53bef8b7c"
      },
      "execution_count": 33,
      "outputs": [
        {
          "output_type": "stream",
          "name": "stdout",
          "text": [
            "100\n",
            "<class 'str'>\n"
          ]
        }
      ]
    },
    {
      "cell_type": "code",
      "source": [
        "#18\n",
        "\n",
        "num1 = '15.79'\n",
        "a = float(num1)\n",
        "\n",
        "print(a)\n",
        "print(type(a))"
      ],
      "metadata": {
        "colab": {
          "base_uri": "https://localhost:8080/"
        },
        "id": "NJPueKB8Y7XS",
        "outputId": "890f710c-3516-4eb0-8204-8d6d5dabcee5"
      },
      "execution_count": 36,
      "outputs": [
        {
          "output_type": "stream",
          "name": "stdout",
          "text": [
            "15.79\n",
            "<class 'float'>\n"
          ]
        }
      ]
    },
    {
      "cell_type": "code",
      "source": [
        "#19\n",
        "\n",
        "year = '2020'\n",
        "a = int(year)\n",
        "\n",
        "print(f'3년전 연도는 {a-3} 2년전 연도는 {a-2} 1년전 연도는 {a-1} 현재는 {a} 입니다.')"
      ],
      "metadata": {
        "colab": {
          "base_uri": "https://localhost:8080/"
        },
        "id": "BRToR1EYZOrC",
        "outputId": "3c625059-1ea0-4f68-f132-f371cfc8f4ed"
      },
      "execution_count": 39,
      "outputs": [
        {
          "output_type": "stream",
          "name": "stdout",
          "text": [
            "3년전 연도는 2017 2년전 연도는 2018 1년전 연도는 2019 현재는 2020 입니다.\n"
          ]
        }
      ]
    },
    {
      "cell_type": "code",
      "source": [
        "#20\n",
        "\n",
        "monthly = 48584\n",
        "month = 36\n",
        "sum = monthly*month\n",
        "print(f'에어컨의 총 금액은 {sum} 원 입니다.')"
      ],
      "metadata": {
        "colab": {
          "base_uri": "https://localhost:8080/"
        },
        "id": "k54oF946aA9y",
        "outputId": "feb33f44-6143-48a7-f22c-2d43ac36f776"
      },
      "execution_count": 40,
      "outputs": [
        {
          "output_type": "stream",
          "name": "stdout",
          "text": [
            "에어컨의 총 금액은 1749024 원 입니다.\n"
          ]
        }
      ]
    }
  ]
}