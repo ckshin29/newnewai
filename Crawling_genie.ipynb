{
  "nbformat": 4,
  "nbformat_minor": 0,
  "metadata": {
    "colab": {
      "name": "Crawling_genie.ipynb",
      "provenance": [],
      "authorship_tag": "ABX9TyPzSo8OHxgp4bq2DM8Mr0kQ",
      "include_colab_link": true
    },
    "kernelspec": {
      "name": "python3",
      "display_name": "Python 3"
    },
    "language_info": {
      "name": "python"
    }
  },
  "cells": [
    {
      "cell_type": "markdown",
      "metadata": {
        "id": "view-in-github",
        "colab_type": "text"
      },
      "source": [
        "<a href=\"https://colab.research.google.com/github/ckshin29/newnewai/blob/main/Crawling_genie.ipynb\" target=\"_parent\"><img src=\"https://colab.research.google.com/assets/colab-badge.svg\" alt=\"Open In Colab\"/></a>"
      ]
    },
    {
      "cell_type": "code",
      "source": [
        "#pip install selenium\n",
        "from selenium import webdriver  # 파이썬으로 웹 브라우저 컨트롤\n",
        "\n",
        "from bs4 import BeautifulSoup as bs # 분석을 용이하게 정제"
      ],
      "metadata": {
        "id": "-PdZ7Rpbc9_1"
      },
      "execution_count": null,
      "outputs": []
    },
    {
      "cell_type": "code",
      "source": [
        "driver = webdriver.Chrome('chromedriver.exe')\n",
        "driver.get('https://www.genie.co.kr/chart/top200')"
      ],
      "metadata": {
        "id": "Llq8dAm_c-A0"
      },
      "execution_count": null,
      "outputs": []
    },
    {
      "cell_type": "code",
      "source": [
        "html = driver.page_source\n",
        "soup = bs(html)\n",
        "soup"
      ],
      "metadata": {
        "id": "HqoGebcvdBwz"
      },
      "execution_count": null,
      "outputs": []
    },
    {
      "cell_type": "code",
      "source": [
        "len(soup.select('tr.list'))"
      ],
      "metadata": {
        "id": "_2dHViFQdIo7"
      },
      "execution_count": null,
      "outputs": []
    },
    {
      "cell_type": "code",
      "source": [
        "songs = soup.select('tr.list')"
      ],
      "metadata": {
        "id": "WLQNr3wMdJ30"
      },
      "execution_count": null,
      "outputs": []
    },
    {
      "cell_type": "code",
      "source": [
        "song = songs[0]\n",
        "song"
      ],
      "metadata": {
        "id": "1UKLJHa_dLJy"
      },
      "execution_count": null,
      "outputs": []
    },
    {
      "cell_type": "code",
      "source": [
        "title = song.select('a.title')[0].text.strip()\n",
        "title"
      ],
      "metadata": {
        "id": "3ZEE6H9pdNYE"
      },
      "execution_count": null,
      "outputs": []
    },
    {
      "cell_type": "code",
      "source": [
        "singer = song.select('a.artist')[0].text.strip()\n",
        "singer"
      ],
      "metadata": {
        "id": "f77TbmJGdPRV"
      },
      "execution_count": null,
      "outputs": []
    },
    {
      "cell_type": "code",
      "source": [
        "song_data = []\n",
        "rank = 1\n",
        "\n",
        "songs = soup.select('tr.list')  # 50곡 전체\n",
        "\n",
        "for song in songs:\n",
        "    title = song.select('a.title')[0].text.strip()\n",
        "    singer = song.select('a.artist')[0].text.strip()\n",
        "    song_data.append([rank, title, singer])\n",
        "    rank += 1"
      ],
      "metadata": {
        "id": "f9zLZaURdQ2y"
      },
      "execution_count": null,
      "outputs": []
    },
    {
      "cell_type": "code",
      "source": [
        "import pandas as pd\n",
        "df = pd.DataFrame(song_data, columns = ['순위','타이틀','가수'])\n",
        "\n",
        "df.to_excel('Genie.xlsx', index=False)"
      ],
      "metadata": {
        "id": "1Ybly2IvdSgc"
      },
      "execution_count": null,
      "outputs": []
    }
  ]
}