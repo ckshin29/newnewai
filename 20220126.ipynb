{
  "nbformat": 4,
  "nbformat_minor": 0,
  "metadata": {
    "colab": {
      "name": "20220126.ipynb",
      "provenance": [],
      "authorship_tag": "ABX9TyNrXBC6o4VTkWlD5vZKNmJH",
      "include_colab_link": true
    },
    "kernelspec": {
      "name": "python3",
      "display_name": "Python 3"
    },
    "language_info": {
      "name": "python"
    }
  },
  "cells": [
    {
      "cell_type": "markdown",
      "metadata": {
        "id": "view-in-github",
        "colab_type": "text"
      },
      "source": [
        "<a href=\"https://colab.research.google.com/github/ckshin29/ai/blob/main/20220126.ipynb\" target=\"_parent\"><img src=\"https://colab.research.google.com/assets/colab-badge.svg\" alt=\"Open In Colab\"/></a>"
      ]
    },
    {
      "cell_type": "code",
      "execution_count": null,
      "metadata": {
        "colab": {
          "base_uri": "https://localhost:8080/"
        },
        "id": "oqnt01aP-DMM",
        "outputId": "e06ac13d-1845-4cb0-cc07-641e888d192a"
      },
      "outputs": [
        {
          "output_type": "stream",
          "name": "stdout",
          "text": [
            "[1, 2, 3, 4, 5]\n",
            "[1, 2, 3, '대한', '민국', True, False]\n",
            "[80, 90, 70, 60]\n",
            "80\n",
            "[80, 90]\n",
            "[100, 90, 70, 60]\n",
            "[100, 90, 70, 100]\n"
          ]
        }
      ],
      "source": [
        "#####################################################\n",
        "# 리스트 List 튜플 Tuple 딕셔너리 Dict 셋 Set\n",
        "#####################################################\n",
        "\n",
        "#여러개의 값을 한번에 저장하는 자료형이 필요하다.\n",
        "\n",
        "# 리스트 List - 가장 많이 사용함\n",
        "# 지금까지 사용한 숫자1, 문자1 등 개별적, 독립적인 자료가 아닌 리스트는 이러한 자료들 여러개를 모아서 사용할 수 있게 해준다.\n",
        "\n",
        "# 리스트는 []로 구성한다.\n",
        "\n",
        "list = [1,2,3,4,5]\n",
        "print(list)\n",
        "\n",
        "#리스트는 다양한 자료형의 데이터를 한번에 담을 수 있다.\n",
        "# (but, 하나의 리스트에는 한가지 자료형만 저장하는 것이 오히려 바람직하다.)\n",
        "\n",
        "list = [1,2,3,'대한', '민국', True, False]\n",
        "print(list)\n",
        "\n",
        "score = [80,90,70,60]\n",
        "print(score)\n",
        "#리스트는 인덱싱과 슬라이싱이 가능하다.\n",
        "print(score[0]) #파이썬은 0부터 시작한다.\n",
        "print(score[0:2]) #슬라이싱은 0부터 2미만... 처럼 끝은 미만을 나타낸다.\n",
        "\n",
        "# 리스트는 수정/삭제가 가능하다. (mutable but 튜플은 immutable)\n",
        "\n",
        "score[0] = 100\n",
        "print(score)\n",
        "score[-1] = 100\n",
        "print(score)\n",
        "# score[4] #indexerror 아주 많이 접하게 될 에러 (에외)\n",
        "\n"
      ]
    },
    {
      "cell_type": "code",
      "source": [
        "# 리스트는 연산이 가능하다.\n",
        "list_a = [1,2,3]\n",
        "list_b = [4,5,6]\n",
        "\n",
        "print('list_a = ', list_a)\n",
        "print('list_b = ', list_b)\n",
        "\n",
        "print(list_a + list_b)\n",
        "print(list_a * 3)\n",
        "print(len(list_a)) \n",
        "\n",
        "# len 리스트의 갯수"
      ],
      "metadata": {
        "colab": {
          "base_uri": "https://localhost:8080/"
        },
        "id": "IrwmYG1iJc2E",
        "outputId": "a8626dd6-8304-46aa-d3b9-285c6a98bb57"
      },
      "execution_count": null,
      "outputs": [
        {
          "output_type": "stream",
          "name": "stdout",
          "text": [
            "list_a =  [1, 2, 3]\n",
            "list_b =  [4, 5, 6]\n",
            "[1, 2, 3, 4, 5, 6]\n",
            "[1, 2, 3, 1, 2, 3, 1, 2, 3]\n",
            "3\n"
          ]
        }
      ]
    },
    {
      "cell_type": "code",
      "source": [
        "# 리스트에 많이 사용되는 함수들...\n",
        "# append () 리스트에 요소를 추가할때 사용 끝에만 추가\n",
        "\n",
        "print(score)\n",
        "score.append(60)\n",
        "print(score)\n",
        "score.append(70)\n",
        "print(score)"
      ],
      "metadata": {
        "colab": {
          "base_uri": "https://localhost:8080/"
        },
        "id": "VYUh-WE6I7R9",
        "outputId": "250a6274-3bb2-4778-c283-81e38cc17eba"
      },
      "execution_count": null,
      "outputs": [
        {
          "output_type": "stream",
          "name": "stdout",
          "text": [
            "[100, 90, 70, 100]\n",
            "[100, 90, 70, 100, 60]\n",
            "[100, 90, 70, 100, 60, 70]\n"
          ]
        }
      ]
    },
    {
      "cell_type": "code",
      "source": [
        "# insert() 리스트에 요소를 추가 할때 사용, 특정위치를 지정하여 추가\n",
        "list = []\n",
        "list.insert(0,10)\n",
        "print(list)\n",
        "\n",
        "list.insert(1,50)\n",
        "print(list)"
      ],
      "metadata": {
        "colab": {
          "base_uri": "https://localhost:8080/"
        },
        "id": "WUOAtS_DJg5x",
        "outputId": "7abda44a-5152-4785-ea61-01a0cf02c876"
      },
      "execution_count": null,
      "outputs": [
        {
          "output_type": "stream",
          "name": "stdout",
          "text": [
            "[10]\n",
            "[10, 50]\n"
          ]
        }
      ]
    },
    {
      "cell_type": "code",
      "source": [
        "list_a = [1,2,3]\n",
        "list_a.extend([4,5,6]) #한번에 여러개 집어 넣을때 사용\n",
        "list_a"
      ],
      "metadata": {
        "colab": {
          "base_uri": "https://localhost:8080/"
        },
        "id": "8-Vi7U_CKAzj",
        "outputId": "587b7eba-f77a-4deb-bae8-8ec9a379e2ae"
      },
      "execution_count": null,
      "outputs": [
        {
          "output_type": "execute_result",
          "data": {
            "text/plain": [
              "[1, 2, 3, 4, 5, 6]"
            ]
          },
          "metadata": {},
          "execution_count": 5
        }
      ]
    },
    {
      "cell_type": "code",
      "source": [
        "list_a = [1,2,3]\n",
        "list_b = [4,5,6]\n",
        "print(list_a + list_b)\n",
        "print(list_a) #비파괴적 처리\n",
        "\n",
        "# 리스트 연결 만으로는 list_a 에 어떠한 영향도 주지 않는다.(비파괴적 처리)\n",
        "# 하지만 extend()를 사용하면 list_a 에 직접적으로 영향을 주게 된다. (파괴적 처리)\n",
        "\n",
        "# 원래 자료를 사용할 때는 비파괴적으로 사용하는 것이 바람직하다.\n",
        "# 가능하면 원본 데이터는 그대로 유지하고 사용하는 것이 선택지가 넓다. "
      ],
      "metadata": {
        "colab": {
          "base_uri": "https://localhost:8080/"
        },
        "id": "2ypuAzjtKraj",
        "outputId": "aebee208-57ec-4720-f685-0b5c5292eff2"
      },
      "execution_count": null,
      "outputs": [
        {
          "output_type": "stream",
          "name": "stdout",
          "text": [
            "[1, 2, 3, 4, 5, 6]\n",
            "[1, 2, 3]\n"
          ]
        }
      ]
    },
    {
      "cell_type": "code",
      "source": [
        "# del() 리스트에서 데이터 삭제\n",
        "\n",
        "list_a = [0,1,2,3,4,5]\n",
        "del list_a[1] # index 값으로 위치값을 삭제\n",
        "print(list_a)\n",
        "\n",
        "del list_a[1:3] # 1부터 3미만 즉 2까지\n",
        "print(list_a)\n",
        "\n",
        "del list_a[:] # 생략하면 처음 : 생략하면 끝\n",
        "print(list_a)\n",
        "\n",
        "# list_a.clear() 리스트 요소를 전부 한번에 삭제"
      ],
      "metadata": {
        "colab": {
          "base_uri": "https://localhost:8080/"
        },
        "id": "lgHoEvfmMYdi",
        "outputId": "436e0f47-10e7-4118-e219-cec955b59e36"
      },
      "execution_count": null,
      "outputs": [
        {
          "output_type": "stream",
          "name": "stdout",
          "text": [
            "[0, 2, 3, 4, 5]\n",
            "[0, 4, 5]\n",
            "[]\n"
          ]
        }
      ]
    },
    {
      "cell_type": "code",
      "source": [
        "# pop() 리스트에서 마지막 위치 데이터 삭제\n",
        "list_a.pop()\n",
        "list_a"
      ],
      "metadata": {
        "colab": {
          "base_uri": "https://localhost:8080/",
          "height": 213
        },
        "id": "W76XkWY3NF4W",
        "outputId": "859970de-a9e7-493a-cba7-4eedc28025fa"
      },
      "execution_count": null,
      "outputs": [
        {
          "output_type": "error",
          "ename": "IndexError",
          "evalue": "ignored",
          "traceback": [
            "\u001b[0;31m---------------------------------------------------------------------------\u001b[0m",
            "\u001b[0;31mIndexError\u001b[0m                                Traceback (most recent call last)",
            "\u001b[0;32m<ipython-input-8-1fc49c72cc4d>\u001b[0m in \u001b[0;36m<module>\u001b[0;34m()\u001b[0m\n\u001b[1;32m      1\u001b[0m \u001b[0;31m# pop() 리스트에서 마지막 위치 데이터 삭제\u001b[0m\u001b[0;34m\u001b[0m\u001b[0;34m\u001b[0m\u001b[0;34m\u001b[0m\u001b[0m\n\u001b[0;32m----> 2\u001b[0;31m \u001b[0mlist_a\u001b[0m\u001b[0;34m.\u001b[0m\u001b[0mpop\u001b[0m\u001b[0;34m(\u001b[0m\u001b[0;34m)\u001b[0m\u001b[0;34m\u001b[0m\u001b[0;34m\u001b[0m\u001b[0m\n\u001b[0m\u001b[1;32m      3\u001b[0m \u001b[0mlist_a\u001b[0m\u001b[0;34m\u001b[0m\u001b[0;34m\u001b[0m\u001b[0m\n",
            "\u001b[0;31mIndexError\u001b[0m: pop from empty list"
          ]
        }
      ]
    },
    {
      "cell_type": "code",
      "source": [
        "list_a.pop(1)\n",
        "list_a"
      ],
      "metadata": {
        "id": "db1rGKJZNlEi"
      },
      "execution_count": null,
      "outputs": []
    },
    {
      "cell_type": "code",
      "source": [
        "# remove 값으로 삭제\n",
        "\n",
        "list_c = [1,2,1,2]\n",
        "list_c.remove(2) #remove 는 요소의 값을 찾아 삭제한다.\n",
        "                 # 동일한 값이 여러개 있을때는 하나씩 순차적으로 삭제한다.\n",
        "                 # 리스트에서 중복된 여러개의 값을 제거하려면 반복문을 사용한다.\n",
        "print(list_c)\n",
        "list_c.remove(2)\n",
        "print(list_c)\n"
      ],
      "metadata": {
        "id": "L8CTwhbGOlJv"
      },
      "execution_count": null,
      "outputs": []
    },
    {
      "cell_type": "code",
      "source": [
        "list = [1,2,3,4,5]\n",
        "print(list[0]) # indexing 비파괴적으로 동작한다.\n",
        "print(list)\n",
        "\n",
        "print(list.pop()) #pop은 파괴적으로 동작한다.\n",
        "orint(list)"
      ],
      "metadata": {
        "id": "jxr2D6SvPuxp"
      },
      "execution_count": null,
      "outputs": []
    },
    {
      "cell_type": "code",
      "source": [
        "# in / not in 리스트에 존재하는 요소인지를 확인\n",
        "\n",
        "list = [222,434,65,123,547,876]\n",
        "print(222 in list)\n",
        "list = [222,434,65,123,547,876]\n",
        "print(221 in list)\n",
        "print(221 not in list)\n",
        "\n"
      ],
      "metadata": {
        "id": "XLkbfL1-QYlp"
      },
      "execution_count": null,
      "outputs": []
    },
    {
      "cell_type": "code",
      "source": [
        "# 딕셔너리 (java의 map, JS의 json 과 유사한 자료구조)\n",
        "# 리스트가 인덱스를 기반으로 값을 저장한다면 딕셔너리는 키값을 기반으로 값을 저장한다.\n",
        "\n",
        "# {} 를 사용하여 데이터를 저장한다.\n",
        "# 삽입/삭제 가 가능하다. mutable\n",
        "# 순서가 없으므로 인덱싱과 슬라이싱이 불가능하다.\n",
        "\n",
        "dict = {\n",
        "    \"name\" : \"엔드게임\",\n",
        "    \"no\" : 1,\n",
        "    \"type\" : \"히어로 무비\",\n",
        "    \"price\" : 10000\n",
        "}\n",
        "\n",
        "print(dict)\n",
        "dict['name']"
      ],
      "metadata": {
        "id": "ukotXehOivIr"
      },
      "execution_count": null,
      "outputs": []
    },
    {
      "cell_type": "code",
      "source": [
        "dict = {  #키값은 하나 밸류는 리스트로 가능\n",
        "    \"감독\" : [\"안소니\",\"루소\"],\n",
        "    \"배우\" : [\"타노스\",\"토르\",\"헐크\"],\n",
        "}\n",
        "\n",
        "dict[\"감독\"]"
      ],
      "metadata": {
        "id": "zbDhSz1KlCOy"
      },
      "execution_count": null,
      "outputs": []
    },
    {
      "cell_type": "code",
      "source": [
        "dict = {\n",
        "    'name' : '건조 망고',\n",
        "    'type' : '절임 과일',\n",
        "    'ingredient' : ['망고','설망','색소'],\n",
        "    'origin' : '필리핀'\n",
        "}\n",
        "\n",
        "print('name:', dict['name'])\n",
        "print('type:', dict['type'])\n",
        "print('ingredient:', dict['ingredient'])\n",
        "print('origin:', dict['origin'])\n",
        "\n",
        "\n",
        "dict['name'] = '망고'\n",
        "print('name:', dict['name'])\n",
        "\n",
        "print(dict['ingredient'][0])\n",
        "\n",
        "dict['price'] = 5000  #값 추가 없는걸 지정하면 추가가 되고 있는걸 지정하면 수정이 되는 개념\n",
        "print(dict)\n",
        "\n",
        "dict['price'] = 4000 \n",
        "print(dict)\n",
        "\n",
        "del dict['price'] #삭제\n",
        "print(dict)"
      ],
      "metadata": {
        "id": "Bv4qYvMtl-8y"
      },
      "execution_count": null,
      "outputs": []
    },
    {
      "cell_type": "code",
      "source": [
        "dict = {}\n",
        "\n",
        "dict['name'] = '새이름'\n",
        "dict['height'] = 185\n",
        "dict['weight'] = 75\n",
        "\n",
        "print(dict)\n",
        "del dict['weight']\n",
        "print(dict)"
      ],
      "metadata": {
        "id": "e5vN21EGohEh"
      },
      "execution_count": null,
      "outputs": []
    },
    {
      "cell_type": "code",
      "source": [
        "# dict 자주 등장하는 에러(예외)\n",
        "\n",
        "# KeyError 리스트에서 없는 인덱스에 접근하려고 하면 IndexError 가 발생된다.\n",
        "# dict 에서도 존재하지 않는 키값을 사용하면 예외 또는 에러를 발생시킨다.\n",
        "\n",
        "dict = {\n",
        "    'name' : '건조 망고',\n",
        "    'type' : '절임 과일',\n",
        "    'ingredient' : ['망고','설망','색소'],\n",
        "    'origin' : '필리핀'\n",
        "}\n",
        "\n",
        "del dict['nane']"
      ],
      "metadata": {
        "id": "nI0NETrApCf_"
      },
      "execution_count": null,
      "outputs": []
    },
    {
      "cell_type": "code",
      "source": [
        "dict = {\n",
        "    'name' : '건조 망고',\n",
        "    'type' : '절임 과일',\n",
        "    'ingredient' : ['망고','설망','색소'],\n",
        "    'origin' : '필리핀'\n",
        "}\n",
        "\n",
        "key = input('>삭제를 원하는 데이터의 키값을 입력하세요 ')\n",
        "\n",
        "if key in dict:\n",
        "  print(dict[key])\n",
        "  del dict[key]\n",
        "else:\n",
        "  print('존재하지 않은 키에 접근하고 있습니다...')\n",
        "\n",
        "print(dict)"
      ],
      "metadata": {
        "id": "FY__080SqIXi"
      },
      "execution_count": null,
      "outputs": []
    },
    {
      "cell_type": "code",
      "source": [
        "# 튜플 tuple\n",
        "\n",
        "# () 사용하여 작성한다.\n",
        "# 리스트와 거의 대부분 유사하나, 튜플은 삽입,수정 등이 불가능하다. immutable\n",
        "# 튜플은 1개의 원소로 작성할 때는 , 를 삽입한다. (1,)\n",
        "# 튜플은 솰호를 생략할수 있다.\n",
        "\n",
        "t = (1,2)\n",
        "print(t)\n",
        "print(type(t))\n",
        "\n",
        "t2 = 3, 4\n",
        "print(t2)\n",
        "print(type(t2))\n",
        "\n",
        "t3 = (5) # (5) == 5\n",
        "print(t3)\n",
        "print(type(t3))\n",
        "\n",
        "t4 = (5)\n",
        "print(t4)\n",
        "print(type(t4))\n",
        "\n",
        "t5 = (5,)\n",
        "print(t5)\n",
        "print(type(t5))"
      ],
      "metadata": {
        "id": "UlCq3-g1tTet"
      },
      "execution_count": null,
      "outputs": []
    },
    {
      "cell_type": "code",
      "source": [
        "t = (1,2,3,4,5)\n",
        "# t[0] = 8 튜플은 수정이 불가능하다.\n",
        "del t[0] "
      ],
      "metadata": {
        "id": "U25Tw5QOy0VG"
      },
      "execution_count": null,
      "outputs": []
    },
    {
      "cell_type": "code",
      "source": [
        "t = (1,2,3,4,5)\n",
        "\n",
        "print(t[1]) # 튜플은 인덱싱과 슬라이싱이 가능하다.\n",
        "print(t[2:])\n"
      ],
      "metadata": {
        "id": "KObzDg84zQs1"
      },
      "execution_count": null,
      "outputs": []
    },
    {
      "cell_type": "code",
      "source": [
        "t1 = (1,2,3,4,5)\n",
        "t2 = (6,7,8,9) #비 파과적 연산은 가능하다.\n",
        "\n",
        "print(t1 + t2)\n",
        "print(t1)\n",
        "print(t2)\n",
        "print(t1 *3)"
      ],
      "metadata": {
        "id": "0gAHFJQWzu7U"
      },
      "execution_count": null,
      "outputs": []
    },
    {
      "cell_type": "code",
      "source": [
        "#Set 집합\n",
        "# {} 사용하여 작성한다.\n",
        "# 중복을 허용하지 않는다.(중복제거 필터용으로 많이 사용)\n",
        "# 순서가 없다. unordered 리스트나 튜플은 순서가 있기 때문에 ordered 인데싱과 슬라이싱을 통해 값을 꺼낼수있지만 딕셔너리와 셋은 순서가 없어서 불가능하다.\n",
        "# set 자료형에 저장된 값을 꺼내려면 리스트나 튜플로 변환하여 사용한다.\n",
        "# mutable 수정/삭제가 가능하다.\n",
        "\n",
        "set = {1,1,2,2,3,3,4,4}\n",
        "print(set)\n"
      ],
      "metadata": {
        "id": "ZP3rwvB40krL"
      },
      "execution_count": null,
      "outputs": []
    },
    {
      "cell_type": "code",
      "source": [
        "s1 = set([1,1,2,2,3,3])\n",
        "print(type(s1))\n",
        "print(s1)\n",
        "\n",
        "li = list(s1)\n",
        "print(type(li))\n",
        "print(li)\n",
        "li[0]"
      ],
      "metadata": {
        "colab": {
          "base_uri": "https://localhost:8080/",
          "height": 288
        },
        "id": "egEGfP152x9U",
        "outputId": "bb3bb0e5-689a-4312-9410-41184aa32b1a"
      },
      "execution_count": 11,
      "outputs": [
        {
          "output_type": "stream",
          "name": "stdout",
          "text": [
            "<class 'set'>\n",
            "{1, 2, 3}\n"
          ]
        },
        {
          "output_type": "error",
          "ename": "TypeError",
          "evalue": "ignored",
          "traceback": [
            "\u001b[0;31m---------------------------------------------------------------------------\u001b[0m",
            "\u001b[0;31mTypeError\u001b[0m                                 Traceback (most recent call last)",
            "\u001b[0;32m<ipython-input-11-445abbd7556f>\u001b[0m in \u001b[0;36m<module>\u001b[0;34m()\u001b[0m\n\u001b[1;32m      3\u001b[0m \u001b[0mprint\u001b[0m\u001b[0;34m(\u001b[0m\u001b[0ms1\u001b[0m\u001b[0;34m)\u001b[0m\u001b[0;34m\u001b[0m\u001b[0;34m\u001b[0m\u001b[0m\n\u001b[1;32m      4\u001b[0m \u001b[0;34m\u001b[0m\u001b[0m\n\u001b[0;32m----> 5\u001b[0;31m \u001b[0mli\u001b[0m \u001b[0;34m=\u001b[0m \u001b[0mlist\u001b[0m\u001b[0;34m(\u001b[0m\u001b[0ms1\u001b[0m\u001b[0;34m)\u001b[0m\u001b[0;34m\u001b[0m\u001b[0;34m\u001b[0m\u001b[0m\n\u001b[0m\u001b[1;32m      6\u001b[0m \u001b[0mprint\u001b[0m\u001b[0;34m(\u001b[0m\u001b[0mtype\u001b[0m\u001b[0;34m(\u001b[0m\u001b[0mli\u001b[0m\u001b[0;34m)\u001b[0m\u001b[0;34m)\u001b[0m\u001b[0;34m\u001b[0m\u001b[0;34m\u001b[0m\u001b[0m\n\u001b[1;32m      7\u001b[0m \u001b[0mprint\u001b[0m\u001b[0;34m(\u001b[0m\u001b[0mli\u001b[0m\u001b[0;34m)\u001b[0m\u001b[0;34m\u001b[0m\u001b[0;34m\u001b[0m\u001b[0m\n",
            "\u001b[0;31mTypeError\u001b[0m: 'list' object is not callable"
          ]
        }
      ]
    },
    {
      "cell_type": "code",
      "source": [
        "# 집합 계산\n",
        "\n",
        "set1 ={1,2,3}\n",
        "set2 = {2,3,4}\n",
        "\n",
        "print(type(set1))\n",
        "print(type(set2))\n",
        "\n",
        "# 양쪽 집합 모두 공통적으로 포함되는 원소 -> 교집합\n",
        "print(set1 & set2) \n",
        "print(set1.intersection(set2)) \n",
        "\n",
        "# 양쪽 집합의 모든 원소 -> 합집합\n",
        "print(set1 | set2) \n",
        "print(set1.union(set2))\n",
        "\n",
        "# 두개 집합의 차 -> 차집합\n",
        "print(set1-set2)\n",
        "print(set1.difference(set2))"
      ],
      "metadata": {
        "colab": {
          "base_uri": "https://localhost:8080/"
        },
        "id": "IXAvq0lO4xOM",
        "outputId": "8e868e1f-facd-455e-92c3-6a3be85fdd7b"
      },
      "execution_count": 18,
      "outputs": [
        {
          "output_type": "stream",
          "name": "stdout",
          "text": [
            "<class 'set'>\n",
            "<class 'set'>\n",
            "{2, 3}\n",
            "{2, 3}\n",
            "{1, 2, 3, 4}\n",
            "{1, 2, 3, 4}\n",
            "{1}\n",
            "{1}\n"
          ]
        }
      ]
    },
    {
      "cell_type": "code",
      "source": [
        "# 집합은 삽입 가능 mutable\n",
        "\n",
        "set1 = {1,2,3}\n",
        "print(set1)\n",
        "set1.add(4)\n",
        "print(set1)\n",
        "\n",
        "set1.update([5,6,7,8])\n",
        "print(set1)\n",
        "\n",
        "# 집합은 삭제 가능 mutable\n",
        "# 집합은 인덱스 개념이 존재하지 않는다. 따라서 값을 지정하여 직접 삭제한다.\n",
        "set1.remove(4)\n",
        "print(set1)"
      ],
      "metadata": {
        "colab": {
          "base_uri": "https://localhost:8080/"
        },
        "id": "a2MQ50Fb6q8n",
        "outputId": "fbc41334-7cff-466e-81d7-6fa69827b357"
      },
      "execution_count": 20,
      "outputs": [
        {
          "output_type": "stream",
          "name": "stdout",
          "text": [
            "{1, 2, 3}\n",
            "{1, 2, 3, 4}\n",
            "{1, 2, 3, 4, 5, 6, 7, 8}\n",
            "{1, 2, 3, 5, 6, 7, 8}\n"
          ]
        }
      ]
    },
    {
      "cell_type": "code",
      "source": [
        "number = input('학번을 입력하세요 >> ')\n",
        "print(number [0],'학년', number [1:3],'반', number [3:5],'번'  )\n",
        "print(f'{number[0]}학년 {number[1:3]}반 {number[3:]}번')"
      ],
      "metadata": {
        "colab": {
          "base_uri": "https://localhost:8080/"
        },
        "id": "FR7ImSNL_zTV",
        "outputId": "748e39e0-20a4-4fd4-d4e5-4e241867d202"
      },
      "execution_count": 23,
      "outputs": [
        {
          "output_type": "stream",
          "name": "stdout",
          "text": [
            "학번을 입력하세요 >> 31025\n",
            "3 학년 10 반 25 번\n",
            "3학년 10반 25번\n"
          ]
        }
      ]
    },
    {
      "cell_type": "code",
      "source": [
        "cn = input('차량 번호를 입력하세요 >>')\n",
        "cn2 = input('차량 번호를 입력하세요 >>')\n",
        "\n",
        "print(f'{cn}의 차량번호 끝 4자리는 {cn[-4:]} 입니다')\n",
        "#print(f'{cn2}의 차량번호 끝 4자리는 {cn2[-4:]} 입니다')"
      ],
      "metadata": {
        "colab": {
          "base_uri": "https://localhost:8080/"
        },
        "id": "KGrmwTMXB_5X",
        "outputId": "582305f2-7f86-4c68-dc48-1b4cad5bdb9f"
      },
      "execution_count": 26,
      "outputs": [
        {
          "output_type": "stream",
          "name": "stdout",
          "text": [
            "차량 번호를 입력하세요 >>서울2가1234\n",
            "차량 번호를 입력하세요 >>288가1233\n",
            "서울2가1234의 차량번호 끝 4자리는 1234 입니다\n",
            "288가1233의 차량번호 끝 4자리는 1233 입니다\n"
          ]
        }
      ]
    },
    {
      "cell_type": "code",
      "source": [
        "# 홀수 갯수의 문자열을 입력받아 가운데 글자를 추출하는 프로그램을 구현하시오\n",
        "\n",
        "#ctx = 'austins'\n",
        "\n",
        "#print(int(len(ctx)/2)\n",
        "#print((len(ctx)//2) # 몫만 추출\n",
        "#print((len(ctx)%2) # 나머지만 추출(홀수 짝수 배수 판별 가능)\n",
        "\n",
        "name3 = input('홀수 갯수의 문자열을 입력하세요')\n",
        "\n",
        "\n",
        "print(f'{name3}의 가운데 글자는 {name3[len(name3)%2]} 입니다')\n"
      ],
      "metadata": {
        "colab": {
          "base_uri": "https://localhost:8080/"
        },
        "id": "SZCJRwdlDsYN",
        "outputId": "e022f5ee-029a-4ac8-a6da-494e25dcace7"
      },
      "execution_count": 40,
      "outputs": [
        {
          "output_type": "stream",
          "name": "stdout",
          "text": [
            "홀수 갯수의 문자열을 입력하세요abc\n",
            "abc의 가운데 글자는 b 입니다\n"
          ]
        }
      ]
    },
    {
      "cell_type": "code",
      "source": [
        "# [1,2,3,4,5,6,7,8,9] 의 3번째 요소부터 7번째 요소만 추출한 결과에서\n",
        "# 2번째 요소를 출력하는 프로그램을 구현하세요. (한줄로)\n",
        "\n",
        "li = [1,2,3,4,5,6,7,8,9]\n",
        "print(li[2:7][1])\n",
        "\n"
      ],
      "metadata": {
        "colab": {
          "base_uri": "https://localhost:8080/"
        },
        "id": "Mg2K9kD6IUQW",
        "outputId": "c76bdabf-f1c9-40db-800e-8da5d0781154"
      },
      "execution_count": 39,
      "outputs": [
        {
          "output_type": "stream",
          "name": "stdout",
          "text": [
            "4\n"
          ]
        }
      ]
    },
    {
      "cell_type": "code",
      "source": [
        "#############################\n",
        "# if\n",
        "#############################\n",
        "\n",
        "# 특정 조건을 만족하는지 여부에 따라 실행되는 코드가 달라져야할 때 사용된다.\n",
        "# 날씨가 맑으면 소풍을 가고 아니면 공부를 한다\n",
        "\n",
        "#if 조건식 :\n",
        "#만족 할때 실행\n",
        "#else \n",
        "#만족하지 못할때 실행\n",
        "\n",
        "if False:\n",
        "  print('만족')\n",
        "else:\n",
        "  print('불만족')\n"
      ],
      "metadata": {
        "id": "Oo635w5KMovh"
      },
      "execution_count": null,
      "outputs": []
    },
    {
      "cell_type": "code",
      "source": [
        "age = int(input('당신의 나이를 입력하세요 >> '))\n",
        "\n",
        "if age>= 18:\n",
        "  print('당신은 성인입니다.')\n",
        "else:\n",
        "  print('당신은 성인이 아닙니다')"
      ],
      "metadata": {
        "colab": {
          "base_uri": "https://localhost:8080/"
        },
        "id": "eU9WWBSBPXqD",
        "outputId": "836c1499-b4c9-432e-f3c6-6c3ca18ebaad"
      },
      "execution_count": 41,
      "outputs": [
        {
          "output_type": "stream",
          "name": "stdout",
          "text": [
            "당신의 나이를 입력하세요 >>18\n",
            "당신은 성인입니다.\n"
          ]
        }
      ]
    },
    {
      "cell_type": "code",
      "source": [
        "age = int(input('당신의 나이를 입력하세요 >> '))\n",
        "\n",
        "if age <10:\n",
        "  print('당신은 유아입니다.')\n",
        "elif age <20:\n",
        "  print('당신은 10대 입니다')\n",
        "elif age <30:\n",
        "  print('당신은 20대 입니다')\n",
        "elif age <40:\n",
        "  print('당신은 30대 입니다')\n",
        "elif age <50:\n",
        "  print('당신은 40대 입니다')\n",
        "else :\n",
        "  print('당신은 노인 입니다')"
      ],
      "metadata": {
        "colab": {
          "base_uri": "https://localhost:8080/"
        },
        "id": "Tm8f6h5GQLC4",
        "outputId": "a97e3d3a-1917-4420-c072-e470d92b164d"
      },
      "execution_count": 44,
      "outputs": [
        {
          "output_type": "stream",
          "name": "stdout",
          "text": [
            "당신의 나이를 입력하세요 >> 66\n",
            "당신은 노인 입니다\n"
          ]
        }
      ]
    },
    {
      "cell_type": "code",
      "source": [
        "score = int(input('당신의 점수를 입력하세요 >> '))\n",
        "if score >=90:\n",
        "  print(f'당신의 점수는 {score} 점이고 학점은 A 학점입니다.')\n",
        "elif score >=80:\n",
        "  print(f'당신의 점수는 {score} 점이고 학점은 B 학점입니다.')\n",
        "elif score >=70:\n",
        "  print(f'당신의 점수는 {score} 점이고 학점은 C 학점입니다.')\n",
        "elif score >=60:\n",
        "  print(f'당신의 점수는 {score} 점이고 학점은 D 학점입니다.')\n",
        "else :\n",
        "   print(f'당신의 점수는 {score} 점이고 학점은 F 학점입니다.')"
      ],
      "metadata": {
        "colab": {
          "base_uri": "https://localhost:8080/"
        },
        "id": "0xeCrVmERZmB",
        "outputId": "be6b0b7f-7380-4b9d-abe6-c21b6a22dc59"
      },
      "execution_count": 48,
      "outputs": [
        {
          "output_type": "stream",
          "name": "stdout",
          "text": [
            "당신의 점수를 입력하세요 >> 64\n",
            "당신의 점수는 64 점이고 학점은 D 학점입니다.\n"
          ]
        }
      ]
    },
    {
      "cell_type": "code",
      "source": [
        "# 임의의 정수를 입력받아 그 수가 3의 배수인지를 확인하는 프로그램을 작성하히오 % 홀수 짝수 배수\n",
        "\n",
        "number = int(input('정수를 입력하세요 >> '))\n",
        "if number%3 !=0:\n",
        "  print(f'{number}는 3의 배수가 아닙니다.')\n",
        "else :\n",
        "  print(f'{number}는 3의 배수입니다.')"
      ],
      "metadata": {
        "colab": {
          "base_uri": "https://localhost:8080/"
        },
        "id": "vuOahLVETZs4",
        "outputId": "869ab635-ba4a-43e8-bc5b-6d212609e570"
      },
      "execution_count": 51,
      "outputs": [
        {
          "output_type": "stream",
          "name": "stdout",
          "text": [
            "정수를 입력하세요 >> 15\n",
            "15는 3의 배수입니다.\n"
          ]
        }
      ]
    },
    {
      "cell_type": "code",
      "source": [
        "n1 = int(input('정수 1 입력 : '))\n",
        "n2 = int(input('정수 2 입력 : '))\n",
        "n3 = int(input('정수 3 입력 : '))\n",
        "max = 0\n",
        "\n",
        "if n1 > n2 & n1 > n3:\n",
        "  max = n1\n",
        "elif n2 > n3 :\n",
        "  max = n2\n",
        "else :\n",
        "  max = n3\n",
        "\n",
        "print(max)\n"
      ],
      "metadata": {
        "colab": {
          "base_uri": "https://localhost:8080/"
        },
        "id": "yHvFtGlEVEpi",
        "outputId": "0c5ca21d-78d9-465a-c7a5-89dd45a18934"
      },
      "execution_count": 56,
      "outputs": [
        {
          "output_type": "stream",
          "name": "stdout",
          "text": [
            "정수 1 입력 : 6\n",
            "정수 2 입력 : 4\n",
            "정수 3 입력 : 2\n",
            "6\n"
          ]
        }
      ]
    }
  ]
}