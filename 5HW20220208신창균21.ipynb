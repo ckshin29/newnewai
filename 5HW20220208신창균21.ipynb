{
  "nbformat": 4,
  "nbformat_minor": 0,
  "metadata": {
    "colab": {
      "name": "5HW20220208신창균21.ipynb",
      "provenance": [],
      "collapsed_sections": [],
      "authorship_tag": "ABX9TyN7B6FnMO3fMgsX8p6GhwZm",
      "include_colab_link": true
    },
    "kernelspec": {
      "name": "python3",
      "display_name": "Python 3"
    },
    "language_info": {
      "name": "python"
    }
  },
  "cells": [
    {
      "cell_type": "markdown",
      "metadata": {
        "id": "view-in-github",
        "colab_type": "text"
      },
      "source": [
        "<a href=\"https://colab.research.google.com/github/ckshin29/newnewai/blob/main/5HW20220208%EC%8B%A0%EC%B0%BD%EA%B7%A021.ipynb\" target=\"_parent\"><img src=\"https://colab.research.google.com/assets/colab-badge.svg\" alt=\"Open In Colab\"/></a>"
      ]
    },
    {
      "cell_type": "code",
      "execution_count": null,
      "metadata": {
        "colab": {
          "base_uri": "https://localhost:8080/"
        },
        "id": "1D6TpIdFbyfO",
        "outputId": "c5b84396-5087-457b-b6bd-18eb636dcad0"
      },
      "outputs": [
        {
          "output_type": "stream",
          "name": "stdout",
          "text": [
            "<function n_plus_1 at 0x7ff773ca9320>\n"
          ]
        }
      ],
      "source": [
        "#231\n",
        " \n",
        "# 4\n",
        "\n"
      ]
    },
    {
      "cell_type": "code",
      "source": [
        "#232\n",
        "\n",
        "def make_url(site) :\n",
        "  print(f'www.{site}.com')\n",
        "  return\n",
        "\n",
        "make_url(\"naver\")"
      ],
      "metadata": {
        "colab": {
          "base_uri": "https://localhost:8080/"
        },
        "id": "5NP-8EbccZja",
        "outputId": "67f687e8-9687-4cfd-f45f-2831ecd3307a"
      },
      "execution_count": null,
      "outputs": [
        {
          "output_type": "stream",
          "name": "stdout",
          "text": [
            "www.naver.com\n"
          ]
        }
      ]
    },
    {
      "cell_type": "code",
      "source": [
        "#233\n",
        "\n",
        "def make_list(word) :\n",
        "  \n",
        "  list = []\n",
        "\n",
        "  for i in (len(word)) :\n",
        "    \n",
        "    c = 0\n",
        "    \n",
        "    i = word[c]\n",
        "    list.append(i)\n",
        "    c = c + 1\n",
        "  \n",
        "  print(list)\n",
        "  \n",
        "make_list(\"abcd\")\n",
        "\n",
        "# ????????????????\n",
        "\n",
        "\n"
      ],
      "metadata": {
        "colab": {
          "base_uri": "https://localhost:8080/",
          "height": 381
        },
        "id": "dFZb1OJbdRea",
        "outputId": "9b05b55a-1341-4188-dc3d-713d7e7a4af1"
      },
      "execution_count": null,
      "outputs": [
        {
          "output_type": "error",
          "ename": "TypeError",
          "evalue": "ignored",
          "traceback": [
            "\u001b[0;31m---------------------------------------------------------------------------\u001b[0m",
            "\u001b[0;31mTypeError\u001b[0m                                 Traceback (most recent call last)",
            "\u001b[0;32m<ipython-input-10-f3a2a052f96b>\u001b[0m in \u001b[0;36m<module>\u001b[0;34m()\u001b[0m\n\u001b[1;32m     15\u001b[0m   \u001b[0mprint\u001b[0m\u001b[0;34m(\u001b[0m\u001b[0mlist\u001b[0m\u001b[0;34m)\u001b[0m\u001b[0;34m\u001b[0m\u001b[0;34m\u001b[0m\u001b[0m\n\u001b[1;32m     16\u001b[0m \u001b[0;34m\u001b[0m\u001b[0m\n\u001b[0;32m---> 17\u001b[0;31m \u001b[0mmake_list\u001b[0m\u001b[0;34m(\u001b[0m\u001b[0;34m\"abcd\"\u001b[0m\u001b[0;34m)\u001b[0m\u001b[0;34m\u001b[0m\u001b[0;34m\u001b[0m\u001b[0m\n\u001b[0m\u001b[1;32m     18\u001b[0m \u001b[0;34m\u001b[0m\u001b[0m\n\u001b[1;32m     19\u001b[0m \u001b[0;34m\u001b[0m\u001b[0m\n",
            "\u001b[0;32m<ipython-input-10-f3a2a052f96b>\u001b[0m in \u001b[0;36mmake_list\u001b[0;34m(word)\u001b[0m\n\u001b[1;32m      5\u001b[0m   \u001b[0mlist\u001b[0m \u001b[0;34m=\u001b[0m \u001b[0;34m[\u001b[0m\u001b[0;34m]\u001b[0m\u001b[0;34m\u001b[0m\u001b[0;34m\u001b[0m\u001b[0m\n\u001b[1;32m      6\u001b[0m \u001b[0;34m\u001b[0m\u001b[0m\n\u001b[0;32m----> 7\u001b[0;31m   \u001b[0;32mfor\u001b[0m \u001b[0mi\u001b[0m \u001b[0;32min\u001b[0m \u001b[0;34m(\u001b[0m\u001b[0mlen\u001b[0m\u001b[0;34m(\u001b[0m\u001b[0mword\u001b[0m\u001b[0;34m)\u001b[0m\u001b[0;34m)\u001b[0m \u001b[0;34m:\u001b[0m\u001b[0;34m\u001b[0m\u001b[0;34m\u001b[0m\u001b[0m\n\u001b[0m\u001b[1;32m      8\u001b[0m \u001b[0;34m\u001b[0m\u001b[0m\n\u001b[1;32m      9\u001b[0m     \u001b[0mc\u001b[0m \u001b[0;34m=\u001b[0m \u001b[0;36m0\u001b[0m\u001b[0;34m\u001b[0m\u001b[0;34m\u001b[0m\u001b[0m\n",
            "\u001b[0;31mTypeError\u001b[0m: 'int' object is not iterable"
          ]
        }
      ]
    },
    {
      "cell_type": "code",
      "source": [
        "#234\n",
        "\n",
        "def pickup_even(list) :\n",
        "  if i in list :\n",
        "    i%2 == 0 \n",
        "     \n"
      ],
      "metadata": {
        "id": "77uIk-ixfbfL"
      },
      "execution_count": null,
      "outputs": []
    },
    {
      "cell_type": "code",
      "source": [
        "#291\n",
        "\n",
        "#???????????"
      ],
      "metadata": {
        "id": "o4U3oB0IgRAx"
      },
      "execution_count": null,
      "outputs": []
    },
    {
      "cell_type": "code",
      "source": [
        "#292\n",
        "\n",
        "#????????????"
      ],
      "metadata": {
        "id": "NzhOf2HfgTLZ"
      },
      "execution_count": null,
      "outputs": []
    },
    {
      "cell_type": "code",
      "source": [
        "#293\n",
        "\n",
        "#??????????????"
      ],
      "metadata": {
        "id": "6d-WoAeKgVbo"
      },
      "execution_count": null,
      "outputs": []
    },
    {
      "cell_type": "code",
      "source": [
        "#294\n",
        "\n",
        "#?????????????"
      ],
      "metadata": {
        "id": "eQROEdbjgX_o"
      },
      "execution_count": null,
      "outputs": []
    },
    {
      "cell_type": "code",
      "source": [
        "#295\n",
        "\n",
        "#???????????????"
      ],
      "metadata": {
        "id": "njY2t_8NgZsP"
      },
      "execution_count": null,
      "outputs": []
    },
    {
      "cell_type": "code",
      "source": [
        "#296\n",
        "\n",
        "per = [\"10.31\", \"\", \"8.00\"]\n",
        "\n",
        "for i in per:\n",
        "  try : \n",
        "    i = float(i)\n",
        "    print(float(i))\n",
        "\n",
        "  except :\n",
        "    i = float(0)\n",
        "    print(float(i))\n"
      ],
      "metadata": {
        "colab": {
          "base_uri": "https://localhost:8080/"
        },
        "id": "kyZb4ezEgb9f",
        "outputId": "a09b90da-1491-47ea-a732-d731fd41884a"
      },
      "execution_count": null,
      "outputs": [
        {
          "output_type": "stream",
          "name": "stdout",
          "text": [
            "10.31\n",
            "0.0\n",
            "8.0\n"
          ]
        }
      ]
    },
    {
      "cell_type": "code",
      "source": [
        "#297\n",
        "\n",
        "per = [\"10.31\", \"\", \"8.00\"]\n",
        "list1 = []\n",
        "\n",
        "for i in per:\n",
        "  try : \n",
        "    i = float(i)\n",
        "    list1.append(i)\n",
        "\n",
        "  except :\n",
        "    i = float(0)\n",
        "    list1.append(i)\n",
        "\n",
        "print(list1)\n",
        "print(type(list1[1]))"
      ],
      "metadata": {
        "colab": {
          "base_uri": "https://localhost:8080/"
        },
        "id": "GDEpKYErg9SA",
        "outputId": "df9be712-b83c-40da-cdf9-7205f29998db"
      },
      "execution_count": null,
      "outputs": [
        {
          "output_type": "stream",
          "name": "stdout",
          "text": [
            "[10.31, 0.0, 8.0]\n",
            "<class 'float'>\n"
          ]
        }
      ]
    },
    {
      "cell_type": "code",
      "source": [
        "#298\n",
        "\n",
        "try :\n",
        "  7/0\n",
        "except ZeroDivisionError :\n",
        "  print(\"예외처리\")\n"
      ],
      "metadata": {
        "colab": {
          "base_uri": "https://localhost:8080/"
        },
        "id": "7HbyGfc8i8QQ",
        "outputId": "8f75b7a5-39a5-4609-8f3a-ad41d7a2d400"
      },
      "execution_count": null,
      "outputs": [
        {
          "output_type": "stream",
          "name": "stdout",
          "text": [
            "예외처리\n"
          ]
        }
      ]
    },
    {
      "cell_type": "code",
      "source": [
        "#299\n",
        "\n",
        "data = [1, 2, 3]\n",
        "for i in range(5) :\n",
        "  try :\n",
        "    print(data[i])\n",
        "  except IndexError as em :\n",
        "    em = \"인덱스 에러입니다\"\n",
        "    print(em)\n",
        "  \n",
        "\n",
        "\n"
      ],
      "metadata": {
        "colab": {
          "base_uri": "https://localhost:8080/"
        },
        "id": "lWFWMHQnkBKA",
        "outputId": "88a90d44-6410-4781-b73e-ba7ddf7566b7"
      },
      "execution_count": null,
      "outputs": [
        {
          "output_type": "stream",
          "name": "stdout",
          "text": [
            "1\n",
            "2\n",
            "3\n",
            "인덱스 에러입니다\n",
            "인덱스 에러입니다\n"
          ]
        }
      ]
    },
    {
      "cell_type": "code",
      "source": [
        "#300\n",
        "\n",
        "per = [\"10.31\", \"\", \"8.00\"]\n",
        "for i in per:\n",
        "    print(float(per))\n",
        "\n",
        "    try :\n",
        "\n",
        "  except :\n",
        "    print(\"0\")\n",
        "  else :\n",
        "    print(float(per))\n",
        "  finally :\n",
        "    print(\"종료\")\n",
        "\n",
        "# ????????????"
      ],
      "metadata": {
        "id": "D0dvC7K9lEXf",
        "colab": {
          "base_uri": "https://localhost:8080/"
        },
        "outputId": "5b21bf26-59b6-4add-8d21-a23deb26621c"
      },
      "execution_count": 4,
      "outputs": [
        {
          "output_type": "stream",
          "name": "stdout",
          "text": [
            "0\n",
            "종료\n",
            "0\n",
            "종료\n",
            "0\n",
            "종료\n"
          ]
        }
      ]
    },
    {
      "cell_type": "code",
      "source": [
        ""
      ],
      "metadata": {
        "id": "iG9O4vhCmY9x"
      },
      "execution_count": null,
      "outputs": []
    }
  ]
}