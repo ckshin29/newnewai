{
  "cells": [
    {
      "cell_type": "markdown",
      "metadata": {
        "colab_type": "text",
        "id": "view-in-github"
      },
      "source": [
        "<a href=\"https://colab.research.google.com/github/ckshin29/newnewai/blob/main/Day7.ipynb\" target=\"_parent\"><img src=\"https://colab.research.google.com/assets/colab-badge.svg\" alt=\"Open In Colab\"/></a>"
      ]
    },
    {
      "cell_type": "code",
      "execution_count": 3,
      "metadata": {
        "colab": {
          "base_uri": "https://localhost:8080/"
        },
        "id": "6D-EFvMYxDqU",
        "outputId": "5426a6f9-eb51-4a34-fe28-7e9339b0f05f"
      },
      "outputs": [
        {
          "name": "stdout",
          "output_type": "stream",
          "text": [
            "정수를 입력하세요 >> 3\n",
            "입력한 정수 : 3\n"
          ]
        }
      ],
      "source": [
        "# 예외 처리 고급\n",
        "\n",
        "# 프로그램을 개발하다 보면 수많은 오류를 만나게 된다. 또한 처음 프로그램을 개발했을 때\n",
        "# 모든 오류를 예측하고 처리할 수 없다. 개발이 완료 된 후에도 예측하지 못한 오류들이 계속 발생 되기 때문에\n",
        "# 유지 보수가 필요 하다.\n",
        "\n",
        "# try :\n",
        "#   예외 발생 가능성 있는 구문\n",
        "# except : \n",
        "#   예외가 발생했을 때 실행할 구문\n",
        "\n",
        "# try :\n",
        "#   예외 발생 가능성 있는 구문\n",
        "# except 예외의 종류 as e(예외 객체를 활용한 변수 이름) : \n",
        "#   예외가 발생했을 때 실행할 구문\n",
        "\n",
        "# 예외발 발생하면 예외 정보가 생기고 예외 정보는 예외 객체에 저장되어 생성\n",
        "\n",
        "\n",
        "# 예외 객체\n",
        "\n",
        "try :\n",
        "  num = int(input('정수를 입력하세요 >> '))\n",
        "\n",
        "  print('입력한 정수 :',num)\n",
        "\n",
        "except Exception as e : #Exception (모든 에러)\n",
        "  print('type(Exception) :',type(e))\n",
        "  print('Exception :',e)\n",
        "\n",
        "\n",
        "# 만약 큰 규모의 웹 서비스를 구축하게 된다면 다양한 예외가 분명히 발생한다.\n",
        "# 예외가 발생할 때 그 정보를 수집하면 이후 프로그램을 유지/보수 하는데 큰 도움이 된다."
      ]
    },
    {
      "cell_type": "code",
      "execution_count": 10,
      "metadata": {
        "colab": {
          "base_uri": "https://localhost:8080/"
        },
        "id": "x7Zh7NdE4FzG",
        "outputId": "9af8b255-de0f-44cf-b588-6179533c216d"
      },
      "outputs": [
        {
          "name": "stdout",
          "output_type": "stream",
          "text": [
            "정수 입력 >> 12\n",
            "type(Exception) : <class 'IndexError'>\n",
            "Exception : list index out of range\n"
          ]
        }
      ],
      "source": [
        "# 예외 구분하기\n",
        "\n",
        "list = [52,273,32,72,100]\n",
        "\n",
        "try :\n",
        "  num = int(input('정수 입력 >> '))\n",
        "  print(f'{num}번째 요소 : {list[num]}')\n",
        "\n",
        "except Exception as e :\n",
        "    print('type(Exception) :',type(e))\n",
        "    print('Exception :',e)\n",
        "\n",
        "# 코드의 내부에서는 이처럼 여러가지의 예외가 발생할 수 있다.\n",
        "# ex) ValueError , IndesError\n",
        "# 파이썬은 예외들을 구분하여 처리할 수 있다.\n",
        "\n",
        "\n"
      ]
    },
    {
      "cell_type": "code",
      "execution_count": 15,
      "metadata": {
        "colab": {
          "base_uri": "https://localhost:8080/"
        },
        "id": "7AlnhkRD5dOO",
        "outputId": "2006d340-3d82-4223-9526-45ee31e16a0b"
      },
      "outputs": [
        {
          "name": "stdout",
          "output_type": "stream",
          "text": [
            "정수 입력 >> 5\n",
            "리스트 크기보다 큰 수는 입력하실 수 없습니다. 최대 : 4\n"
          ]
        }
      ],
      "source": [
        "list = [52,273,32,72,100]\n",
        "\n",
        "try :\n",
        "  num = int(input('정수 입력 >> '))\n",
        "  print(f'{num}번째 요소 : {list[num]}')\n",
        "\n",
        "# except Exception as e :\n",
        "#     print('type(Exception) :',type(e))\n",
        "#     print('Exception :',e)\n",
        "\n",
        "except ValueError :\n",
        "  print(\"정수를 입력하셔야만 합니다!\")\n",
        "\n",
        "except IndexError :\n",
        "  print(f\"리스트 크기보다 큰 수는 입력하실 수 없습니다. 최대 : {len(list)-1}\")"
      ]
    },
    {
      "cell_type": "code",
      "execution_count": 21,
      "metadata": {
        "colab": {
          "base_uri": "https://localhost:8080/"
        },
        "id": "PaAOTCab6Lgm",
        "outputId": "ab3056e0-53db-453d-b7a8-bff605897adf"
      },
      "outputs": [
        {
          "name": "stdout",
          "output_type": "stream",
          "text": [
            "정수 입력 >> 4\n",
            "4번째 요소 : 100\n",
            "미리 파악하지 못한 예외가 발생했습니다.\n",
            "<class 'NameError'> name '예외' is not defined\n"
          ]
        }
      ],
      "source": [
        "list = [52,273,32,72,100]\n",
        "\n",
        "try :\n",
        "  num = int(input('정수 입력 >> '))\n",
        "  print(f'{num}번째 요소 : {list[num]}')\n",
        "  예외.발생()\n",
        "\n",
        "# except Exception as e :\n",
        "#     print('type(Exception) :',type(e))\n",
        "#     print('Exception :',e)\n",
        "\n",
        "except ValueError as e :\n",
        "  print(\"정수를 입력하셔야만 합니다!\")\n",
        "  print('Exception :', e)\n",
        "\n",
        "except IndexError as e :\n",
        "  print(f\"리스트 크기보다 큰 수는 입력하실 수 없습니다. [최대 : {len(list)-1}]\")\n",
        "  print('Exception :', e)\n",
        "\n",
        "except Exception as e :\n",
        "  # 나머지 모든 예기치 못한 예외를 여기서 처리하자!\n",
        "  print('미리 파악하지 못한 예외가 발생했습니다.')\n",
        "  print(type(e), e)\n",
        "\n",
        "# 너무 치명적인 문제인데도 프로그램이 강제 종료되지 않게 만들면 그것으로\n",
        "# 또 다른 더욱 커다란 문제가 될 수도 있으므로 상황에 맞게 대처할 수 있어야 한다.\n",
        "\n",
        "# 큰 규모의 프로그램을 개발할 때는 '예외 처리로 떡칠한다'라고 표현할 정도로 예외 처리를 \n",
        "# 많이 사용하게 된다.\n",
        "\n",
        "# 예외처리에서 가장 중요한 것은 '이 코드에서 어떤 에러가 발생할 것인가?'를 미리 잘 예측하는 것이다.\n"
      ]
    },
    {
      "cell_type": "code",
      "execution_count": 23,
      "metadata": {
        "colab": {
          "base_uri": "https://localhost:8080/",
          "height": 269
        },
        "id": "3HuE8yI_8aT9",
        "outputId": "02b69d63-80ed-425c-b557-cbfca3ca196d"
      },
      "outputs": [
        {
          "name": "stdout",
          "output_type": "stream",
          "text": [
            "정수 입력 >> 4\n"
          ]
        },
        {
          "ename": "NotImplementedError",
          "evalue": "ignored",
          "output_type": "error",
          "traceback": [
            "\u001b[0;31m---------------------------------------------------------------------------\u001b[0m",
            "\u001b[0;31mNotImplementedError\u001b[0m                       Traceback (most recent call last)",
            "\u001b[0;32m<ipython-input-23-1e18b8aab4f5>\u001b[0m in \u001b[0;36m<module>\u001b[0;34m()\u001b[0m\n\u001b[1;32m      4\u001b[0m \u001b[0;34m\u001b[0m\u001b[0m\n\u001b[1;32m      5\u001b[0m \u001b[0;32mif\u001b[0m \u001b[0mnum\u001b[0m \u001b[0;34m>\u001b[0m \u001b[0;36m0\u001b[0m \u001b[0;34m:\u001b[0m\u001b[0;34m\u001b[0m\u001b[0;34m\u001b[0m\u001b[0m\n\u001b[0;32m----> 6\u001b[0;31m   \u001b[0;32mraise\u001b[0m \u001b[0mNotImplementedError\u001b[0m\u001b[0;34m\u001b[0m\u001b[0;34m\u001b[0m\u001b[0m\n\u001b[0m\u001b[1;32m      7\u001b[0m \u001b[0;32melse\u001b[0m \u001b[0;34m:\u001b[0m\u001b[0;34m\u001b[0m\u001b[0;34m\u001b[0m\u001b[0m\n\u001b[1;32m      8\u001b[0m   \u001b[0;32mraise\u001b[0m \u001b[0mNotImplementedError\u001b[0m\u001b[0;34m\u001b[0m\u001b[0;34m\u001b[0m\u001b[0m\n",
            "\u001b[0;31mNotImplementedError\u001b[0m: "
          ]
        }
      ],
      "source": [
        "# 예외를 강제로 발생시키기. raise\n",
        "\n",
        "num = int(input('정수 입력 >> '))\n",
        "\n",
        "if num > 0 :\n",
        "  raise NotImplementedError\n",
        "else :\n",
        "  raise NotImplementedError"
      ]
    },
    {
      "cell_type": "code",
      "execution_count": null,
      "metadata": {
        "id": "J8DpOPCU9E11"
      },
      "outputs": [],
      "source": [
        "# 모듈\n",
        "# 여러 변수와 함수를 가지고 있는 집합체\n",
        "# 파이썬에 기본적으로 내장되어 있는 모듈을 '표준 모듈'이라고 부르고 \n",
        "# 다른 사람이 만들어서 공개한 모듈을 '외부 모듈'이라고 부른다."
      ]
    },
    {
      "cell_type": "code",
      "execution_count": 26,
      "metadata": {
        "colab": {
          "base_uri": "https://localhost:8080/"
        },
        "id": "pkUe0_0-9vHL",
        "outputId": "a79560d3-0985-4126-c869-4ea9bb2e0b99"
      },
      "outputs": [
        {
          "name": "stdout",
          "output_type": "stream",
          "text": [
            "0.8414709848078965\n",
            "0.5403023058681398\n",
            "1.5574077246549023\n"
          ]
        }
      ],
      "source": [
        "# math 모듈 - 수학과 관련된 기능들을 가진 모듈\n",
        "\n",
        "import math\n",
        "\n",
        "print(math.sin(1))\n",
        "print(math.cos(1))\n",
        "print(math.tan(1))\n",
        "\n",
        "# ceil() 올림\n",
        "# floor() 내림\n",
        "# round() 반올림"
      ]
    },
    {
      "cell_type": "code",
      "execution_count": null,
      "metadata": {
        "id": "nsaSNW0I_Luc"
      },
      "outputs": [],
      "source": [
        "# from math import sin, cos, tan # 특정 매서드 틀 불러오는것\n",
        "from math import * # 몽땅 가져오는것 그냥 import math 하면 쓸때마다 앞에 math. 붙혀줘야 해서 불편함\n",
        "\n",
        "print(sin(1))\n",
        "print(cos(1))\n",
        "print(tan(1))\n"
      ]
    },
    {
      "cell_type": "code",
      "execution_count": 28,
      "metadata": {
        "colab": {
          "base_uri": "https://localhost:8080/"
        },
        "id": "qxr_55EbABMt",
        "outputId": "831b5ac3-00bc-4311-8064-3d00043e70a9"
      },
      "outputs": [
        {
          "name": "stdout",
          "output_type": "stream",
          "text": [
            "0.8414709848078965\n",
            "0.5403023058681398\n",
            "1.5574077246549023\n"
          ]
        }
      ],
      "source": [
        "import math as m # math 이름을 m 으로 줄이는 것 \n",
        "\n",
        "print(m.sin(1))\n",
        "print(m.cos(1))\n",
        "print(m.tan(1))"
      ]
    },
    {
      "cell_type": "code",
      "execution_count": 2,
      "metadata": {
        "colab": {
          "base_uri": "https://localhost:8080/",
          "height": 952
        },
        "id": "vzzWABvhAchC",
        "outputId": "16b40dfe-15df-4aec-a3d1-8bb1c0e94b97"
      },
      "outputs": [],
      "source": [
        "# pip install 모듈명\n",
        "# import selenium 외부 모듈이라 안됨\n",
        "#!pip install selenium # colab 에선 앞에 ! 를 붙힌다.\n",
        "\n"
      ]
    },
    {
      "cell_type": "code",
      "execution_count": 5,
      "metadata": {
        "id": "Z3HFMTIjA_VT"
      },
      "outputs": [],
      "source": [
        "import selenium #위에서 셀레늄을 설치했기 때문에 됨"
      ]
    },
    {
      "cell_type": "code",
      "execution_count": 23,
      "metadata": {},
      "outputs": [
        {
          "name": "stdout",
          "output_type": "stream",
          "text": [
            "# random 모듈\n",
            " - random() :  0.8940897734845833\n",
            " - uniform(10,20) :  13.759702556240487\n",
            " - randrange(10,20) :  16\n",
            " - randrange(10) :  3\n",
            " - choice([1,2,3,4,5] 4\n",
            " - shuffle([1,2,3,4,5] None\n"
          ]
        }
      ],
      "source": [
        "# random 모듈 - 랜덤한 숫자를 생성해주는 모듈\n",
        "import random\n",
        "\n",
        "print('# random 모듈')\n",
        "\n",
        "# 기본적으로 0.0에서 1.0 사이의 float 난수를 발생시킨다.\n",
        "\n",
        "print(' - random() : ', random.random())\n",
        "\n",
        "# uniform(min,max) : 지정한 범위 사이의 float를 발생시킨다.\n",
        "\n",
        "print(' - uniform(10,20) : ', random.uniform(10,20))\n",
        "\n",
        "# randrange() : 지정한 범위의 int를 발생시킨다.\n",
        "\n",
        "print(' - randrange(10,20) : ', random.randrange(10,20))\n",
        "print(' - randrange(10) : ', random.randrange(10)) #생략하면 0부터\n",
        "\n",
        "# choice(list) : 리스트 내부에 있는 요소를 랜덤하게 선택한다.\n",
        "print(' - choice([1,2,3,4,5]', random.choice([1,2,3,4,5]))\n",
        "\n",
        "# shuffle(list) : 리스트의 요소들을 랜덤하게 섞어준다.\n",
        "print(' - shuffle([1,2,3,4,5]', random.shuffle([1,2,3,4,5]))"
      ]
    },
    {
      "cell_type": "code",
      "execution_count": null,
      "metadata": {},
      "outputs": [],
      "source": [
        "random.randint"
      ]
    }
  ],
  "metadata": {
    "colab": {
      "authorship_tag": "ABX9TyPJyatIH5+K5MUk1tAtGpfv",
      "include_colab_link": true,
      "name": "Day7.ipynb",
      "provenance": []
    },
    "kernelspec": {
      "display_name": "Python 3",
      "name": "python3"
    },
    "language_info": {
      "codemirror_mode": {
        "name": "ipython",
        "version": 3
      },
      "file_extension": ".py",
      "mimetype": "text/x-python",
      "name": "python",
      "nbconvert_exporter": "python",
      "pygments_lexer": "ipython3",
      "version": "3.9.7"
    }
  },
  "nbformat": 4,
  "nbformat_minor": 0
}
