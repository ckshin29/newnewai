{
  "nbformat": 4,
  "nbformat_minor": 0,
  "metadata": {
    "colab": {
      "name": "Day8.ipynb",
      "provenance": [],
      "authorship_tag": "ABX9TyPngOE64iHWWDxzng5DKbGK",
      "include_colab_link": true
    },
    "kernelspec": {
      "name": "python3",
      "display_name": "Python 3"
    },
    "language_info": {
      "name": "python"
    }
  },
  "cells": [
    {
      "cell_type": "markdown",
      "metadata": {
        "id": "view-in-github",
        "colab_type": "text"
      },
      "source": [
        "<a href=\"https://colab.research.google.com/github/ckshin29/newnewai/blob/main/Day8.ipynb\" target=\"_parent\"><img src=\"https://colab.research.google.com/assets/colab-badge.svg\" alt=\"Open In Colab\"/></a>"
      ]
    },
    {
      "cell_type": "code",
      "execution_count": null,
      "metadata": {
        "colab": {
          "base_uri": "https://localhost:8080/"
        },
        "id": "_CX9uIno7ehG",
        "outputId": "c7cab2d3-0164-4d76-f6dc-1227617713b1"
      },
      "outputs": [
        {
          "output_type": "stream",
          "name": "stdout",
          "text": [
            "이름\t총점\t평균\n",
            "슈가\t368\t92.0\n",
            "진\t372\t93.0\n",
            "카리나\t386\t96.5\n"
          ]
        }
      ],
      "source": [
        "# 클래스와 객체\n",
        "\n",
        "# C언어를 제외한 대부분의 언어는 객체 지향 프로그래밍 Object Oriented Programming : OOP 언어이다.\n",
        "# 객체 지향 언어는 클래스를 기반으로 객체를 만들고 그 객체들을 우선으로 생각해서 프로그래밍 하는것을 철학으로 한다.\n",
        "\n",
        "# 객체 \n",
        "\n",
        "students = [\n",
        "            {'name':'슈가', 'korean':87, 'math':98, 'eng':88, 'sci':95},\n",
        "            {'name':'진', 'korean':90, 'math':99, 'eng':86, 'sci':97},\n",
        "            {'name':'카리나', 'korean':99, 'math':89, 'eng':99, 'sci':99}\n",
        "]\n",
        "\n",
        "print('이름','총점','평균', sep='\\t')\n",
        "\n",
        "for student in students :\n",
        "  # 학생들의 점수의 총합과 평균을 구하다\n",
        "  score_sum = student['korean'] + student['math'] + student['eng'] + student['sci']\n",
        "  score_avg = score_sum / 4\n",
        "\n",
        "  print(student['name'], score_sum, score_avg, sep='\\t')\n",
        "\n",
        "# 딕셔너리로 학생 한명 한명을 표현하고 이를 리스트로 묶어서 학생 전체를 표현했다.\n",
        "# 이처럼 여러가지 속성을 가질수 있는 대상을 '객체'object 라고 부른다.\n",
        "# 그런데 딕셔너리로 객체를 하나하나 만들면 복잡하고 귀찮다.키를 모르면 사용하기도 어렵다.\n",
        "\n",
        "# 함수 형태로 만들어보자"
      ]
    },
    {
      "cell_type": "code",
      "source": [
        "def create_student(name, korean, math, eng, sci) :\n",
        "  return {\n",
        "          'name':name,\n",
        "          'korean':korean,\n",
        "          'math':math,\n",
        "          'eng':eng,\n",
        "          'sci':sci\n",
        "  }\n",
        "\n",
        "  students = [\n",
        "            create_student('슈가', 87, 98, 88, 95),\n",
        "            create_student('진', 90, 99, 86, 97),\n",
        "            create_student('카리나', 99, 89, 99, 99)\n",
        "]\n",
        "\n",
        "# 한명씩 반복\n",
        "print('이름','총점','평균', sep='\\t')\n",
        "\n",
        "for student in students :\n",
        "\n",
        "  score_sum = student['korean'] + student['math'] + student['eng'] + student['sci']\n",
        "  score_avg = score_sum / 4\n",
        "\n",
        "  print(student['name'], score_sum, score_avg, sep='\\t')\n"
      ],
      "metadata": {
        "colab": {
          "base_uri": "https://localhost:8080/"
        },
        "id": "lqdsmcB_Fkzg",
        "outputId": "3872dd16-b525-4054-c90d-903b3e303187"
      },
      "execution_count": null,
      "outputs": [
        {
          "output_type": "stream",
          "name": "stdout",
          "text": [
            "이름\t총점\t평균\n",
            "슈가\t368\t92.0\n",
            "진\t372\t93.0\n",
            "카리나\t386\t96.5\n"
          ]
        }
      ]
    },
    {
      "cell_type": "code",
      "source": [
        "# 실행 결과는 이전과 동일하다. 그럼 조금 더 변행해보자.\n",
        "# 현재 총점과 펴윤을 구하는 처리는 학생을 대상으로만 이루어진다. 따라서 학생을 매개변수로 받는 형태의 함수로\n",
        "# 만들면 코드가 좀 더 균형잡히게 된다.\n",
        "\n",
        "def create_student(name, korean, math, eng, sci) :\n",
        "  return {\n",
        "          'name':name,\n",
        "          'korean':korean,\n",
        "          'math':math,\n",
        "          'eng':eng,\n",
        "          'sci':sci\n",
        "  }\n",
        "\n",
        "# 학생들의 점수를 처리하는 부분들도 함수로 만들자\n",
        "\n",
        "def student_get_sum(student) :\n",
        "  return student['korean'] + student['math'] + student['eng'] + student['sci']\n",
        "\n",
        "def student_get_avg(student) :\n",
        "  return student_get_sum(student) / 4\n",
        "\n",
        "def student_to_string(student) :\n",
        "  return '{}\\t{}\\t{}'.format(student['name'], student_get_sum(student), student_get_avg(student))\n",
        "\n",
        "# 학생 리스트 선언\n",
        "\n",
        "  students = [\n",
        "            create_student('슈가', 87, 98, 88, 95),\n",
        "            create_student('진', 90, 99, 86, 97),\n",
        "            create_student('카리나', 99, 89, 99, 99)\n",
        "]\n",
        "\n",
        "print('이름','총점','평균', sep='\\t')\n",
        "\n",
        "for student in students :\n",
        "  print(student_to_string(student))\n",
        "\n",
        "# 실행 결과가 이전과 같지만 코드가 분리되고 있다. 학생이라는 객체와 관련된 기능이 위로 올라갔고\n",
        "# 이 객체들을 사용하는 처리들은 아래로 내려갔다. 이렇게 하면 '학생 객체와 관련된 기능'을 별도의 \n",
        "# 모듈로 빼서 관리 할수도 있다.\n",
        "\n",
        "# 객체와 관련된 코드를 분리할 수 있게 하는 것이 객체 지향 프로그래밍의 핵심이다.\n",
        "# 클래스라는 구조를 사용하면 위와 같은 형태의 코드를 좀 더 쉽고 편하게 구현할 수 있다.\n"
      ],
      "metadata": {
        "colab": {
          "base_uri": "https://localhost:8080/"
        },
        "id": "LvPcuTkOHRmY",
        "outputId": "4cebfd81-0f3b-4f27-ddb8-564c5bcbaa3b"
      },
      "execution_count": null,
      "outputs": [
        {
          "output_type": "stream",
          "name": "stdout",
          "text": [
            "이름\t총점\t평균\n",
            "슈가\t368\t92.0\n",
            "진\t372\t93.0\n",
            "카리나\t386\t96.5\n"
          ]
        }
      ]
    },
    {
      "cell_type": "code",
      "source": [
        "# 클래스 선언\n",
        "class Student :\n",
        "  # 생성자 constructor\n",
        "  def __init__(self, name , korean, math, eng, sci) :\n",
        "    self.name = name\n",
        "    self.korean = korean\n",
        "    self.math = math\n",
        "    self.eng = eng\n",
        "    self.sci = sci\n",
        "\n",
        "# 학생 리스트\n",
        "students = [\n",
        "            Student('슈가', 87, 98, 88, 95),\n",
        "            Student('진', 90, 99, 86, 97),\n",
        "            Student('카리나', 99, 89, 99, 99)\n",
        "]\n",
        "\n",
        "students[0].name\n",
        "students[1].name\n",
        "students[1].math"
      ],
      "metadata": {
        "colab": {
          "base_uri": "https://localhost:8080/"
        },
        "id": "lVNiAndeKcMv",
        "outputId": "32d546d7-0a47-4142-8e47-5b495be8d4f9"
      },
      "execution_count": null,
      "outputs": [
        {
          "output_type": "execute_result",
          "data": {
            "text/plain": [
              "99"
            ]
          },
          "metadata": {},
          "execution_count": 4
        }
      ]
    },
    {
      "cell_type": "code",
      "source": [
        "# methoh 매서드\n",
        "# 클래스를 가지고 있는 함수를 매서드라고 부른다. 매서드는 첫번째 매개변수로 self를 넣어야 한다.\n",
        "# \n",
        "\n",
        "class Student :\n",
        "\n",
        "  def __init__(self, name , korean, math, eng, sci) :\n",
        "    self.name = name\n",
        "    self.korean = korean\n",
        "    self.math = math\n",
        "    self.eng = eng\n",
        "    self.sci = sci\n",
        "  def get_sum(self) :\n",
        "    return self.korean + self.math + self.eng + self.sci\n",
        "  \n",
        "  def get_avg(self) :\n",
        "    return self.get_sum() / 4\n",
        "  \n",
        "  def to_string(self) :\n",
        "    return '{}\\t{}\\t{}'.format(self.name, self.get_sum(), self.get_avg())\n",
        "\n",
        "students = [\n",
        "            Student('슈가', 87, 98, 88, 95),\n",
        "            Student('진', 90, 99, 86, 97),\n",
        "            Student('카리나', 99, 89, 99, 99)\n",
        "]\n",
        "\n",
        "for student in students :\n",
        "  print(student.to_string())\n",
        "\n",
        "# 어떤 객체가 가지고 있는 어떤 함수(기능)를 명확하게 이해할 수 있으므로 매우 편리하다."
      ],
      "metadata": {
        "colab": {
          "base_uri": "https://localhost:8080/"
        },
        "id": "8xo_vkE0OUMV",
        "outputId": "b6d7ff70-a2fe-42cb-ed4f-96e0fb2bf53c"
      },
      "execution_count": null,
      "outputs": [
        {
          "output_type": "stream",
          "name": "stdout",
          "text": [
            "슈가\t368\t92.0\n",
            "진\t372\t93.0\n",
            "카리나\t386\t96.5\n"
          ]
        }
      ]
    },
    {
      "cell_type": "code",
      "source": [
        "result1 = 0\n",
        "result2 = 0\n",
        "\n",
        "# add 함수는 입력받은 값을 이전에 계산한 값에 더한 후 돌려주는 함수\n",
        "def add1(num) :\n",
        "  global result1\n",
        "  result1 += num\n",
        "  return result1\n",
        "\n",
        "def add2(num) :\n",
        "  global result2\n",
        "  result2 += num\n",
        "  return result2\n",
        "\n",
        "\n",
        "print(add1(3))\n",
        "print(add1(5))\n",
        "\n",
        "print(add2(2))\n",
        "print(add2(4))"
      ],
      "metadata": {
        "colab": {
          "base_uri": "https://localhost:8080/"
        },
        "id": "uNTVgpEfSTlr",
        "outputId": "d21e5d3d-eb38-434b-eddf-b691ccbb4bbb"
      },
      "execution_count": null,
      "outputs": [
        {
          "output_type": "stream",
          "name": "stdout",
          "text": [
            "3\n",
            "8\n",
            "2\n",
            "6\n"
          ]
        }
      ]
    },
    {
      "cell_type": "code",
      "source": [
        "class Cal :\n",
        "  # __init__ 생성자  *꼭 있어야 하는것은 아니다\n",
        "  def __init__(self) :\n",
        "    self.result = 0\n",
        "  \n",
        "  def add(self,num) :\n",
        "    self.result += num\n",
        "    return self.result\n",
        "  \n",
        "  def sub(self,num) :\n",
        "    self.result -= num\n",
        "    return self.result\n",
        "\n",
        "cal1 = Cal()\n",
        "cal2 = Cal()\n",
        "\n",
        "print(cal1.add(3))\n",
        "print(cal1.add(4))\n",
        "\n",
        "print(cal2.add(5))\n",
        "print(cal2.add(6))\n",
        "print(cal2.sub(3))"
      ],
      "metadata": {
        "colab": {
          "base_uri": "https://localhost:8080/"
        },
        "id": "uJtHCZ72T6ej",
        "outputId": "677c8ac4-65a8-46c3-cd24-b45e49594a92"
      },
      "execution_count": null,
      "outputs": [
        {
          "output_type": "stream",
          "name": "stdout",
          "text": [
            "3\n",
            "7\n",
            "5\n",
            "11\n",
            "8\n"
          ]
        }
      ]
    },
    {
      "cell_type": "code",
      "source": [
        "class FourCal :\n",
        "  def setdata(self, first, second) : #self 는 그 호출할 객체의 이름이다\n",
        "    self.first = first\n",
        "    self.second = second\n",
        "\n",
        "  def add(self) :\n",
        "    result = self.first + self.second\n",
        "    return result\n",
        "    \n",
        "  def sub(self) :\n",
        "    result = self.first - self.second\n",
        "    return result\n",
        "\n",
        "  def mul(self) :\n",
        "    result = self.first * self.second\n",
        "    return result\n",
        "\n",
        "  def div(self) :\n",
        "    result = self.first / self.second\n",
        "    return result\n",
        "\n",
        "\n",
        "a = FourCal()\n",
        "a.setdata(4,2)\n",
        "\n",
        "print(a.add())\n",
        "print(a.sub())\n",
        "print(a.mul())\n",
        "print(a.div())\n"
      ],
      "metadata": {
        "colab": {
          "base_uri": "https://localhost:8080/"
        },
        "id": "RgwDCk5cWHlZ",
        "outputId": "b9d3c2f5-6c0b-4941-bf0c-0ba4580e1d23"
      },
      "execution_count": null,
      "outputs": [
        {
          "output_type": "stream",
          "name": "stdout",
          "text": [
            "6\n",
            "2\n",
            "8\n",
            "2.0\n"
          ]
        }
      ]
    },
    {
      "cell_type": "code",
      "source": [
        ""
      ],
      "metadata": {
        "id": "HAM5M163dBhB"
      },
      "execution_count": null,
      "outputs": []
    },
    {
      "cell_type": "code",
      "source": [
        "# 생성자 Consturctor 객체가 생성될 때 자동으로 호출되는 매서드를 의미 한다.\n",
        "\n",
        "class FourCal :\n",
        "  def __init__(self, first, second) :\n",
        "    self.first = first\n",
        "    self.second = second\n",
        "\n",
        "  def add(self) :\n",
        "    result = self.first + self.second\n",
        "    return result\n",
        "    \n",
        "  def sub(self) :\n",
        "    result = self.first - self.second\n",
        "    return result\n",
        "\n",
        "  def mul(self) :\n",
        "    result = self.first * self.second\n",
        "    return result\n",
        "\n",
        "  def div(self) :\n",
        "    result = self.first / self.second\n",
        "    return result\n",
        "\n",
        "\n",
        "a = FourCal(4,2) # 여기서 변수를 던져도 됨\n",
        "\n",
        "print(a.add())\n",
        "print(a.sub())\n",
        "print(a.mul())\n",
        "print(a.div())\n",
        "\n"
      ],
      "metadata": {
        "colab": {
          "base_uri": "https://localhost:8080/"
        },
        "id": "6yCrSx0OdBh9",
        "outputId": "8d9e4dd5-e1a5-415c-87b0-26cc04b346c0"
      },
      "execution_count": null,
      "outputs": [
        {
          "output_type": "stream",
          "name": "stdout",
          "text": [
            "6\n",
            "2\n",
            "8\n",
            "2.0\n"
          ]
        }
      ]
    },
    {
      "cell_type": "code",
      "source": [
        "# 상속 inheritance 어떤 클래스를 만들때 다른 클래스의 기능을 물려받아 사용한다.\n",
        "\n",
        "class MoreFourCal(FourCal) : # FourCal 을 상속\n",
        "  def pow(self) :\n",
        "    result = self.first ** self.second\n",
        "    return result \n",
        "\n",
        "a = MoreFourCal(4,2)\n",
        "a.pow()"
      ],
      "metadata": {
        "colab": {
          "base_uri": "https://localhost:8080/"
        },
        "id": "A_BR67SXe-GI",
        "outputId": "d83b3cf2-ef54-4c0f-d109-d2203f46ee79"
      },
      "execution_count": null,
      "outputs": [
        {
          "output_type": "execute_result",
          "data": {
            "text/plain": [
              "16"
            ]
          },
          "metadata": {},
          "execution_count": 24
        }
      ]
    },
    {
      "cell_type": "code",
      "source": [
        "# 매서드 오버라이딩 method overriding\n",
        "\n",
        "a = FourCal(4,0) # 0 으로 나눠서 에러\n",
        "a.div()"
      ],
      "metadata": {
        "colab": {
          "base_uri": "https://localhost:8080/",
          "height": 344
        },
        "id": "2gIrS4V9gmbO",
        "outputId": "0e921a32-a1db-4275-83d1-e076fb34281b"
      },
      "execution_count": null,
      "outputs": [
        {
          "output_type": "error",
          "ename": "ZeroDivisionError",
          "evalue": "ignored",
          "traceback": [
            "\u001b[0;31m---------------------------------------------------------------------------\u001b[0m",
            "\u001b[0;31mZeroDivisionError\u001b[0m                         Traceback (most recent call last)",
            "\u001b[0;32m<ipython-input-25-bd67d1e22c1a>\u001b[0m in \u001b[0;36m<module>\u001b[0;34m()\u001b[0m\n\u001b[1;32m      2\u001b[0m \u001b[0;34m\u001b[0m\u001b[0m\n\u001b[1;32m      3\u001b[0m \u001b[0ma\u001b[0m \u001b[0;34m=\u001b[0m \u001b[0mFourCal\u001b[0m\u001b[0;34m(\u001b[0m\u001b[0;36m4\u001b[0m\u001b[0;34m,\u001b[0m\u001b[0;36m0\u001b[0m\u001b[0;34m)\u001b[0m\u001b[0;34m\u001b[0m\u001b[0;34m\u001b[0m\u001b[0m\n\u001b[0;32m----> 4\u001b[0;31m \u001b[0ma\u001b[0m\u001b[0;34m.\u001b[0m\u001b[0mdiv\u001b[0m\u001b[0;34m(\u001b[0m\u001b[0;34m)\u001b[0m\u001b[0;34m\u001b[0m\u001b[0;34m\u001b[0m\u001b[0m\n\u001b[0m",
            "\u001b[0;32m<ipython-input-20-fa08e41de2c4>\u001b[0m in \u001b[0;36mdiv\u001b[0;34m(self)\u001b[0m\n\u001b[1;32m     19\u001b[0m \u001b[0;34m\u001b[0m\u001b[0m\n\u001b[1;32m     20\u001b[0m   \u001b[0;32mdef\u001b[0m \u001b[0mdiv\u001b[0m\u001b[0;34m(\u001b[0m\u001b[0mself\u001b[0m\u001b[0;34m)\u001b[0m \u001b[0;34m:\u001b[0m\u001b[0;34m\u001b[0m\u001b[0;34m\u001b[0m\u001b[0m\n\u001b[0;32m---> 21\u001b[0;31m     \u001b[0mresult\u001b[0m \u001b[0;34m=\u001b[0m \u001b[0mself\u001b[0m\u001b[0;34m.\u001b[0m\u001b[0mfirst\u001b[0m \u001b[0;34m/\u001b[0m \u001b[0mself\u001b[0m\u001b[0;34m.\u001b[0m\u001b[0msecond\u001b[0m\u001b[0;34m\u001b[0m\u001b[0;34m\u001b[0m\u001b[0m\n\u001b[0m\u001b[1;32m     22\u001b[0m     \u001b[0;32mreturn\u001b[0m \u001b[0mresult\u001b[0m\u001b[0;34m\u001b[0m\u001b[0;34m\u001b[0m\u001b[0m\n\u001b[1;32m     23\u001b[0m \u001b[0;34m\u001b[0m\u001b[0m\n",
            "\u001b[0;31mZeroDivisionError\u001b[0m: division by zero"
          ]
        }
      ]
    },
    {
      "cell_type": "code",
      "source": [
        "class SafeFourCal(FourCal) :\n",
        "  def div(self) : \n",
        "    if self.second == 0:\n",
        "      return 0\n",
        "    else : \n",
        "      return self.first / self.second\n",
        "\n",
        "a = SafeFourCal(4,0)\n",
        "a.div()"
      ],
      "metadata": {
        "colab": {
          "base_uri": "https://localhost:8080/"
        },
        "id": "Rhe_mdPmhHlt",
        "outputId": "5b2e22c6-2d8d-4e4c-c144-379529f6d7b9"
      },
      "execution_count": null,
      "outputs": [
        {
          "output_type": "execute_result",
          "data": {
            "text/plain": [
              "0"
            ]
          },
          "metadata": {},
          "execution_count": 28
        }
      ]
    },
    {
      "cell_type": "code",
      "source": [
        "# 클래스 변수\n",
        "\n",
        "# 객체변수는 다른 객체들에 영향받지 않고 독립적으로 그 값을 유지한다는 점을 이미 알아보았다. \n",
        "# 이번에는 객체변수와는 성격이 다른 클래스 변수에 대해 알아보자.\n",
        "\n",
        "\n",
        "class Family :\n",
        "  lastname = '김' # 클래스 변수 선언\n",
        "\n",
        "Family.lastname\n",
        "\n",
        "a = Family()\n",
        "b = Family()\n",
        "\n",
        "print(a.lastname)\n",
        "print(b.lastname)\n",
        "\n",
        "Family.lastname = '박'\n",
        "\n",
        "print(a.lastname)\n",
        "print(b.lastname)\n"
      ],
      "metadata": {
        "colab": {
          "base_uri": "https://localhost:8080/"
        },
        "id": "Nx1tlcCuidg9",
        "outputId": "58bb2286-7a21-4e4c-fd03-288e6434b218"
      },
      "execution_count": null,
      "outputs": [
        {
          "output_type": "stream",
          "name": "stdout",
          "text": [
            "김\n",
            "김\n",
            "박\n",
            "박\n"
          ]
        }
      ]
    },
    {
      "cell_type": "code",
      "source": [
        "class Calculator :\n",
        "  def __init__(self) :\n",
        "    self.val = 0\n",
        "  \n",
        "  def add(self, val) :\n",
        "    self.val += val"
      ],
      "metadata": {
        "id": "kvB0OWJ6kGmY"
      },
      "execution_count": null,
      "outputs": []
    },
    {
      "cell_type": "code",
      "source": [
        "class UpgradeCalculator(Calculator) : \n",
        "  def minus(self, val) :\n",
        "    self.val -= val\n",
        "\n",
        "cal = UpgradeCalculator()\n",
        "\n",
        "cal.add(10)\n",
        "cal.minus(7)\n",
        "\n",
        "print(cal.val)"
      ],
      "metadata": {
        "colab": {
          "base_uri": "https://localhost:8080/"
        },
        "id": "fo_AQt7IkGnM",
        "outputId": "53849dbc-19d6-4174-cee7-f4ab8d1664dc"
      },
      "execution_count": null,
      "outputs": [
        {
          "output_type": "stream",
          "name": "stdout",
          "text": [
            "3\n"
          ]
        }
      ]
    }
  ]
}