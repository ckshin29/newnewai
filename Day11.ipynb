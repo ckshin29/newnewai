{
  "nbformat": 4,
  "nbformat_minor": 0,
  "metadata": {
    "colab": {
      "name": "Day11.ipynb",
      "provenance": [],
      "authorship_tag": "ABX9TyNN6KtrU0hdYL65N9cuMtpJ",
      "include_colab_link": true
    },
    "kernelspec": {
      "name": "python3",
      "display_name": "Python 3"
    },
    "language_info": {
      "name": "python"
    }
  },
  "cells": [
    {
      "cell_type": "markdown",
      "metadata": {
        "id": "view-in-github",
        "colab_type": "text"
      },
      "source": [
        "<a href=\"https://colab.research.google.com/github/ckshin29/newnewai/blob/main/Day11.ipynb\" target=\"_parent\"><img src=\"https://colab.research.google.com/assets/colab-badge.svg\" alt=\"Open In Colab\"/></a>"
      ]
    },
    {
      "cell_type": "code",
      "execution_count": 7,
      "metadata": {
        "colab": {
          "base_uri": "https://localhost:8080/"
        },
        "id": "or2IMWk3ja_d",
        "outputId": "4c1eb66f-94da-43ea-d549-4f2ec1dcf480"
      },
      "outputs": [
        {
          "output_type": "stream",
          "name": "stdout",
          "text": [
            "First Name : Shin\n",
            "Hello [Shin]\n"
          ]
        }
      ],
      "source": [
        "#################################################################\n",
        "# General\n",
        "##################################################################\n",
        "\n",
        "# 001 Ask for the user's first name and display the output message\n",
        "# (output)    Hello [First Name]\n",
        "# (input) First name :\n",
        "\n",
        "fname = input('First Name : ')\n",
        "\n",
        "print(f'Hello [{fname}]')"
      ]
    },
    {
      "cell_type": "code",
      "source": [
        "# 002 Ask for the user's first name and then as for thier surname and display the output message\n",
        "# (output) Hello [First Name] [Surname]\n",
        "# (input) 'Please enter your surname :'\n",
        "# (input) 'Please enter your firstname :'\n",
        "\n",
        "sname = input('Please enter your surname : ')\n",
        "fname = input('Please enter your firstname : ')\n",
        "\n",
        "print(f'Hello [{fname}] [{sname}]')"
      ],
      "metadata": {
        "colab": {
          "base_uri": "https://localhost:8080/"
        },
        "id": "TBhQX-zykyDZ",
        "outputId": "61ee1192-c54f-4218-cfb9-47df4e4468e6"
      },
      "execution_count": 8,
      "outputs": [
        {
          "output_type": "stream",
          "name": "stdout",
          "text": [
            "Please enter your surname : Shin\n",
            "Please enter your firstname : Chang Kyun\n",
            "Hello [Chang Kyun] [Shin]\n"
          ]
        }
      ]
    },
    {
      "cell_type": "code",
      "source": [
        "# 003 Ask the user to enter two numbers. Add them togther and display the answer as\n",
        "# (output) The total is [answer]\n",
        "# (input) 'please enter your first number : '\n",
        "# (input) 'please enter your secound number : '\n",
        "\n",
        "fnum = int(input('Please enter your first number : '))\n",
        "snum = int(input('Please enter your second number : '))\n",
        "\n",
        "print(f'The total is [{fnum+snum}]')"
      ],
      "metadata": {
        "colab": {
          "base_uri": "https://localhost:8080/"
        },
        "id": "sPHIh1HalaEX",
        "outputId": "1b0348a0-1332-4090-e839-8135abdaa419"
      },
      "execution_count": 15,
      "outputs": [
        {
          "output_type": "stream",
          "name": "stdout",
          "text": [
            "Please enter your first number : 5\n",
            "Please enter your second number : 6\n",
            "The total is [11]\n"
          ]
        }
      ]
    },
    {
      "cell_type": "code",
      "source": [
        "# 004 Ask how many slices of pizza the user started with and ask how mnay slices they have eaten\n",
        "# Work out how many slices they have left and display yhe answer in a user friendly format\n",
        "\n",
        "\n",
        "spizza = int(input('Enter the number of slices of pizza you started with ? '))\n",
        "epizza = int(input('How many slices have you eaten? '))\n",
        "\n",
        "print(f'The answer is [{spizza-epizza}]')"
      ],
      "metadata": {
        "colab": {
          "base_uri": "https://localhost:8080/"
        },
        "id": "IgNfv-xgneda",
        "outputId": "086b5ea9-40bb-4594-d1e0-abee0e0e7615"
      },
      "execution_count": 18,
      "outputs": [
        {
          "output_type": "stream",
          "name": "stdout",
          "text": [
            "Enter the number of slices of pizza you started with ? 10\n",
            "How many slices have you eaten? 5\n",
            "The answer is [5]\n"
          ]
        }
      ]
    },
    {
      "cell_type": "code",
      "source": [
        "# 005 Write a program that will ask for a number of days and then will show \n",
        "#     how many hours, minutes and seconds are in that number of days\n",
        "\n",
        "day = int(input('Enter the number of days : '))\n",
        "\n",
        "print(f'In, [{day}], days there are \\n\\t[{day*24}] hours, \\n\\t[{day*24*60}] minutes, \\n\\t[{day*24*60*60}] seconds')"
      ],
      "metadata": {
        "colab": {
          "base_uri": "https://localhost:8080/"
        },
        "id": "QSect6bmohMZ",
        "outputId": "09c306e3-4027-47c3-c0ef-ed91e7761ec8"
      },
      "execution_count": 21,
      "outputs": [
        {
          "output_type": "stream",
          "name": "stdout",
          "text": [
            "Enter the number of days : 10\n",
            "In, [10], days there are \n",
            "\t[240] hours, \n",
            "\t[14400] minutes, \n",
            "\t[864000] seconds\n"
          ]
        }
      ]
    },
    {
      "cell_type": "code",
      "source": [
        "# 006 Task the user to enter a number over 100 and then enter a number\n",
        "#     under 10 and tell them how many times the smaller number goes into the larger\n",
        "#     number in a user-friendly format,\n",
        "\n",
        "n1 = int(input('Enter the number over 100 : '))\n",
        "n2 = int(input('Enter the number under 10 : '))\n",
        "\n",
        "print(f'[{n2}] goes into [{n1}] answer [{(n1//n2)}] times') # // 몫만 취하는 수식\n",
        "print(f'[{n2}] goes into [{n1}] answer [{int(n1/n2)}] times')"
      ],
      "metadata": {
        "colab": {
          "base_uri": "https://localhost:8080/"
        },
        "id": "yZxVv3jKqsaQ",
        "outputId": "cd28072f-e404-4899-dcda-723ba5bed198"
      },
      "execution_count": 29,
      "outputs": [
        {
          "output_type": "stream",
          "name": "stdout",
          "text": [
            "Enter the number over 100 : 132\n",
            "Enter the number under 10 : 11\n",
            "[11] goes into [132] answer [12] times\n",
            "[11] goes into [132] answer [12] times\n"
          ]
        }
      ]
    },
    {
      "cell_type": "code",
      "source": [
        "########################################################3\n",
        "# IF Statement\n",
        "#######################################################3"
      ],
      "metadata": {
        "id": "HoJguZwXtskI"
      },
      "execution_count": null,
      "outputs": []
    },
    {
      "cell_type": "code",
      "source": [
        "# 007 Ask for two numbers, If the first one is lager than the second, display the second number first and\n",
        "# then the first number, otherwise show the first number first then the second\n",
        "\n",
        "# (input) Enter first number : 3\n",
        "# (input) Enter second number : 2\n",
        "# (output) 2 3\n",
        "\n",
        "n1 = int(input('Enter first number : '))\n",
        "n2 = int(input('Enter second number : '))\n",
        "\n",
        "if n1 > n2 :\n",
        "  print(f'{n2} {n1}')\n",
        "else :\n",
        "  print(f'{n1} {n2}')"
      ],
      "metadata": {
        "colab": {
          "base_uri": "https://localhost:8080/"
        },
        "id": "F4v_GxlPzTpf",
        "outputId": "c477a6df-4a04-4e19-f016-d93418534ece"
      },
      "execution_count": 30,
      "outputs": [
        {
          "output_type": "stream",
          "name": "stdout",
          "text": [
            "Enter first number : 3\n",
            "Enter second number : 2\n",
            "2 3\n"
          ]
        }
      ]
    },
    {
      "cell_type": "code",
      "source": [
        "# 008 Ask the user to number between 10 and 20 if they enter a number within this range,\n",
        "#     display the message 'Thank you' otherwise display the message 'incorrect number'\n",
        "\n",
        "\n",
        "n1 = int(input('Enter a value between 10 and 20 : '))\n",
        "\n",
        "if n1 >= 10 and n1 <= 20 :\n",
        "  print('Thank you')\n",
        "else :\n",
        "  print('incorrect number')"
      ],
      "metadata": {
        "colab": {
          "base_uri": "https://localhost:8080/"
        },
        "id": "55bOFUt10tB_",
        "outputId": "85dd49ed-04e6-47a6-b798-809d3f49c952"
      },
      "execution_count": 32,
      "outputs": [
        {
          "output_type": "stream",
          "name": "stdout",
          "text": [
            "Enter first number : 11\n",
            "Thank you\n"
          ]
        }
      ]
    },
    {
      "cell_type": "code",
      "source": [
        "# 009 Ask the user to enter their favorite color, If thet enter 'red', 'Red', 'RED'\n",
        "#     display the message 'I like red too', otherwise display the message\n",
        "#     'I dont like [color], i prefer red'\n",
        "\n",
        "rlist = ['red','Red','Red']\n",
        "fcolor = (input('Enter your favorite color : '))\n",
        "\n",
        "if fcolor in rlist :\n",
        "  print('I like red too!')\n",
        "else :\n",
        "  print(f'I dont like {fcolor}, i prefer red')"
      ],
      "metadata": {
        "colab": {
          "base_uri": "https://localhost:8080/"
        },
        "id": "OP53ODdo4Ga3",
        "outputId": "491fe475-1127-4962-de07-e835a55a6ebb"
      },
      "execution_count": 35,
      "outputs": [
        {
          "output_type": "stream",
          "name": "stdout",
          "text": [
            "Enter your favorite color : Red\n",
            "I like red too!\n"
          ]
        }
      ]
    },
    {
      "cell_type": "code",
      "source": [
        "# 010 Ask the user if it is raining and convert their answer to lower case\n",
        "#     so it doenst matter what case they type in . if they answer 'yes'\n",
        "#     ask if it is windt. if they answer 'yes' to this second question,\n",
        "#     display the answer 'it is too windy for an umbrella', otherwise\n",
        "#     display the message 'take an umbrella'. if they did not answer yes to the first question\n",
        "#     display the message 'enjoy your day'\n",
        "\n",
        "\n",
        "q1 = input('It is raining? ')\n",
        "# q1 = str.lower(q1) 전부 소문자로 바꿔주기\n",
        "\n",
        "if q1.lower() == 'yes' :\n",
        "  q2 = input('It is windy? ')\n",
        "  if q2.lower() == 'yes' :\n",
        "    print('it is too windy for an umberella')\n",
        "\n",
        "  else :\n",
        "    print('take an umbrella')\n",
        "else :\n",
        "  print('enjoy your day')"
      ],
      "metadata": {
        "colab": {
          "base_uri": "https://localhost:8080/"
        },
        "id": "KV2U9wVh5mQW",
        "outputId": "a0bab5ef-8f4b-46cb-9d4d-a0ee9a4dc750"
      },
      "execution_count": 40,
      "outputs": [
        {
          "output_type": "stream",
          "name": "stdout",
          "text": [
            "It is raining? yes\n",
            "It is windy? no\n",
            "take an umbrella\n"
          ]
        }
      ]
    },
    {
      "cell_type": "code",
      "source": [
        "# 011 Ask the user's age. If they are 18 or over, display the message 'You can vote'\n",
        "#     if they are aged 17, display the message 'You can vote'\n",
        "#     if they are 16, display the message 'You can buy lottery ticket'\n",
        "#     if they are under 16, display the message 'You can go Trick or Treating'\n",
        "\n",
        "age = int(input('What is your age? '))\n",
        "\n",
        "if age >= 18 :\n",
        "  print('You can vote')\n",
        "\n",
        "elif age == 17 :\n",
        "  print('You can learn to drive')\n",
        "\n",
        "elif age == 16 :\n",
        "  print('You can buy a lottery ticket')\n",
        "\n",
        "elif age < 16 :\n",
        "  print('You can go Trick or Treating')\n",
        "# else : \n",
        "#  print('You can go Trick or Treating')"
      ],
      "metadata": {
        "colab": {
          "base_uri": "https://localhost:8080/"
        },
        "id": "f3aiE-Ou_Bdn",
        "outputId": "b8f176de-1cd0-4e2f-f7ae-a4a297a78081"
      },
      "execution_count": 45,
      "outputs": [
        {
          "output_type": "stream",
          "name": "stdout",
          "text": [
            "What is your age? 20\n",
            "You can vote\n"
          ]
        }
      ]
    },
    {
      "cell_type": "code",
      "source": [
        "######################################################\n",
        "# String\n",
        "######################################################"
      ],
      "metadata": {
        "id": "9haFVjMjDeZO"
      },
      "execution_count": null,
      "outputs": []
    },
    {
      "cell_type": "code",
      "source": [
        "# 012 Ask the user to enger their name and then display the length of thier name!\n",
        "\n",
        "name = input('Enter your name ')\n",
        "\n",
        "print(f'{name} {len(name)}')"
      ],
      "metadata": {
        "colab": {
          "base_uri": "https://localhost:8080/"
        },
        "id": "22qeBtWzEz_9",
        "outputId": "f522d558-dae7-43f6-f84b-5f44fc57e81e"
      },
      "execution_count": 46,
      "outputs": [
        {
          "output_type": "stream",
          "name": "stdout",
          "text": [
            "Enter your nameakakakak\n",
            "akakakak 8\n"
          ]
        }
      ]
    },
    {
      "cell_type": "code",
      "source": [
        "# 013 Ask the user to enter their first name and lastname in lower case\n",
        "#     Change the case to title case and join them together\n",
        "#     Display the finished result\n",
        "\n",
        "fname = input('Enter your first name ')\n",
        "fname = str.lower(fname)\n",
        "\n",
        "lname = input('Enter your last name ')\n",
        "lname = str.lower(lname)\n",
        "\n",
        "\n",
        "print(f'{fname.upper()[0]}{fname[1:]} {lname.upper()[0]}{lname[1:]}')"
      ],
      "metadata": {
        "colab": {
          "base_uri": "https://localhost:8080/"
        },
        "id": "aR86zf8eFScw",
        "outputId": "fa05b8c2-bd63-441a-ceac-2496d72400f5"
      },
      "execution_count": 55,
      "outputs": [
        {
          "output_type": "stream",
          "name": "stdout",
          "text": [
            "Enter your first name chang kyun\n",
            "Enter your last name shin\n",
            "Chang kyun Shin\n"
          ]
        }
      ]
    },
    {
      "cell_type": "code",
      "source": [
        "# 013 Ask the user to enter their first name and lastname in lower case\n",
        "#     Change the case to title case and join them together\n",
        "#     Display the finished result\n",
        "\n",
        "fname = input('Enter your first name ')\n",
        "lname = input('Enter your last name ')\n",
        "\n",
        "fname = fname.title()\n",
        "lname = lname.title()\n",
        "\n",
        "name = fname + \"\" + lname\n",
        "print(name)\n"
      ],
      "metadata": {
        "colab": {
          "base_uri": "https://localhost:8080/"
        },
        "id": "G-GOwLZtHfCI",
        "outputId": "6f4f9f2f-72cc-4308-e81d-40ee9940df79"
      },
      "execution_count": 50,
      "outputs": [
        {
          "output_type": "stream",
          "name": "stdout",
          "text": [
            "Enter your first name d\n",
            "Enter your last name 13\n",
            "D13\n"
          ]
        }
      ]
    },
    {
      "cell_type": "code",
      "source": [
        "# 14\n",
        "\n",
        "fname = input('Enter your first name ')\n",
        "\n",
        "if len(fname) < 5 :\n",
        "  lname = input('Enter your last name ')\n",
        "  name = fname+lname\n",
        "\n",
        "  print(f'{name.upper()}')\n",
        "\n",
        "else :\n",
        "  print(f'{fname.lower()}')\n"
      ],
      "metadata": {
        "colab": {
          "base_uri": "https://localhost:8080/"
        },
        "id": "8csT-LMSOugF",
        "outputId": "e5340d59-6d4d-4317-a028-8676b98f172b"
      },
      "execution_count": 65,
      "outputs": [
        {
          "output_type": "stream",
          "name": "stdout",
          "text": [
            "Enter your first name chang kyun\n",
            "chang kyun\n"
          ]
        }
      ]
    },
    {
      "cell_type": "code",
      "source": [
        "# 15 피그 라틴 만들기\n",
        "\n",
        "vowel = ['a','e','i','o','u']\n",
        "name = input(\"Enter a word \")\n",
        "\n",
        "if name[0] in vowel :\n",
        "  name = name+'way'\n",
        "  print(name)\n",
        "  \n",
        "else :\n",
        "  name = name[1:]+name[0]+'ay'\n",
        "  print(name)\n",
        "\n",
        "\n",
        "\n"
      ],
      "metadata": {
        "colab": {
          "base_uri": "https://localhost:8080/"
        },
        "id": "kEEvwcYRPLd0",
        "outputId": "8e4fb407-3df3-4f23-fb4d-1db983d48ccc"
      },
      "execution_count": 77,
      "outputs": [
        {
          "output_type": "stream",
          "name": "stdout",
          "text": [
            "Enter a word aaaka\n",
            "aaakaway\n"
          ]
        }
      ]
    },
    {
      "cell_type": "code",
      "source": [
        "word = input(\"Enter a word \")\n",
        "first = word[0]\n",
        "length = len(word)\n",
        "rest = word[1:length]\n",
        "\n",
        "if first in ['a','e','i','o','u'] :\n",
        "  newword = rest+first+'ay'\n",
        "\n",
        "else :\n",
        "  newword = word+'way'\n",
        "\n",
        "print(newword.lower())"
      ],
      "metadata": {
        "colab": {
          "base_uri": "https://localhost:8080/"
        },
        "id": "kN681u5bT5Q9",
        "outputId": "ec34877c-eba1-472b-87ea-ef97a6fd58c1"
      },
      "execution_count": 76,
      "outputs": [
        {
          "output_type": "stream",
          "name": "stdout",
          "text": [
            "Enter a word pig\n",
            "pigway\n"
          ]
        }
      ]
    }
  ]
}