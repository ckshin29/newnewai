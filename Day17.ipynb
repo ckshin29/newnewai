{
  "nbformat": 4,
  "nbformat_minor": 0,
  "metadata": {
    "colab": {
      "name": "Day17.ipynb",
      "provenance": [],
      "collapsed_sections": [],
      "authorship_tag": "ABX9TyMPNaXUC9cPTUwJlEzZh2PC",
      "include_colab_link": true
    },
    "kernelspec": {
      "name": "python3",
      "display_name": "Python 3"
    },
    "language_info": {
      "name": "python"
    }
  },
  "cells": [
    {
      "cell_type": "markdown",
      "metadata": {
        "id": "view-in-github",
        "colab_type": "text"
      },
      "source": [
        "<a href=\"https://colab.research.google.com/github/ckshin29/newnewai/blob/main/Day17.ipynb\" target=\"_parent\"><img src=\"https://colab.research.google.com/assets/colab-badge.svg\" alt=\"Open In Colab\"/></a>"
      ]
    },
    {
      "cell_type": "code",
      "execution_count": 1,
      "metadata": {
        "colab": {
          "base_uri": "https://localhost:8080/"
        },
        "id": "zuECuZU5YCbr",
        "outputId": "6b9752ec-5789-4b64-c9ef-694afd4c9f74"
      },
      "outputs": [
        {
          "output_type": "stream",
          "name": "stdout",
          "text": [
            "Enter your name >> : sk\n",
            "Hello sk\n"
          ]
        }
      ],
      "source": [
        "# Function (subprograms)\n",
        "\n",
        "# Blocks of code which perform specific tasks and can be called upom at any time\n",
        "# in the program to run that code\n",
        "\n",
        "# Advantages\n",
        "# - it can be used and reused at different times during the program.\n",
        "# - it makes the program simpler to understand as the code is grouped together in to chunks\n",
        "\n",
        "def get_name() : #4\n",
        "  user_name = input('Enter your name >> : ') #5\n",
        "  \n",
        "  return user_name #6\n",
        "\n",
        "def print_Msg(user_name) : #9 \n",
        "  print(\"Hello\", user_name) #10\n",
        "\n",
        "# def print_Msg() :  \n",
        "#   print(\"Hello\", user_name) << - user_name 을 받지 않았기 때문에 출력이 안됨\n",
        "  \n",
        "def main() : #2\n",
        "  user_name = get_name() #3   #7\n",
        "  print_Msg(user_name) #8\n",
        "\n",
        "main() #1\n"
      ]
    },
    {
      "cell_type": "code",
      "source": [
        "def get_data() : #4\n",
        "  user_name = input('Enter your name >> : ') #5\n",
        "  user_age = int(input('Enter your age >> : ')) #6\n",
        "  data_tuple = (user_name, user_age) #7\n",
        "  \n",
        "  return data_tuple #8\n",
        "\n",
        "def message(user_name, user_age) : #11\n",
        "  if user_age <= 10 : #12\n",
        "    print('Hi', user_name)\n",
        "  \n",
        "  else : #13\n",
        "    print('Hello', user_name) #14\n",
        "\n",
        "def main() : #2\n",
        "  user_name, user_age = get_data() #3  #9\n",
        "  message(user_name, user_age) #10 (#15 생략 가능)\n",
        "\n",
        "main() #1"
      ],
      "metadata": {
        "colab": {
          "base_uri": "https://localhost:8080/"
        },
        "id": "v5o4YTYJbM1I",
        "outputId": "917dfc3c-899c-4442-d4ab-14512f5e8ea1"
      },
      "execution_count": 2,
      "outputs": [
        {
          "output_type": "stream",
          "name": "stdout",
          "text": [
            "Enter your name >> : ak\n",
            "Enter your age >> : 30\n",
            "Hello ak\n"
          ]
        }
      ]
    },
    {
      "cell_type": "code",
      "source": [
        "def get_num() :\n",
        "  num = int(input('Enter a number >> '))\n",
        "  return num\n",
        "\n",
        "def count_num(num) :\n",
        "  count = 0\n",
        "  for i in range(1,num+1) :\n",
        "    count += 1\n",
        "  print(count)\n",
        "\n",
        "def machine() :\n",
        "  num = get_num()\n",
        "  count_num(num)\n",
        "\n",
        "machine()"
      ],
      "metadata": {
        "colab": {
          "base_uri": "https://localhost:8080/"
        },
        "id": "4hltPoPsh2yn",
        "outputId": "4931fd0a-8b3b-4f27-f4db-40153794c01f"
      },
      "execution_count": 3,
      "outputs": [
        {
          "output_type": "stream",
          "name": "stdout",
          "text": [
            "Enter a number >> 3\n",
            "3\n"
          ]
        }
      ]
    },
    {
      "cell_type": "code",
      "source": [
        "# import random\n",
        "\n",
        "# def pick_num() :\n",
        "#   low = int(input('Enter the minimum Number >> '))\n",
        "#   high = int(input('Enter the maximum Number >> '))\n",
        "\n",
        "#   comp_num = random.randint(low,high)\n",
        "#   print(\"I'm think of a number...\")\n",
        "\n",
        "#   return comp_num\n",
        "  \n",
        "# def guess_num(comp_num) :\n",
        "#   guess = int(input(\"the number is >> \"))\n",
        "\n",
        "#   while guess != comp_num :\n",
        "#     if guess < comp_num :\n",
        "#       print('too low')\n",
        "#       guess_num(comp_num)\n",
        "#       break\n",
        "\n",
        "#     elif guess > comp_num :\n",
        "#       print('too high')\n",
        "#       guess_num(comp_num)\n",
        "#       break\n",
        "\n",
        "#   print('you win')\n",
        "    \n",
        "\n",
        "# def r_game() :\n",
        "#   comp_num = pick_num()\n",
        "  \n",
        "#   guess_num(comp_num)\n",
        "\n",
        "# r_game()\n",
        "\n",
        "\n",
        "\n",
        "\n",
        "\n",
        "\n"
      ],
      "metadata": {
        "colab": {
          "base_uri": "https://localhost:8080/"
        },
        "id": "3TGvGOS1knCG",
        "outputId": "e7d51adc-0af3-494b-ce1a-ed414569b755"
      },
      "execution_count": 18,
      "outputs": [
        {
          "output_type": "stream",
          "name": "stdout",
          "text": [
            "Enter the minimum Number >> 1\n",
            "Enter the maximum Number >> 10\n",
            "I'm think of a number...\n",
            "the number is >> 3\n",
            "too low\n",
            "the number is >> 5\n",
            "too high\n",
            "the number is >> 4\n",
            "you win\n",
            "you win\n",
            "you win\n"
          ]
        }
      ]
    },
    {
      "cell_type": "code",
      "source": [
        "import random\n",
        "\n",
        "def pick_num():\n",
        "  low = int(input('Enter the bottom of the range : '))\n",
        "  high = int(input('Enter the top of the range : '))\n",
        "  comp_num = random.randint(low, high)\n",
        "  return comp_num\n",
        "\n",
        "def first_guess():\n",
        "  print('I am thinking of a number...')\n",
        "  guess = int(input('WHat am I thinking of : '))\n",
        "  return guess\n",
        "\n",
        "def check_answer(comp_num, guess):\n",
        "  try_again = True\n",
        "  while try_again == True:\n",
        "    if comp_num == guess:\n",
        "      print('Correct, you win')\n",
        "      try_again = False\n",
        "    elif comp_num > guess:\n",
        "      guess = int(input('too low, try again'))\n",
        "    else:\n",
        "      guess = int(input('too high, try again'))\n",
        "def main():\n",
        "  comp_num = pick_num()\n",
        "  guess = first_guess()\n",
        "  check_answer(comp_num, guess)\n",
        "main()\n"
      ],
      "metadata": {
        "id": "ewGD0CVoroIn"
      },
      "execution_count": null,
      "outputs": []
    }
  ]
}