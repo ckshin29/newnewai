{
  "nbformat": 4,
  "nbformat_minor": 0,
  "metadata": {
    "colab": {
      "name": "15HW20220224신창균21.ipynb",
      "provenance": [],
      "collapsed_sections": [],
      "authorship_tag": "ABX9TyPXFZBsW/ak0iDUrqG9ax2s",
      "include_colab_link": true
    },
    "kernelspec": {
      "name": "python3",
      "display_name": "Python 3"
    },
    "language_info": {
      "name": "python"
    }
  },
  "cells": [
    {
      "cell_type": "markdown",
      "metadata": {
        "id": "view-in-github",
        "colab_type": "text"
      },
      "source": [
        "<a href=\"https://colab.research.google.com/github/ckshin29/newnewai/blob/main/15HW20220224%EC%8B%A0%EC%B0%BD%EA%B7%A021.ipynb\" target=\"_parent\"><img src=\"https://colab.research.google.com/assets/colab-badge.svg\" alt=\"Open In Colab\"/></a>"
      ]
    },
    {
      "cell_type": "code",
      "execution_count": null,
      "metadata": {
        "id": "3ouwlAjkyTgr"
      },
      "outputs": [],
      "source": [
        "# 1 - d\n",
        "# 2 - b\n",
        "# 3 - c\n",
        "# 4 - d\n",
        "# 5 - c\n",
        "# 6 - b\n",
        "# 7 - b\n",
        "# 8 - b\n",
        "# 9 - c\n",
        "# 10 - b\n"
      ]
    },
    {
      "cell_type": "code",
      "source": [
        "num = int(input('Enter a number : '))\n",
        "\n",
        "if num % 2 == 0 :\n",
        "  print(f'{num} is even')\n",
        "\n",
        "else : \n",
        "  print(f'{num} is odd')"
      ],
      "metadata": {
        "colab": {
          "base_uri": "https://localhost:8080/"
        },
        "id": "ZSKIT2Qi14mF",
        "outputId": "a4d12e0e-c0a3-4e65-dcde-d073608c1233"
      },
      "execution_count": 3,
      "outputs": [
        {
          "output_type": "stream",
          "name": "stdout",
          "text": [
            "Enter a number : 43\n",
            "43 is odd\n"
          ]
        }
      ]
    }
  ]
}