{
  "nbformat": 4,
  "nbformat_minor": 0,
  "metadata": {
    "colab": {
      "name": "04HW20220207신창균21.ipynb",
      "provenance": [],
      "authorship_tag": "ABX9TyMkHs9PEkN7a4lPDd0FHSCd",
      "include_colab_link": true
    },
    "kernelspec": {
      "name": "python3",
      "display_name": "Python 3"
    },
    "language_info": {
      "name": "python"
    }
  },
  "cells": [
    {
      "cell_type": "markdown",
      "metadata": {
        "id": "view-in-github",
        "colab_type": "text"
      },
      "source": [
        "<a href=\"https://colab.research.google.com/github/ckshin29/newnewai/blob/main/04HW20220207%EC%8B%A0%EC%B0%BD%EA%B7%A021.ipynb\" target=\"_parent\"><img src=\"https://colab.research.google.com/assets/colab-badge.svg\" alt=\"Open In Colab\"/></a>"
      ]
    },
    {
      "cell_type": "code",
      "execution_count": 1,
      "metadata": {
        "id": "a4QAzi5EPbQr"
      },
      "outputs": [],
      "source": [
        "#211\n",
        "\n",
        "# 안녕\n",
        "\n",
        "# Hi"
      ]
    },
    {
      "cell_type": "code",
      "source": [
        "#212\n",
        "\n",
        "# 11\n",
        "\n",
        "# 15"
      ],
      "metadata": {
        "id": "mJ7IA3S6PtSz"
      },
      "execution_count": 2,
      "outputs": []
    },
    {
      "cell_type": "code",
      "source": [
        "#213\n",
        "\n",
        "#매개 변수를 넣지 않아서\n"
      ],
      "metadata": {
        "id": "r3_0nFVpPyrz"
      },
      "execution_count": 3,
      "outputs": []
    },
    {
      "cell_type": "code",
      "source": [
        "#214\n",
        "\n",
        "#정수 대신 문자열을 넣어서"
      ],
      "metadata": {
        "id": "QDLwpG4mQHyc"
      },
      "execution_count": 4,
      "outputs": []
    },
    {
      "cell_type": "code",
      "source": [
        "#215\n",
        "\n",
        "def print_with_smile(a) :\n",
        "  print(f'{a}',end=\":D\")\n",
        "\n",
        "print(print_with_smile(\"안녕하세요\"))\n",
        "\n",
        "#?????"
      ],
      "metadata": {
        "colab": {
          "base_uri": "https://localhost:8080/"
        },
        "id": "vdasfvmMQHzD",
        "outputId": "a1f8f778-d088-45c9-b56f-e6d9b2fde70d"
      },
      "execution_count": 5,
      "outputs": [
        {
          "output_type": "stream",
          "name": "stdout",
          "text": [
            "안녕하세요:DNone\n"
          ]
        }
      ]
    },
    {
      "cell_type": "code",
      "source": [
        "#216\n",
        "\n",
        "def print_with_smile(a) :\n",
        "  print(f'{a}',end=\":D\")\n",
        "\n",
        "print(print_with_smile(\"안녕하세요\"))\n",
        "\n",
        "#?????"
      ],
      "metadata": {
        "colab": {
          "base_uri": "https://localhost:8080/"
        },
        "id": "nWdMG8iNSAus",
        "outputId": "5e2fdbc1-0f34-415d-efe8-34d404053153"
      },
      "execution_count": 6,
      "outputs": [
        {
          "output_type": "stream",
          "name": "stdout",
          "text": [
            "안녕하세요:DNone\n"
          ]
        }
      ]
    },
    {
      "cell_type": "code",
      "source": [
        "#217\n",
        "\n",
        "def print_upper_price(a) :\n",
        "  a = a*1.3\n",
        "  return a\n",
        "\n",
        "print(print_upper_price(100))\n",
        "\n"
      ],
      "metadata": {
        "colab": {
          "base_uri": "https://localhost:8080/"
        },
        "id": "HyOD97yXSIvK",
        "outputId": "cd0ce7c9-bb1e-4ed1-b1e4-b7e9862eafd9"
      },
      "execution_count": 7,
      "outputs": [
        {
          "output_type": "stream",
          "name": "stdout",
          "text": [
            "130.0\n"
          ]
        }
      ]
    },
    {
      "cell_type": "code",
      "source": [
        "#218\n",
        "\n",
        "def print_sum(a,b) :\n",
        "  return a+b\n",
        "\n",
        "print(print_sum(10,15))\n"
      ],
      "metadata": {
        "colab": {
          "base_uri": "https://localhost:8080/"
        },
        "id": "7YOXdrmrStI6",
        "outputId": "9253f3bc-f6d3-4e13-b885-1ba712d21d36"
      },
      "execution_count": 8,
      "outputs": [
        {
          "output_type": "stream",
          "name": "stdout",
          "text": [
            "25\n"
          ]
        }
      ]
    },
    {
      "cell_type": "code",
      "source": [
        "#219\n",
        "\n",
        "def print_arithmetic_operation(a,b) :\n",
        "  print(f'{a} + {b} = {a+b}')\n",
        "  print(f'{a} - {b} = {a-b}')\n",
        "  print(f'{a} * {b} = {a*b}')\n",
        "  print(f'{a} / {b} = {a/b}')\n",
        "  \n",
        "  return\n",
        "\n",
        "print_arithmetic_operation(3,4) \n"
      ],
      "metadata": {
        "colab": {
          "base_uri": "https://localhost:8080/"
        },
        "id": "XFHptXFqSIv0",
        "outputId": "3fe22e23-e243-45cb-d695-07582bceaaba"
      },
      "execution_count": 9,
      "outputs": [
        {
          "output_type": "stream",
          "name": "stdout",
          "text": [
            "3 + 4 = 7\n",
            "3 - 4 = -1\n",
            "3 * 4 = 12\n",
            "3 / 4 = 0.75\n"
          ]
        }
      ]
    },
    {
      "cell_type": "code",
      "source": [
        "#220\n",
        "\n",
        "def print_max(a,b,c) :\n",
        "  if a > b or a > c :\n",
        "    print(a)\n",
        "  elif b > c :\n",
        "    print(b)\n",
        "  else :\n",
        "    print(c)\n",
        "  \n",
        "  return\n",
        "  \n",
        "print_max(5,11,10)"
      ],
      "metadata": {
        "colab": {
          "base_uri": "https://localhost:8080/"
        },
        "id": "uClIsc65TrM7",
        "outputId": "9676f227-0ca6-4707-c982-ab011b10be49"
      },
      "execution_count": 10,
      "outputs": [
        {
          "output_type": "stream",
          "name": "stdout",
          "text": [
            "11\n"
          ]
        }
      ]
    },
    {
      "cell_type": "code",
      "source": [
        "#221\n",
        "\n",
        "#def print_reverse(a) :\n",
        "\n",
        "#?????????????????"
      ],
      "metadata": {
        "colab": {
          "base_uri": "https://localhost:8080/",
          "height": 139
        },
        "id": "V4VnD5pfUFcT",
        "outputId": "29021e63-8067-4757-e981-f3b96de97323"
      },
      "execution_count": 11,
      "outputs": [
        {
          "output_type": "error",
          "ename": "SyntaxError",
          "evalue": "ignored",
          "traceback": [
            "\u001b[0;36m  File \u001b[0;32m\"<ipython-input-11-88b6f5088fc8>\"\u001b[0;36m, line \u001b[0;32m5\u001b[0m\n\u001b[0;31m    #?????????????????\u001b[0m\n\u001b[0m                      ^\u001b[0m\n\u001b[0;31mSyntaxError\u001b[0m\u001b[0;31m:\u001b[0m unexpected EOF while parsing\n"
          ]
        }
      ]
    },
    {
      "cell_type": "code",
      "source": [
        "#222\n",
        "\n",
        "def print_score(*args) :\n",
        "  for i in args :\n",
        "    i = 0\n",
        "    i += 1\n",
        "  print(f'({sum(args)}/{int(i)}')\n",
        "  return\n",
        "\n",
        "print_score([1,2,3])\n",
        "\n",
        "#?????????????\n"
      ],
      "metadata": {
        "colab": {
          "base_uri": "https://localhost:8080/",
          "height": 381
        },
        "id": "9lQITrCiUtE6",
        "outputId": "cff3742b-2b9b-458e-d964-8760db718245"
      },
      "execution_count": 14,
      "outputs": [
        {
          "output_type": "error",
          "ename": "TypeError",
          "evalue": "ignored",
          "traceback": [
            "\u001b[0;31m---------------------------------------------------------------------------\u001b[0m",
            "\u001b[0;31mTypeError\u001b[0m                                 Traceback (most recent call last)",
            "\u001b[0;32m<ipython-input-14-3c0017702351>\u001b[0m in \u001b[0;36m<module>\u001b[0;34m()\u001b[0m\n\u001b[1;32m      8\u001b[0m   \u001b[0;32mreturn\u001b[0m\u001b[0;34m\u001b[0m\u001b[0;34m\u001b[0m\u001b[0m\n\u001b[1;32m      9\u001b[0m \u001b[0;34m\u001b[0m\u001b[0m\n\u001b[0;32m---> 10\u001b[0;31m \u001b[0mprint_score\u001b[0m\u001b[0;34m(\u001b[0m\u001b[0;34m[\u001b[0m\u001b[0;36m1\u001b[0m\u001b[0;34m,\u001b[0m\u001b[0;36m2\u001b[0m\u001b[0;34m,\u001b[0m\u001b[0;36m3\u001b[0m\u001b[0;34m]\u001b[0m\u001b[0;34m)\u001b[0m\u001b[0;34m\u001b[0m\u001b[0;34m\u001b[0m\u001b[0m\n\u001b[0m\u001b[1;32m     11\u001b[0m \u001b[0;34m\u001b[0m\u001b[0m\n\u001b[1;32m     12\u001b[0m \u001b[0;31m#?????????????\u001b[0m\u001b[0;34m\u001b[0m\u001b[0;34m\u001b[0m\u001b[0;34m\u001b[0m\u001b[0m\n",
            "\u001b[0;32m<ipython-input-14-3c0017702351>\u001b[0m in \u001b[0;36mprint_score\u001b[0;34m(*args)\u001b[0m\n\u001b[1;32m      5\u001b[0m     \u001b[0mi\u001b[0m \u001b[0;34m=\u001b[0m \u001b[0;36m0\u001b[0m\u001b[0;34m\u001b[0m\u001b[0;34m\u001b[0m\u001b[0m\n\u001b[1;32m      6\u001b[0m     \u001b[0mi\u001b[0m \u001b[0;34m+=\u001b[0m \u001b[0;36m1\u001b[0m\u001b[0;34m\u001b[0m\u001b[0;34m\u001b[0m\u001b[0m\n\u001b[0;32m----> 7\u001b[0;31m   \u001b[0mprint\u001b[0m\u001b[0;34m(\u001b[0m\u001b[0;34mf'({sum(args)}/{int(i)}'\u001b[0m\u001b[0;34m)\u001b[0m\u001b[0;34m\u001b[0m\u001b[0;34m\u001b[0m\u001b[0m\n\u001b[0m\u001b[1;32m      8\u001b[0m   \u001b[0;32mreturn\u001b[0m\u001b[0;34m\u001b[0m\u001b[0;34m\u001b[0m\u001b[0m\n\u001b[1;32m      9\u001b[0m \u001b[0;34m\u001b[0m\u001b[0m\n",
            "\u001b[0;31mTypeError\u001b[0m: unsupported operand type(s) for +: 'int' and 'list'"
          ]
        }
      ]
    },
    {
      "cell_type": "markdown",
      "source": [
        ""
      ],
      "metadata": {
        "id": "FGkMtOl4WV8X"
      }
    },
    {
      "cell_type": "code",
      "source": [
        ""
      ],
      "metadata": {
        "id": "vgIgYSCRWTe5"
      },
      "execution_count": null,
      "outputs": []
    },
    {
      "cell_type": "markdown",
      "source": [
        ""
      ],
      "metadata": {
        "id": "5CY9p2LyS_ym"
      }
    }
  ]
}