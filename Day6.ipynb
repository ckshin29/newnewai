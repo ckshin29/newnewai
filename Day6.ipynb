{
  "nbformat": 4,
  "nbformat_minor": 0,
  "metadata": {
    "colab": {
      "name": "Day6.ipynb",
      "provenance": [],
      "collapsed_sections": [],
      "authorship_tag": "ABX9TyOlcgvQ5eWCl6kIX3fJMe9i",
      "include_colab_link": true
    },
    "kernelspec": {
      "name": "python3",
      "display_name": "Python 3"
    },
    "language_info": {
      "name": "python"
    }
  },
  "cells": [
    {
      "cell_type": "markdown",
      "metadata": {
        "id": "view-in-github",
        "colab_type": "text"
      },
      "source": [
        "<a href=\"https://colab.research.google.com/github/ckshin29/newnewai/blob/main/Day6.ipynb\" target=\"_parent\"><img src=\"https://colab.research.google.com/assets/colab-badge.svg\" alt=\"Open In Colab\"/></a>"
      ]
    },
    {
      "cell_type": "code",
      "execution_count": null,
      "metadata": {
        "id": "4c3TjGmV9RGA"
      },
      "outputs": [],
      "source": [
        "# 예외 처리 (에러 처리, 오류 처리, 버그 처리...)\n",
        "\n",
        "# 프로그램 실행전에 발생하는 오류 - 구문 오류 syntax error (예외처리 불가능 왜냐하면 들어가지도 않았으니까)\n",
        "# 프로그램 실행중에 발생하는 오류 - 런타임 오류 - runtime error , 예외 exception\n",
        "\n",
        "print(\"# 예외를 강제로 발생)\n",
        "# EOL End of Line\n",
        "\n"
      ]
    },
    {
      "cell_type": "code",
      "source": [
        "print('프로그램이 시작되었습니다')\n",
        "list[0]"
      ],
      "metadata": {
        "colab": {
          "base_uri": "https://localhost:8080/",
          "height": 213
        },
        "id": "YKElTFVH-l-8",
        "outputId": "39fc8b03-8eda-4054-e607-01e4cda5986a"
      },
      "execution_count": 2,
      "outputs": [
        {
          "output_type": "stream",
          "name": "stdout",
          "text": [
            "프로그램이 시작되었습니다\n"
          ]
        },
        {
          "output_type": "error",
          "ename": "TypeError",
          "evalue": "ignored",
          "traceback": [
            "\u001b[0;31m---------------------------------------------------------------------------\u001b[0m",
            "\u001b[0;31mTypeError\u001b[0m                                 Traceback (most recent call last)",
            "\u001b[0;32m<ipython-input-2-5c19133f402d>\u001b[0m in \u001b[0;36m<module>\u001b[0;34m()\u001b[0m\n\u001b[1;32m      1\u001b[0m \u001b[0mprint\u001b[0m\u001b[0;34m(\u001b[0m\u001b[0;34m'프로그램이 시작되었습니다'\u001b[0m\u001b[0;34m)\u001b[0m\u001b[0;34m\u001b[0m\u001b[0;34m\u001b[0m\u001b[0m\n\u001b[0;32m----> 2\u001b[0;31m \u001b[0mlist\u001b[0m\u001b[0;34m[\u001b[0m\u001b[0;36m0\u001b[0m\u001b[0;34m]\u001b[0m\u001b[0;34m\u001b[0m\u001b[0;34m\u001b[0m\u001b[0m\n\u001b[0m",
            "\u001b[0;31mTypeError\u001b[0m: 'type' object is not subscriptable"
          ]
        }
      ]
    },
    {
      "cell_type": "code",
      "source": [
        "num_input = int(input('정수 입력 >> '))\n",
        "\n",
        "print('원의 반지름 : ',num_input)\n",
        "print('원의 둘레 : ', 2 * 3.14 * num_input)\n",
        "print('원의 넒이 : ', 3.14 * num_input * num_input)"
      ],
      "metadata": {
        "colab": {
          "base_uri": "https://localhost:8080/",
          "height": 269
        },
        "id": "hmHR6Pxu_P9E",
        "outputId": "79f30cdf-3690-4b9e-e4f2-45af4f33abe6"
      },
      "execution_count": 4,
      "outputs": [
        {
          "name": "stdout",
          "output_type": "stream",
          "text": [
            "정수 입력 >> 2.35\n"
          ]
        },
        {
          "output_type": "error",
          "ename": "ValueError",
          "evalue": "ignored",
          "traceback": [
            "\u001b[0;31m---------------------------------------------------------------------------\u001b[0m",
            "\u001b[0;31mValueError\u001b[0m                                Traceback (most recent call last)",
            "\u001b[0;32m<ipython-input-4-5afb36fcea77>\u001b[0m in \u001b[0;36m<module>\u001b[0;34m()\u001b[0m\n\u001b[0;32m----> 1\u001b[0;31m \u001b[0mnum_input\u001b[0m \u001b[0;34m=\u001b[0m \u001b[0mint\u001b[0m\u001b[0;34m(\u001b[0m\u001b[0minput\u001b[0m\u001b[0;34m(\u001b[0m\u001b[0;34m'정수 입력 >> '\u001b[0m\u001b[0;34m)\u001b[0m\u001b[0;34m)\u001b[0m\u001b[0;34m\u001b[0m\u001b[0;34m\u001b[0m\u001b[0m\n\u001b[0m\u001b[1;32m      2\u001b[0m \u001b[0;34m\u001b[0m\u001b[0m\n\u001b[1;32m      3\u001b[0m \u001b[0mprint\u001b[0m\u001b[0;34m(\u001b[0m\u001b[0;34m'원의 반지름 : '\u001b[0m\u001b[0;34m,\u001b[0m\u001b[0mnum_input\u001b[0m\u001b[0;34m)\u001b[0m\u001b[0;34m\u001b[0m\u001b[0;34m\u001b[0m\u001b[0m\n\u001b[1;32m      4\u001b[0m \u001b[0mprint\u001b[0m\u001b[0;34m(\u001b[0m\u001b[0;34m'원의 둘레 : '\u001b[0m\u001b[0;34m,\u001b[0m \u001b[0;36m2\u001b[0m \u001b[0;34m*\u001b[0m \u001b[0;36m3.14\u001b[0m \u001b[0;34m*\u001b[0m \u001b[0mnum_input\u001b[0m\u001b[0;34m)\u001b[0m\u001b[0;34m\u001b[0m\u001b[0;34m\u001b[0m\u001b[0m\n\u001b[1;32m      5\u001b[0m \u001b[0mprint\u001b[0m\u001b[0;34m(\u001b[0m\u001b[0;34m'원의 넒이 : '\u001b[0m\u001b[0;34m,\u001b[0m \u001b[0;36m3.14\u001b[0m \u001b[0;34m*\u001b[0m \u001b[0mnum_input\u001b[0m \u001b[0;34m*\u001b[0m \u001b[0mnum_input\u001b[0m\u001b[0;34m)\u001b[0m\u001b[0;34m\u001b[0m\u001b[0;34m\u001b[0m\u001b[0m\n",
            "\u001b[0;31mValueError\u001b[0m: invalid literal for int() with base 10: '2.35'"
          ]
        }
      ]
    },
    {
      "cell_type": "code",
      "source": [
        "# if 로 예외 처리 하기 (많이 쓰이지 않음)\n",
        "\n",
        "num_input = input('정수 입력 >> ')\n",
        "\n",
        "if num_input.isdigit() :\n",
        "\n",
        "  num_a = int(num_input)\n",
        "\n",
        "  print('원의 반지름 :', num_a)\n",
        "  print('원의 둘레 : ', 2 * 3.14 * num_a)\n",
        "  print('원의 넒이 : ', 3.14 * num_a * num_a)\n",
        "\n",
        "else :\n",
        "  print(\"정수를 입력해야합니다.\")\n"
      ],
      "metadata": {
        "colab": {
          "base_uri": "https://localhost:8080/"
        },
        "id": "pf4tNLKKAr7z",
        "outputId": "5eab85bb-4101-4c41-fc33-7391cc8a8b3a"
      },
      "execution_count": 14,
      "outputs": [
        {
          "output_type": "stream",
          "name": "stdout",
          "text": [
            "정수 입력 >> 12\n",
            "원의 반지름 : 12\n",
            "원의 둘레 :  75.36\n",
            "원의 넒이 :  452.15999999999997\n"
          ]
        }
      ]
    },
    {
      "cell_type": "code",
      "source": [
        "# try except\n",
        "\n",
        "try :\n",
        "  num_input = input('정수 입력 >> ')\n",
        "\n",
        "  num_a = int(num_input)\n",
        "\n",
        "  print('원의 반지름 :', num_a)\n",
        "  print('원의 둘레 : ', 2 * 3.14 * num_a)\n",
        "  print('원의 넒이 : ', 3.14 * num_a * num_a)\n",
        "\n",
        "except : \n",
        "  print(\"정수를 입력해야합니다.\")\n"
      ],
      "metadata": {
        "colab": {
          "base_uri": "https://localhost:8080/"
        },
        "id": "-ZSUCGEcCoiz",
        "outputId": "75e57e3e-d139-499f-f234-bb89ba91d38c"
      },
      "execution_count": 16,
      "outputs": [
        {
          "output_type": "stream",
          "name": "stdout",
          "text": [
            "정수 입력 >> 23\n",
            "원의 반지름 : 23\n",
            "원의 둘레 :  144.44\n",
            "원의 넒이 :  1661.06\n"
          ]
        }
      ]
    },
    {
      "cell_type": "code",
      "source": [
        "# 숫자만 추출하는 프로그램\n",
        "\n",
        "list_all = ['52', '273', '32', '스파이', '103']\n",
        "\n",
        "list_num = []\n",
        "\n",
        "for i in list_all :\n",
        "  try :\n",
        "    float(i) \n",
        "    list_num.append(i)\n",
        "  except :\n",
        "    pass\n",
        "\n",
        "print(list_num)\n",
        "\n"
      ],
      "metadata": {
        "colab": {
          "base_uri": "https://localhost:8080/"
        },
        "id": "puS8Zu7mDqNy",
        "outputId": "7127c99d-8c7d-4822-a93e-eefcaef10880"
      },
      "execution_count": 18,
      "outputs": [
        {
          "output_type": "stream",
          "name": "stdout",
          "text": [
            "['52', '273', '32', '103']\n"
          ]
        }
      ]
    },
    {
      "cell_type": "code",
      "source": [
        "list = ['52', '273', '32', '스파이', '103']\n",
        "\n",
        "try :\n",
        "  print(list[5])\n",
        "except :\n",
        "  print(\"존재하지 않는 인덱스 번호 입니다.\")"
      ],
      "metadata": {
        "colab": {
          "base_uri": "https://localhost:8080/"
        },
        "id": "ab9EkThGFc_C",
        "outputId": "03e0ba29-d97f-42bc-d920-0688a667c34f"
      },
      "execution_count": 21,
      "outputs": [
        {
          "output_type": "stream",
          "name": "stdout",
          "text": [
            "존재하지 않는 인덱스 번호 입니다.\n"
          ]
        }
      ]
    },
    {
      "cell_type": "code",
      "source": [
        "# try :\n",
        "# 예외가 발생할 가능성이 있는 코드\n",
        "\n",
        "# except :\n",
        "# 예외가 발생했을 때 실행할 코드\n",
        "\n",
        "# else :\n",
        "# 예외가 발생하지 않았을 때 실행할 코드\n",
        "\n",
        "# finally :\n",
        "# 항상 실행 시킬 코드 무조건 끝에 돈다\n",
        "\n",
        "# try + except \n",
        "# try + except + else\n",
        "# try + except + finally\n",
        "# try + except + else + finally\n",
        "# try + finally    except 이 반드시 들어가는 것은 아님"
      ],
      "metadata": {
        "id": "4QidV2uUIlXq"
      },
      "execution_count": null,
      "outputs": []
    },
    {
      "cell_type": "code",
      "source": [
        "try : \n",
        "  num = int(input('정수를 입력하세요 > '))\n",
        "\n",
        "except :\n",
        "  print('정수를 입력하지 않았습니다')\n",
        "\n",
        "else :\n",
        "  print('입력한 정수는', num, '입니다.')\n",
        "\n",
        "# else 는 다른 대부분의 언어에서는 없다. else 사용을 권장하지 않는다.\n"
      ],
      "metadata": {
        "colab": {
          "base_uri": "https://localhost:8080/"
        },
        "id": "_yGF6CdSJAYA",
        "outputId": "ae95877c-eb36-4601-85dc-dcf4e119b59d"
      },
      "execution_count": 24,
      "outputs": [
        {
          "output_type": "stream",
          "name": "stdout",
          "text": [
            "정수를 입력하세요 > d\n",
            "정수를 입력하지 않았습니다\n"
          ]
        }
      ]
    },
    {
      "cell_type": "code",
      "source": [
        "try : \n",
        "  num = int(input('정수를 입력하세요 > '))\n",
        "\n",
        "except :\n",
        "  print('정수를 입력하지 않았습니다')\n",
        "\n",
        "else :\n",
        "  print('입력한 정수는', num, '입니다.')\n",
        "\n",
        "finally :\n",
        "  print('프로그램이 완전히 종료되었습니다')"
      ],
      "metadata": {
        "colab": {
          "base_uri": "https://localhost:8080/"
        },
        "id": "1dLjZw-KKb9Y",
        "outputId": "7e7a41c6-14b1-41b7-9ede-7b020db524d7"
      },
      "execution_count": 26,
      "outputs": [
        {
          "output_type": "stream",
          "name": "stdout",
          "text": [
            "정수를 입력하세요 > ㅇㄴㅇㅁ\n",
            "정수를 입력하지 않았습니다\n",
            "프로그램이 완전히 종료되었습니다\n"
          ]
        }
      ]
    },
    {
      "cell_type": "code",
      "source": [
        "def test() :\n",
        "  print('test() 함수의 첫 줄입니다')\n",
        "  \n",
        "  try : \n",
        "    print('try 구문이 실행되었습니다.')\n",
        "    return\n",
        "    print('try 구문의 return 아래입니다')\n",
        "\n",
        "  except :\n",
        "    print('excpet 구문이 실행되었습니다')\n",
        "\n",
        "  else :\n",
        "    print('else 구문이 실행되었습니다.')\n",
        "    \n",
        "  finally :\n",
        "    print('finally 구문이 실행 되었습니다.')\n",
        "  \n",
        "  print('test() 함수의 마지막 줄입니다.')\n",
        "\n",
        "\n",
        "test()"
      ],
      "metadata": {
        "colab": {
          "base_uri": "https://localhost:8080/"
        },
        "id": "bAcDGAByLly5",
        "outputId": "a26ccc34-a392-4a2c-b7dc-b3ad18b5538f"
      },
      "execution_count": 27,
      "outputs": [
        {
          "output_type": "stream",
          "name": "stdout",
          "text": [
            "test() 함수의 첫 줄입니다\n",
            "try 구문이 실행되었습니다.\n",
            "finally 구문이 실행 되었습니다.\n"
          ]
        }
      ]
    },
    {
      "cell_type": "code",
      "source": [
        "print('프로그램 실행')\n",
        "\n",
        "while True :\n",
        "  try :\n",
        "    print(list[7])\n",
        "    break\n",
        "    print('try 구문의 break 아래')\n",
        "\n",
        "  except :\n",
        "    print('except 구문 실행')\n",
        "    break\n",
        "\n",
        "  finally :\n",
        "    print('finally 구문 실행')\n",
        "  \n",
        "  print('while의 마지막 줄')\n",
        "\n",
        "print('프로그램 종료')"
      ],
      "metadata": {
        "colab": {
          "base_uri": "https://localhost:8080/"
        },
        "id": "PYe0KWgbNaOY",
        "outputId": "699b50c6-4a50-4cad-91db-8a9f8f67a854"
      },
      "execution_count": 29,
      "outputs": [
        {
          "output_type": "stream",
          "name": "stdout",
          "text": [
            "프로그램 실행\n",
            "except 구문 실행\n",
            "finally 구문 실행\n",
            "프로그램 종료\n"
          ]
        }
      ]
    },
    {
      "cell_type": "code",
      "source": [
        "print('프로그램 실행')\n",
        "\n",
        "while True :\n",
        "  try :\n",
        "    print('try 구문 실행')\n",
        "    break\n",
        "    print('try 구문의 break 아래')\n",
        "\n",
        "  except :\n",
        "    print('except 구문 실행')\n",
        "\n",
        "  finally :\n",
        "    print('finally 구문 실행')\n",
        "  \n",
        "  print('while의 마지막 줄')\n",
        "\n",
        "print('프로그램 종료')"
      ],
      "metadata": {
        "id": "bwqnTHEWP7eV"
      },
      "execution_count": null,
      "outputs": []
    },
    {
      "cell_type": "code",
      "source": [
        "# 예외 만들기\n",
        "\n",
        "class MyError(Exception) : # 상속\n",
        "  pass\n",
        "\n",
        "def say_nick(nick) :\n",
        "  if nick == '바보' :\n",
        "    raise MyError()\n",
        "  print(nick)\n",
        "\n",
        "say_nick('바보')"
      ],
      "metadata": {
        "colab": {
          "base_uri": "https://localhost:8080/",
          "height": 344
        },
        "id": "BzAjuT72QANd",
        "outputId": "ab87c772-912c-4b96-f47f-0770a6dab843"
      },
      "execution_count": 33,
      "outputs": [
        {
          "output_type": "error",
          "ename": "MyError",
          "evalue": "ignored",
          "traceback": [
            "\u001b[0;31m---------------------------------------------------------------------------\u001b[0m",
            "\u001b[0;31mMyError\u001b[0m                                   Traceback (most recent call last)",
            "\u001b[0;32m<ipython-input-33-a187373f12b4>\u001b[0m in \u001b[0;36m<module>\u001b[0;34m()\u001b[0m\n\u001b[1;32m      9\u001b[0m   \u001b[0mprint\u001b[0m\u001b[0;34m(\u001b[0m\u001b[0mnick\u001b[0m\u001b[0;34m)\u001b[0m\u001b[0;34m\u001b[0m\u001b[0;34m\u001b[0m\u001b[0m\n\u001b[1;32m     10\u001b[0m \u001b[0;34m\u001b[0m\u001b[0m\n\u001b[0;32m---> 11\u001b[0;31m \u001b[0msay_nick\u001b[0m\u001b[0;34m(\u001b[0m\u001b[0;34m'바보'\u001b[0m\u001b[0;34m)\u001b[0m\u001b[0;34m\u001b[0m\u001b[0;34m\u001b[0m\u001b[0m\n\u001b[0m",
            "\u001b[0;32m<ipython-input-33-a187373f12b4>\u001b[0m in \u001b[0;36msay_nick\u001b[0;34m(nick)\u001b[0m\n\u001b[1;32m      6\u001b[0m \u001b[0;32mdef\u001b[0m \u001b[0msay_nick\u001b[0m\u001b[0;34m(\u001b[0m\u001b[0mnick\u001b[0m\u001b[0;34m)\u001b[0m \u001b[0;34m:\u001b[0m\u001b[0;34m\u001b[0m\u001b[0;34m\u001b[0m\u001b[0m\n\u001b[1;32m      7\u001b[0m   \u001b[0;32mif\u001b[0m \u001b[0mnick\u001b[0m \u001b[0;34m==\u001b[0m \u001b[0;34m'바보'\u001b[0m \u001b[0;34m:\u001b[0m\u001b[0;34m\u001b[0m\u001b[0;34m\u001b[0m\u001b[0m\n\u001b[0;32m----> 8\u001b[0;31m     \u001b[0;32mraise\u001b[0m \u001b[0mMyError\u001b[0m\u001b[0;34m(\u001b[0m\u001b[0;34m)\u001b[0m\u001b[0;34m\u001b[0m\u001b[0;34m\u001b[0m\u001b[0m\n\u001b[0m\u001b[1;32m      9\u001b[0m   \u001b[0mprint\u001b[0m\u001b[0;34m(\u001b[0m\u001b[0mnick\u001b[0m\u001b[0;34m)\u001b[0m\u001b[0;34m\u001b[0m\u001b[0;34m\u001b[0m\u001b[0m\n\u001b[1;32m     10\u001b[0m \u001b[0;34m\u001b[0m\u001b[0m\n",
            "\u001b[0;31mMyError\u001b[0m: "
          ]
        }
      ]
    }
  ]
}