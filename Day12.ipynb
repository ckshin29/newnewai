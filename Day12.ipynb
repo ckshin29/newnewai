{
  "nbformat": 4,
  "nbformat_minor": 0,
  "metadata": {
    "colab": {
      "name": "Day12.ipynb",
      "provenance": [],
      "collapsed_sections": [],
      "authorship_tag": "ABX9TyNYFw8MaX3/aweIMfx0nbaV",
      "include_colab_link": true
    },
    "kernelspec": {
      "name": "python3",
      "display_name": "Python 3"
    },
    "language_info": {
      "name": "python"
    }
  },
  "cells": [
    {
      "cell_type": "markdown",
      "metadata": {
        "id": "view-in-github",
        "colab_type": "text"
      },
      "source": [
        "<a href=\"https://colab.research.google.com/github/ckshin29/newnewai/blob/main/Day12.ipynb\" target=\"_parent\"><img src=\"https://colab.research.google.com/assets/colab-badge.svg\" alt=\"Open In Colab\"/></a>"
      ]
    },
    {
      "cell_type": "code",
      "execution_count": 2,
      "metadata": {
        "colab": {
          "base_uri": "https://localhost:8080/"
        },
        "id": "MyhF9QZi6rsH",
        "outputId": "d07a291d-6efe-4d2b-cd25-2ab3a8beda22"
      },
      "outputs": [
        {
          "output_type": "stream",
          "name": "stdout",
          "text": [
            "3\n"
          ]
        }
      ],
      "source": [
        "# Maths\n",
        "\n",
        "num = 3.141592\n",
        "\n",
        "print(round(num,2)) # Display a number rounded to two decimal places. 소수 둘째짜리 반올림해라"
      ]
    },
    {
      "cell_type": "code",
      "source": [
        "10**2 # 10의 2승 (거듭제곱)"
      ],
      "metadata": {
        "colab": {
          "base_uri": "https://localhost:8080/"
        },
        "id": "it1buoLt7JgB",
        "outputId": "ac4b0e55-5fa7-4c64-bd68-8b56ead15b7d"
      },
      "execution_count": 3,
      "outputs": [
        {
          "output_type": "execute_result",
          "data": {
            "text/plain": [
              "100"
            ]
          },
          "metadata": {},
          "execution_count": 3
        }
      ]
    },
    {
      "cell_type": "code",
      "source": [
        "import math\n",
        "\n",
        "math.sqrt(100) # 100의 제곱근\n",
        "\n",
        "# The square root of a number but you must have the line 'import math'\n",
        "# at the top of your program for this to work"
      ],
      "metadata": {
        "colab": {
          "base_uri": "https://localhost:8080/"
        },
        "id": "ztcGSk5r7ZDB",
        "outputId": "68869323-d1f3-476d-d265-622715c209b1"
      },
      "execution_count": 4,
      "outputs": [
        {
          "output_type": "execute_result",
          "data": {
            "text/plain": [
              "10.0"
            ]
          },
          "metadata": {},
          "execution_count": 4
        }
      ]
    },
    {
      "cell_type": "code",
      "source": [
        "math.pi\n",
        "\n",
        "# Gives you pi to decimal places, but you must have the line 'import math'\n",
        "# at the top of your program for this to work"
      ],
      "metadata": {
        "colab": {
          "base_uri": "https://localhost:8080/"
        },
        "id": "vyY8C6TL70GC",
        "outputId": "e7297bda-cf5a-482a-8517-8303fa38e249"
      },
      "execution_count": 6,
      "outputs": [
        {
          "output_type": "execute_result",
          "data": {
            "text/plain": [
              "3.141592653589793"
            ]
          },
          "metadata": {},
          "execution_count": 6
        }
      ]
    },
    {
      "cell_type": "code",
      "source": [
        "15 // 2 \n",
        "\n",
        "# Whole number divison 15//2 gives the answer 7"
      ],
      "metadata": {
        "colab": {
          "base_uri": "https://localhost:8080/"
        },
        "id": "yQELzkZS8DFL",
        "outputId": "206b9eda-9de9-4118-be21-7d0844257951"
      },
      "execution_count": 8,
      "outputs": [
        {
          "output_type": "execute_result",
          "data": {
            "text/plain": [
              "7"
            ]
          },
          "metadata": {},
          "execution_count": 8
        }
      ]
    },
    {
      "cell_type": "code",
      "source": [
        "15 % 2\n",
        "\n",
        "# Finds the remainder. 15 % 2 gives the answer 1"
      ],
      "metadata": {
        "id": "f0GMlh8T8XNJ"
      },
      "execution_count": null,
      "outputs": []
    },
    {
      "cell_type": "code",
      "source": [
        "# Ask the user to enter an integer that is over 500. Work out the \n",
        "# square root of that number and display it to two decimal places.\n",
        "\n",
        "# (input) 'Enter a number over 500:'\n",
        "\n",
        "import math\n",
        "\n",
        "num = int(input('Enter a number over : 500 '))\n",
        "\n",
        "print(f'{round(math.sqrt(num),2)}')"
      ],
      "metadata": {
        "colab": {
          "base_uri": "https://localhost:8080/"
        },
        "id": "k__ZA17_8rAg",
        "outputId": "2be85744-42ae-4365-8066-39ed1372e57e"
      },
      "execution_count": 11,
      "outputs": [
        {
          "output_type": "stream",
          "name": "stdout",
          "text": [
            "Enter a number over : 500 523\n",
            "22.87\n"
          ]
        }
      ]
    },
    {
      "cell_type": "code",
      "source": [
        "# Ask the user to enter the radius of a circle.\n",
        "# Work out the area of the circle. (pi * radius**2)\n",
        "\n",
        "# (input) 'Enter the radius of the circle : '\n",
        "\n",
        "# radius = 반지름\n",
        "import math\n",
        "\n",
        "radius = int(input('Enter a radius of a circle : '))\n",
        "\n",
        "print(f'{math.pi * radius**2}')"
      ],
      "metadata": {
        "colab": {
          "base_uri": "https://localhost:8080/"
        },
        "id": "t-jMC6aD-Qwp",
        "outputId": "abc49812-5790-4c7e-bd12-2333c381b7f9"
      },
      "execution_count": 12,
      "outputs": [
        {
          "output_type": "stream",
          "name": "stdout",
          "text": [
            "Enter a radius of a circle : 4\n",
            "50.26548245743669\n"
          ]
        }
      ]
    },
    {
      "cell_type": "code",
      "source": [
        "# Ask the user to enter two numbers. Use whole number division to divide\n",
        "# the first number by the second and also work out the remainder and \n",
        "# display the answer in a user-friendly way ...\n",
        "# if they enter 7 and 2 display'7 divided by 2 is 3 with 1 remaining'\n",
        "\n",
        "# (input) 'Enter a first number :  7\n",
        "# (input) 'Enter a second number : 2\n",
        "\n",
        "# (output) 7 divided by 2 is 3 with 1 remaining\n",
        "\n",
        "\n",
        "n1 = int(input('Enter a number : '))\n",
        "n2 = int(input('Enter a number : '))\n",
        "\n",
        "a = n1 // n2\n",
        "b = n1 % n2 \n",
        "\n",
        "print(f'{n1} divided by {n2} is {a} with {b} remaining')"
      ],
      "metadata": {
        "colab": {
          "base_uri": "https://localhost:8080/"
        },
        "id": "grGSz5P3_ED6",
        "outputId": "20b07eaa-f17e-4227-dcf2-d4ac4c4b2420"
      },
      "execution_count": 13,
      "outputs": [
        {
          "output_type": "stream",
          "name": "stdout",
          "text": [
            "Enter a number : 7\n",
            "Enter a number : 2\n",
            "7 divided by 2 is 3 with 1 remaining\n"
          ]
        }
      ]
    },
    {
      "cell_type": "code",
      "source": [
        "print(f'1) Square \\n2) Triangle')\n",
        "\n",
        "select = int(input('\\nEnter a number >> '))\n",
        "\n",
        "if select == 1 :\n",
        "  side = int(input('Enter a length of one of sides >> '))\n",
        "\n",
        "  print(f'The area of your chosen shape is {side * side}')\n",
        "\n",
        "elif select == 2 :\n",
        "  base = int(input('Enter a length of base of Triangle >> '))\n",
        "  height = int(input('Enter a height of one of sides >> '))\n",
        "\n",
        "  print(f'The area of your chosen shape is {round(base * height / 2)}')\n",
        "\n",
        "else :\n",
        "  print('Error')"
      ],
      "metadata": {
        "colab": {
          "base_uri": "https://localhost:8080/"
        },
        "id": "81BurqbcATLJ",
        "outputId": "abf915e1-45f8-4c6a-969a-75bd1f6bf03d"
      },
      "execution_count": 25,
      "outputs": [
        {
          "output_type": "stream",
          "name": "stdout",
          "text": [
            "1) Square \n",
            "2) Triangle\n",
            "\n",
            "Enter a number >> 2\n",
            "Enter a length of base of Triangle >> 4\n",
            "Enter a height of one of sides >> 3\n",
            "6\n"
          ]
        }
      ]
    },
    {
      "cell_type": "code",
      "source": [
        "##############################################\n",
        "# For\n",
        "##############################################\n",
        "\n",
        "# The range fuction is often used in for loops and list the starting number\n",
        "# the ending number and can also include the steps\n",
        "\n",
        "# for i in range(start, stop, step)\n",
        "\n"
      ],
      "metadata": {
        "id": "DJLjM0ncD1iZ"
      },
      "execution_count": null,
      "outputs": []
    },
    {
      "cell_type": "code",
      "source": [
        "for i in range (0,5) :\n",
        "  print(i)"
      ],
      "metadata": {
        "colab": {
          "base_uri": "https://localhost:8080/"
        },
        "id": "-ePf21VHJUtk",
        "outputId": "1d6915f0-0951-4378-f179-cb19a747ec17"
      },
      "execution_count": 30,
      "outputs": [
        {
          "output_type": "stream",
          "name": "stdout",
          "text": [
            "0\n",
            "1\n",
            "2\n",
            "3\n",
            "4\n"
          ]
        }
      ]
    },
    {
      "cell_type": "code",
      "source": [
        "for i in range (5) :\n",
        "  print(i)"
      ],
      "metadata": {
        "colab": {
          "base_uri": "https://localhost:8080/"
        },
        "id": "mi-ZQPh4JUuq",
        "outputId": "abea10b6-453a-4cf2-f10d-660b80e66a9d"
      },
      "execution_count": 27,
      "outputs": [
        {
          "output_type": "stream",
          "name": "stdout",
          "text": [
            "0\n",
            "1\n",
            "2\n",
            "3\n",
            "4\n"
          ]
        }
      ]
    },
    {
      "cell_type": "code",
      "source": [
        "for i in range (0,5,1) :\n",
        "  print(i)"
      ],
      "metadata": {
        "colab": {
          "base_uri": "https://localhost:8080/"
        },
        "id": "rFRrGl0eIelu",
        "outputId": "70907b65-5571-493e-8716-f5ef759fef77"
      },
      "execution_count": 29,
      "outputs": [
        {
          "output_type": "stream",
          "name": "stdout",
          "text": [
            "0\n",
            "1\n",
            "2\n",
            "3\n",
            "4\n"
          ]
        }
      ]
    },
    {
      "cell_type": "code",
      "source": [
        "no = [0,1,2,3,4]\n",
        "\n",
        "for i in no:\n",
        "  print(i)"
      ],
      "metadata": {
        "id": "7FJmKi7dJiDI"
      },
      "execution_count": null,
      "outputs": []
    },
    {
      "cell_type": "code",
      "source": [
        "# \n",
        "\n",
        "name = input('Enter your name >> ')\n",
        "time = int(input('How many times? >> '))\n",
        "\n",
        "for i in range(time) :\n",
        "  print(f'{name} {i+1}')\n",
        "\n"
      ],
      "metadata": {
        "colab": {
          "base_uri": "https://localhost:8080/"
        },
        "id": "8BCY0ABYKAsH",
        "outputId": "1c7c1569-e13d-4804-edff-db24713419dd"
      },
      "execution_count": 34,
      "outputs": [
        {
          "output_type": "stream",
          "name": "stdout",
          "text": [
            "Enter your name >> shin\n",
            "How many times? >> 5\n",
            "shin 1\n",
            "shin 2\n",
            "shin 3\n",
            "shin 4\n",
            "shin 5\n"
          ]
        }
      ]
    },
    {
      "cell_type": "code",
      "source": [
        "name = input('Enter your name >> ')\n",
        "\n",
        "for i in name :\n",
        "  print(f'{i}')"
      ],
      "metadata": {
        "colab": {
          "base_uri": "https://localhost:8080/"
        },
        "id": "XiMWen7CMPxo",
        "outputId": "5bd78e44-794c-46a5-8046-0c1c4541c423"
      },
      "execution_count": 40,
      "outputs": [
        {
          "output_type": "stream",
          "name": "stdout",
          "text": [
            "Enter your name >> shin\n",
            "s\n",
            "h\n",
            "i\n",
            "n\n"
          ]
        }
      ]
    },
    {
      "cell_type": "code",
      "source": [
        ""
      ],
      "metadata": {
        "id": "yIs_RQLJM8_j"
      },
      "execution_count": null,
      "outputs": []
    },
    {
      "cell_type": "code",
      "source": [
        "num = int(input('Enter a number below 50 >> '))\n",
        "\n",
        "for i in range(50,num,-1) :\n",
        "  print(f'{i}')\n"
      ],
      "metadata": {
        "colab": {
          "base_uri": "https://localhost:8080/"
        },
        "id": "gpJSnByYM9Af",
        "outputId": "d8b09624-d0ed-407c-8a53-cd9bc5007155"
      },
      "execution_count": 54,
      "outputs": [
        {
          "name": "stdout",
          "output_type": "stream",
          "text": [
            "Enter a number below 50 >> 50\n"
          ]
        }
      ]
    },
    {
      "cell_type": "code",
      "source": [
        "\n",
        "total = 0\n",
        "\n",
        "for i in range(5) :\n",
        "  num = int(input('Enter a number'))\n",
        "  q = input('You want add this number to total? ')\n",
        "  if q == 'yes' :\n",
        "    total = total+num\n",
        "\n",
        "\n",
        "print(total)\n",
        "\n"
      ],
      "metadata": {
        "colab": {
          "base_uri": "https://localhost:8080/"
        },
        "id": "mSazk7XLOsWn",
        "outputId": "23832ce5-e7e5-4007-c199-1185d712e6a4"
      },
      "execution_count": 59,
      "outputs": [
        {
          "output_type": "stream",
          "name": "stdout",
          "text": [
            "Enter a number 5\n",
            "You want add this number to total? yes\n",
            "Enter a number 4\n",
            "You want add this number to total? yes\n",
            "Enter a number 3\n",
            "You want add this number to total? no\n",
            "Enter a number 1\n",
            "You want add this number to total? yes\n",
            "Enter a number 0\n",
            "You want add this number to total? no\n",
            "10\n"
          ]
        }
      ]
    },
    {
      "cell_type": "code",
      "source": [
        "dir = input('Count up or down? (up/down) >> ')\n",
        "\n",
        "if dir == 'up' :\n",
        "  num = int(input('Enter a top number >> '))\n",
        "  for i in range(1,num+1) :\n",
        "    print(i)\n",
        "    \n",
        "elif dir == 'down' :\n",
        "  num = int(input('Enter a top number below 20 >> '))\n",
        "  for i in range(num,0,-1) :\n",
        "    print(i)\n",
        "\n",
        "else :\n",
        "  print('what???')\n",
        "\n",
        "\n"
      ],
      "metadata": {
        "colab": {
          "base_uri": "https://localhost:8080/"
        },
        "id": "otElXx2xVa4x",
        "outputId": "0f7fc8a1-f80f-4d49-d284-c45fa2467d40"
      },
      "execution_count": 69,
      "outputs": [
        {
          "output_type": "stream",
          "name": "stdout",
          "text": [
            "Count up or down? (up/down) >> d\n",
            "what???\n"
          ]
        }
      ]
    },
    {
      "cell_type": "code",
      "source": [
        "p = int(input('How many peoples do you want to invite? '))\n",
        "\n",
        "if p < 10 :\n",
        "  for i in range(1,p+1) :\n",
        "    name = input('Enter the name of people who you want to invite >> ')\n",
        "    print(f'{name} has been invited! ')\n",
        "else :\n",
        "  print('umm...i think that is too many')"
      ],
      "metadata": {
        "colab": {
          "base_uri": "https://localhost:8080/"
        },
        "id": "5De-rY03Yzpf",
        "outputId": "ad82437e-a250-46d7-ac21-955b9cd2da05"
      },
      "execution_count": 73,
      "outputs": [
        {
          "output_type": "stream",
          "name": "stdout",
          "text": [
            "How many peoples do you want to invite? 1\n",
            "Enter the name of people who you want to invite >> maisy\n",
            "maisy has been invited! \n"
          ]
        }
      ]
    },
    {
      "cell_type": "code",
      "source": [
        "##################################################\n",
        "# While\n",
        "##################################################\n",
        "\n",
        "total = 0\n",
        "\n",
        "while total < 100 :\n",
        "  num = int(input('Enter a number : '))\n",
        "  total = total + num\n",
        "print('The total is', total)\n"
      ],
      "metadata": {
        "colab": {
          "base_uri": "https://localhost:8080/"
        },
        "id": "k4GHr3b1b0wv",
        "outputId": "abd0eb7a-6804-4377-b456-81e6afc31f67"
      },
      "execution_count": 75,
      "outputs": [
        {
          "output_type": "stream",
          "name": "stdout",
          "text": [
            "Enter a number : 99\n",
            "Enter a number : 10\n",
            "The total is 109\n"
          ]
        }
      ]
    },
    {
      "cell_type": "code",
      "source": [
        "total = 0\n",
        "\n",
        "while total <= 50 :\n",
        "  num = int(input('Enter a number >> '))\n",
        "  total = total + num\n",
        "  if total <= 50 :\n",
        "    print(f'total is {total}')\n"
      ],
      "metadata": {
        "colab": {
          "base_uri": "https://localhost:8080/"
        },
        "id": "5sdjMV5SdY3r",
        "outputId": "6e217454-a1cc-4f81-bdb8-400b67d09d1e"
      },
      "execution_count": 78,
      "outputs": [
        {
          "name": "stdout",
          "output_type": "stream",
          "text": [
            "Enter a number >> 44\n",
            "total is 44\n",
            "Enter a number >> 7\n"
          ]
        }
      ]
    },
    {
      "cell_type": "code",
      "source": [
        "total = 0\n",
        "\n",
        "while total <= 50 :\n",
        "  num = int(input('Enter a number >> '))\n",
        "  total = total + num\n",
        "    \n",
        "print(f'total is {total-num}')\n"
      ],
      "metadata": {
        "colab": {
          "base_uri": "https://localhost:8080/"
        },
        "id": "58FIb2DTfwA3",
        "outputId": "17e24880-7cc1-41c0-85e2-9cfc0fa88c1d"
      },
      "execution_count": 79,
      "outputs": [
        {
          "output_type": "stream",
          "name": "stdout",
          "text": [
            "Enter a number >> 44\n",
            "Enter a number >> 5\n",
            "Enter a number >> 7\n",
            "total is 49\n"
          ]
        }
      ]
    },
    {
      "cell_type": "code",
      "source": [
        ""
      ],
      "metadata": {
        "id": "6v1VeyvXgJaG"
      },
      "execution_count": null,
      "outputs": []
    }
  ]
}