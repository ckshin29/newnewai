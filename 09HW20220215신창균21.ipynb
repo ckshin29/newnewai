{
  "nbformat": 4,
  "nbformat_minor": 0,
  "metadata": {
    "colab": {
      "name": "09HW20220215신창균21.ipynb",
      "provenance": [],
      "collapsed_sections": [],
      "authorship_tag": "ABX9TyOBO/8TLuavetnEgih+oCc/",
      "include_colab_link": true
    },
    "kernelspec": {
      "name": "python3",
      "display_name": "Python 3"
    },
    "language_info": {
      "name": "python"
    }
  },
  "cells": [
    {
      "cell_type": "markdown",
      "metadata": {
        "id": "view-in-github",
        "colab_type": "text"
      },
      "source": [
        "<a href=\"https://colab.research.google.com/github/ckshin29/newnewai/blob/main/09HW20220215%EC%8B%A0%EC%B0%BD%EA%B7%A021.ipynb\" target=\"_parent\"><img src=\"https://colab.research.google.com/assets/colab-badge.svg\" alt=\"Open In Colab\"/></a>"
      ]
    },
    {
      "cell_type": "code",
      "execution_count": null,
      "metadata": {
        "id": "gL7QQuLWdx55"
      },
      "outputs": [],
      "source": [
        "# 496 : b\n",
        "# 497 : c\n",
        "# 498 : c\n",
        "# 499 : c\n",
        "# 500 : d\n",
        "# 501 : a\n",
        "# 502 : c\n",
        "# 503 : d\n",
        "# 504 : b\n",
        "# 505 : ?\n",
        "# 506 : a\n",
        "# 507 : b\n",
        "# 508 : a\n",
        "# 509 : c\n",
        "# 510 : d\n",
        "# 511 : b\n",
        "# 512 : b\n",
        "# 513 : a\n",
        "# 514 : b\n",
        "# 515 : c\n",
        "\n"
      ]
    },
    {
      "cell_type": "code",
      "source": [
        "def search(x,y,z) :\n",
        "\n",
        "  if x+y+z != 180 :\n",
        "    print('3개의 각의 합이 180도가 아닙니다.')\n",
        "\n",
        "  elif x < 90 and y < 90 and z < 90 :\n",
        "    print('예각삼각형입니다.')\n",
        "\n",
        "  elif x == 90 or y == 90 or z == 90 :\n",
        "    print('직각삼각형입니다.')\n",
        "\n",
        "  elif x > 90 or y > 90 > z == 90 :\n",
        "    print('둔각삼각형입니다.')\n",
        "\n",
        "  return ''\n",
        "\n",
        "x=int(input('제 1각을 입력하세요 >> '))\n",
        "y=int(input('제 2각을 입력하세요 >> '))\n",
        "z=int(input('제 3각을 입력하세요 >> '))\n",
        "  \n",
        "\n",
        "print(search(x,y,z))"
      ],
      "metadata": {
        "colab": {
          "base_uri": "https://localhost:8080/"
        },
        "id": "T0qjJY9fhQfC",
        "outputId": "f3aea3ac-f5f2-4ca5-ddf5-cd85b88cf4d0"
      },
      "execution_count": 26,
      "outputs": [
        {
          "output_type": "stream",
          "name": "stdout",
          "text": [
            "제 1각을 입력하세요 >> 60\n",
            "제 2각을 입력하세요 >> 60\n",
            "제 3각을 입력하세요 >> 60\n",
            "예각삼각형입니다.\n",
            "\n"
          ]
        }
      ]
    }
  ]
}