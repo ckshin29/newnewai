{
  "nbformat": 4,
  "nbformat_minor": 0,
  "metadata": {
    "colab": {
      "name": "04HW20220207신창균21.ipynb",
      "provenance": [],
      "collapsed_sections": [],
      "authorship_tag": "ABX9TyNG+yRVocue+2BlcJLA+Dlz",
      "include_colab_link": true
    },
    "kernelspec": {
      "name": "python3",
      "display_name": "Python 3"
    },
    "language_info": {
      "name": "python"
    }
  },
  "cells": [
    {
      "cell_type": "markdown",
      "metadata": {
        "id": "view-in-github",
        "colab_type": "text"
      },
      "source": [
        "<a href=\"https://colab.research.google.com/github/ckshin29/newnewai/blob/main/04HW20220207%EC%8B%A0%EC%B0%BD%EA%B7%A021.ipynb\" target=\"_parent\"><img src=\"https://colab.research.google.com/assets/colab-badge.svg\" alt=\"Open In Colab\"/></a>"
      ]
    },
    {
      "cell_type": "code",
      "execution_count": 1,
      "metadata": {
        "id": "a4QAzi5EPbQr"
      },
      "outputs": [],
      "source": [
        "#211\n",
        "\n",
        "# 안녕\n",
        "\n",
        "# Hi"
      ]
    },
    {
      "cell_type": "code",
      "source": [
        "#212\n",
        "\n",
        "# 11\n",
        "\n",
        "# 15"
      ],
      "metadata": {
        "id": "mJ7IA3S6PtSz"
      },
      "execution_count": 2,
      "outputs": []
    },
    {
      "cell_type": "code",
      "source": [
        "#213\n",
        "\n",
        "#매개 변수를 넣지 않아서\n"
      ],
      "metadata": {
        "id": "r3_0nFVpPyrz"
      },
      "execution_count": 3,
      "outputs": []
    },
    {
      "cell_type": "code",
      "source": [
        "#214\n",
        "\n",
        "#정수 대신 문자열을 넣어서"
      ],
      "metadata": {
        "id": "QDLwpG4mQHyc"
      },
      "execution_count": 4,
      "outputs": []
    },
    {
      "cell_type": "code",
      "source": [
        "#215\n",
        "\n",
        "def print_with_smile(a) :\n",
        "  print(f'{a}',end=\":D\")\n",
        "\n",
        "print(print_with_smile(\"안녕하세요\"))\n",
        "\n",
        "#?????"
      ],
      "metadata": {
        "colab": {
          "base_uri": "https://localhost:8080/"
        },
        "id": "vdasfvmMQHzD",
        "outputId": "43ac9a1e-c9a2-459e-bc71-22ddb212d1c2"
      },
      "execution_count": 5,
      "outputs": [
        {
          "output_type": "stream",
          "name": "stdout",
          "text": [
            "안녕하세요:DNone\n"
          ]
        }
      ]
    },
    {
      "cell_type": "code",
      "source": [
        "#216\n",
        "\n",
        "def print_with_smile(a) :\n",
        "  print(f'{a}',end=\":D\")\n",
        "\n",
        "print(print_with_smile(\"안녕하세요\"))\n",
        "\n",
        "#?????"
      ],
      "metadata": {
        "colab": {
          "base_uri": "https://localhost:8080/"
        },
        "id": "nWdMG8iNSAus",
        "outputId": "788b78d2-489f-4480-a649-314ba93882f3"
      },
      "execution_count": 6,
      "outputs": [
        {
          "output_type": "stream",
          "name": "stdout",
          "text": [
            "안녕하세요:DNone\n"
          ]
        }
      ]
    },
    {
      "cell_type": "code",
      "source": [
        "#217\n",
        "\n",
        "def print_upper_price(a) :\n",
        "  a = a*1.3\n",
        "  return a\n",
        "\n",
        "print(print_upper_price(100))\n",
        "\n"
      ],
      "metadata": {
        "colab": {
          "base_uri": "https://localhost:8080/"
        },
        "id": "HyOD97yXSIvK",
        "outputId": "849e890e-06cb-47c9-b384-15b7d86486f6"
      },
      "execution_count": 7,
      "outputs": [
        {
          "output_type": "stream",
          "name": "stdout",
          "text": [
            "130.0\n"
          ]
        }
      ]
    },
    {
      "cell_type": "code",
      "source": [
        "#218\n",
        "\n",
        "def print_sum(a,b) :\n",
        "  return a+b\n",
        "\n",
        "print(print_sum(10,15))\n"
      ],
      "metadata": {
        "colab": {
          "base_uri": "https://localhost:8080/"
        },
        "id": "7YOXdrmrStI6",
        "outputId": "18ce4699-664f-4517-be52-887094e5f16a"
      },
      "execution_count": 8,
      "outputs": [
        {
          "output_type": "stream",
          "name": "stdout",
          "text": [
            "25\n"
          ]
        }
      ]
    },
    {
      "cell_type": "code",
      "source": [
        "#219\n",
        "\n",
        "def print_arithmetic_operation(a,b) :\n",
        "  print(f'{a} + {b} = {a+b}')\n",
        "  print(f'{a} - {b} = {a-b}')\n",
        "  print(f'{a} * {b} = {a*b}')\n",
        "  print(f'{a} / {b} = {a/b}')\n",
        "  \n",
        "  return\n",
        "\n",
        "print_arithmetic_operation(3,4) \n"
      ],
      "metadata": {
        "colab": {
          "base_uri": "https://localhost:8080/"
        },
        "id": "XFHptXFqSIv0",
        "outputId": "2281a3f3-0512-4982-cbdb-555f87c649f6"
      },
      "execution_count": 9,
      "outputs": [
        {
          "output_type": "stream",
          "name": "stdout",
          "text": [
            "3 + 4 = 7\n",
            "3 - 4 = -1\n",
            "3 * 4 = 12\n",
            "3 / 4 = 0.75\n"
          ]
        }
      ]
    },
    {
      "cell_type": "code",
      "source": [
        "#220\n",
        "\n",
        "def print_max(a,b,c) :\n",
        "  if a > b or a > c :\n",
        "    print(a)\n",
        "  elif b > c :\n",
        "    print(b)\n",
        "  else :\n",
        "    print(c)\n",
        "  \n",
        "  return\n",
        "  \n",
        "print_max(5,11,10)"
      ],
      "metadata": {
        "colab": {
          "base_uri": "https://localhost:8080/"
        },
        "id": "uClIsc65TrM7",
        "outputId": "79461e0f-84e4-42a3-9caf-eaa49441d933"
      },
      "execution_count": 10,
      "outputs": [
        {
          "output_type": "stream",
          "name": "stdout",
          "text": [
            "11\n"
          ]
        }
      ]
    },
    {
      "cell_type": "code",
      "source": [
        "#221\n",
        "\n",
        "#def print_reverse(a) :\n",
        "\n",
        "#?????????????????"
      ],
      "metadata": {
        "id": "V4VnD5pfUFcT"
      },
      "execution_count": 11,
      "outputs": []
    },
    {
      "cell_type": "code",
      "source": [
        "#222\n",
        "\n",
        "def print_score(*args) :\n",
        "  for i in args :\n",
        "    n = 0\n",
        "    i += i\n",
        "    n += 1\n",
        "  print((sum(args)/int(n))\n",
        "  return\n",
        "\n",
        "print_score([1,2,3])\n",
        "\n",
        "#?????????????\n"
      ],
      "metadata": {
        "colab": {
          "base_uri": "https://localhost:8080/",
          "height": 139
        },
        "id": "9lQITrCiUtE6",
        "outputId": "b37c668b-7558-4378-908f-34220eaf5315"
      },
      "execution_count": 13,
      "outputs": [
        {
          "output_type": "error",
          "ename": "SyntaxError",
          "evalue": "ignored",
          "traceback": [
            "\u001b[0;36m  File \u001b[0;32m\"<ipython-input-13-361fb43213ed>\"\u001b[0;36m, line \u001b[0;32m9\u001b[0m\n\u001b[0;31m    return\u001b[0m\n\u001b[0m         ^\u001b[0m\n\u001b[0;31mSyntaxError\u001b[0m\u001b[0;31m:\u001b[0m invalid syntax\n"
          ]
        }
      ]
    },
    {
      "cell_type": "code",
      "source": [
        "#223\n",
        "\n",
        "def print_even(*args) :\n",
        "  for i in args :\n",
        "    if i%2 == 0:\n",
        "      prinf(i)\n",
        "    else :\n",
        "      return\n",
        "\n",
        "print_even([1,3,2,10,12])\n",
        "\n",
        "#?????????????\n",
        "\n"
      ],
      "metadata": {
        "id": "vgIgYSCRWTe5",
        "colab": {
          "base_uri": "https://localhost:8080/",
          "height": 251
        },
        "outputId": "c38a25be-cea7-48c9-8313-d9e6779a3d73"
      },
      "execution_count": 18,
      "outputs": [
        {
          "output_type": "error",
          "ename": "TypeError",
          "evalue": "ignored",
          "traceback": [
            "\u001b[0;31m---------------------------------------------------------------------------\u001b[0m",
            "\u001b[0;31mTypeError\u001b[0m                                 Traceback (most recent call last)",
            "\u001b[0;32m<ipython-input-18-395675507fcf>\u001b[0m in \u001b[0;36m<module>\u001b[0;34m()\u001b[0m\n\u001b[1;32m      8\u001b[0m       \u001b[0;32mreturn\u001b[0m\u001b[0;34m\u001b[0m\u001b[0;34m\u001b[0m\u001b[0m\n\u001b[1;32m      9\u001b[0m \u001b[0;34m\u001b[0m\u001b[0m\n\u001b[0;32m---> 10\u001b[0;31m \u001b[0mprint_even\u001b[0m\u001b[0;34m(\u001b[0m\u001b[0mint\u001b[0m\u001b[0;34m[\u001b[0m\u001b[0;36m1\u001b[0m\u001b[0;34m,\u001b[0m\u001b[0;36m3\u001b[0m\u001b[0;34m,\u001b[0m\u001b[0;36m2\u001b[0m\u001b[0;34m,\u001b[0m\u001b[0;36m10\u001b[0m\u001b[0;34m,\u001b[0m\u001b[0;36m12\u001b[0m\u001b[0;34m]\u001b[0m\u001b[0;34m)\u001b[0m\u001b[0;34m\u001b[0m\u001b[0;34m\u001b[0m\u001b[0m\n\u001b[0m\u001b[1;32m     11\u001b[0m \u001b[0;34m\u001b[0m\u001b[0m\n\u001b[1;32m     12\u001b[0m \u001b[0;31m#?????????????\u001b[0m\u001b[0;34m\u001b[0m\u001b[0;34m\u001b[0m\u001b[0;34m\u001b[0m\u001b[0m\n",
            "\u001b[0;31mTypeError\u001b[0m: 'type' object is not subscriptable"
          ]
        }
      ]
    },
    {
      "cell_type": "code",
      "source": [
        "#224\n",
        "\n",
        "def print_keys(a) :\n",
        "  print(a.keys())\n",
        "  return\n",
        "\n",
        "print_keys ({\"이름\":\"김말똥\", \"나이\":30, \"성별\":0})\n",
        "\n",
        "\n"
      ],
      "metadata": {
        "colab": {
          "base_uri": "https://localhost:8080/"
        },
        "id": "KXX0ETKzMSyG",
        "outputId": "194c2dcd-baee-48de-a1d9-30f6e34f0caa"
      },
      "execution_count": 21,
      "outputs": [
        {
          "output_type": "stream",
          "name": "stdout",
          "text": [
            "dict_keys(['이름', '나이', '성별'])\n"
          ]
        }
      ]
    },
    {
      "cell_type": "code",
      "source": [
        "#225\n",
        "\n",
        "my_dict = {\"10/26\" : [100, 130, 100, 100],\n",
        " \"10/27\" : [10, 12, 10, 11]}\n",
        "\n",
        "\n",
        "def print_value_by_key(a,b) :\n",
        "  print(a.value())\n",
        "  return\n",
        "\n",
        "print_value_by_key (my_dict, \"10/26\")\n",
        "\n",
        "#??????????????????\n",
        "\n",
        "\n"
      ],
      "metadata": {
        "colab": {
          "base_uri": "https://localhost:8080/",
          "height": 381
        },
        "id": "RyFCUav9O86r",
        "outputId": "06ed2f2d-3338-4728-a7c3-fbb10b573a2a"
      },
      "execution_count": 22,
      "outputs": [
        {
          "output_type": "error",
          "ename": "AttributeError",
          "evalue": "ignored",
          "traceback": [
            "\u001b[0;31m---------------------------------------------------------------------------\u001b[0m",
            "\u001b[0;31mAttributeError\u001b[0m                            Traceback (most recent call last)",
            "\u001b[0;32m<ipython-input-22-e74a51799976>\u001b[0m in \u001b[0;36m<module>\u001b[0;34m()\u001b[0m\n\u001b[1;32m      9\u001b[0m   \u001b[0;32mreturn\u001b[0m\u001b[0;34m\u001b[0m\u001b[0;34m\u001b[0m\u001b[0m\n\u001b[1;32m     10\u001b[0m \u001b[0;34m\u001b[0m\u001b[0m\n\u001b[0;32m---> 11\u001b[0;31m \u001b[0mprint_value_by_key\u001b[0m \u001b[0;34m(\u001b[0m\u001b[0mmy_dict\u001b[0m\u001b[0;34m,\u001b[0m \u001b[0;34m\"10/26\"\u001b[0m\u001b[0;34m)\u001b[0m\u001b[0;34m\u001b[0m\u001b[0;34m\u001b[0m\u001b[0m\n\u001b[0m\u001b[1;32m     12\u001b[0m \u001b[0;34m\u001b[0m\u001b[0m\n\u001b[1;32m     13\u001b[0m \u001b[0;34m\u001b[0m\u001b[0m\n",
            "\u001b[0;32m<ipython-input-22-e74a51799976>\u001b[0m in \u001b[0;36mprint_value_by_key\u001b[0;34m(a, b)\u001b[0m\n\u001b[1;32m      6\u001b[0m \u001b[0;34m\u001b[0m\u001b[0m\n\u001b[1;32m      7\u001b[0m \u001b[0;32mdef\u001b[0m \u001b[0mprint_value_by_key\u001b[0m\u001b[0;34m(\u001b[0m\u001b[0ma\u001b[0m\u001b[0;34m,\u001b[0m\u001b[0mb\u001b[0m\u001b[0;34m)\u001b[0m \u001b[0;34m:\u001b[0m\u001b[0;34m\u001b[0m\u001b[0;34m\u001b[0m\u001b[0m\n\u001b[0;32m----> 8\u001b[0;31m   \u001b[0mprint\u001b[0m\u001b[0;34m(\u001b[0m\u001b[0ma\u001b[0m\u001b[0;34m.\u001b[0m\u001b[0mvalue\u001b[0m\u001b[0;34m(\u001b[0m\u001b[0;34m)\u001b[0m\u001b[0;34m)\u001b[0m\u001b[0;34m\u001b[0m\u001b[0;34m\u001b[0m\u001b[0m\n\u001b[0m\u001b[1;32m      9\u001b[0m   \u001b[0;32mreturn\u001b[0m\u001b[0;34m\u001b[0m\u001b[0;34m\u001b[0m\u001b[0m\n\u001b[1;32m     10\u001b[0m \u001b[0;34m\u001b[0m\u001b[0m\n",
            "\u001b[0;31mAttributeError\u001b[0m: 'dict' object has no attribute 'value'"
          ]
        }
      ]
    },
    {
      "cell_type": "code",
      "source": [
        "#226\n",
        "\n",
        "def print_5xn(string) :\n",
        "  for s in (string)\n",
        "\n",
        "#?????????????????"
      ],
      "metadata": {
        "id": "CQhUj7KQbDOH"
      },
      "execution_count": null,
      "outputs": []
    },
    {
      "cell_type": "code",
      "source": [
        "#227 문자열 복습 필요"
      ],
      "metadata": {
        "id": "H2lxCAGEcp7t"
      },
      "execution_count": null,
      "outputs": []
    },
    {
      "cell_type": "code",
      "source": [
        "#228\n",
        "\n",
        "def calc_monthly_salary(annual_salary) :\n",
        "  print(annual_salary/12)\n",
        "  return\n",
        "\n",
        "calc_monthly_salary(1200000)\n",
        "\n"
      ],
      "metadata": {
        "colab": {
          "base_uri": "https://localhost:8080/"
        },
        "id": "X6fyNSj0cs7F",
        "outputId": "5259cee5-5b0c-4852-9105-84040e05565f"
      },
      "execution_count": 25,
      "outputs": [
        {
          "output_type": "stream",
          "name": "stdout",
          "text": [
            "100000.0\n"
          ]
        }
      ]
    },
    {
      "cell_type": "code",
      "source": [
        "#229\n",
        " \n",
        "#왼쪽 : 100\n",
        "#오른쪽 : 200"
      ],
      "metadata": {
        "colab": {
          "base_uri": "https://localhost:8080/"
        },
        "id": "w1vaVHgtdsAg",
        "outputId": "2892e3f3-0a42-40a1-eb88-1972b124310c"
      },
      "execution_count": 26,
      "outputs": [
        {
          "output_type": "stream",
          "name": "stdout",
          "text": [
            "왼쪽: 100\n",
            "오른쪽: 200\n"
          ]
        }
      ]
    },
    {
      "cell_type": "code",
      "source": [
        "#230\n",
        "\n",
        "#왼쪽 : 200\n",
        "#오른쪽 : 100\n"
      ],
      "metadata": {
        "colab": {
          "base_uri": "https://localhost:8080/"
        },
        "id": "n9GHtRTBd5En",
        "outputId": "9a171b16-978c-4789-cefc-af7a04f48eee"
      },
      "execution_count": 27,
      "outputs": [
        {
          "output_type": "stream",
          "name": "stdout",
          "text": [
            "왼쪽: 200\n",
            "오른쪽: 100\n"
          ]
        }
      ]
    },
    {
      "cell_type": "code",
      "source": [
        ""
      ],
      "metadata": {
        "id": "dJ-b8nZUeBAn"
      },
      "execution_count": null,
      "outputs": []
    }
  ]
}